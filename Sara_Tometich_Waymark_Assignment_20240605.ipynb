{
  "cells": [
    {
      "cell_type": "markdown",
      "metadata": {
        "id": "view-in-github",
        "colab_type": "text"
      },
      "source": [
        "<a href=\"https://colab.research.google.com/github/sjtometich/takehome/blob/waymark/Sara_Tometich_Waymark_Assignment_20240605.ipynb\" target=\"_parent\"><img src=\"https://colab.research.google.com/assets/colab-badge.svg\" alt=\"Open In Colab\"/></a>"
      ]
    },
    {
      "cell_type": "markdown",
      "metadata": {
        "application/vnd.databricks.v1+cell": {
          "cellMetadata": {
            "byteLimit": 2048000,
            "rowLimit": 10000
          },
          "inputWidgets": {},
          "nuid": "471064f5-85b6-48c3-93d1-4ee1f97a2cbe",
          "showTitle": false,
          "title": ""
        },
        "id": "e8FQ5CYYxEcZ"
      },
      "source": [
        "# Notes\n",
        "\n",
        "- I used databricks to code out the assignment since it has some pre-installed packages for accessing data on s3"
      ]
    },
    {
      "cell_type": "markdown",
      "metadata": {
        "application/vnd.databricks.v1+cell": {
          "cellMetadata": {
            "byteLimit": 2048000,
            "rowLimit": 10000
          },
          "inputWidgets": {},
          "nuid": "f0bed5c3-0f58-47d6-8076-c87f4d9a9a2d",
          "showTitle": false,
          "title": ""
        },
        "id": "wvdEKQ1JxEcb"
      },
      "source": [
        "# Get Data"
      ]
    },
    {
      "cell_type": "code",
      "execution_count": null,
      "metadata": {
        "application/vnd.databricks.v1+cell": {
          "cellMetadata": {
            "byteLimit": 2048000,
            "rowLimit": 10000
          },
          "inputWidgets": {},
          "nuid": "ea622b85-bf99-4f46-9dc7-dd1ae131c2b4",
          "showTitle": false,
          "title": ""
        },
        "id": "teYCnh3HxEcc"
      },
      "outputs": [],
      "source": [
        "from pyspark.sql.functions import to_date, date_format, col, last_day\n",
        "\n",
        "s3_bucket_name = 'waymark-assignment'\n",
        "file_name_1 = 'patient_id_month_year.csv'\n",
        "file_name_2 = 'outpatient_visits_file.csv'\n",
        "patient_id_month_year = f's3://{s3_bucket_name}/{file_name_1}'\n",
        "outpatient_visits_file = f's3://{s3_bucket_name}/{file_name_2}'\n",
        "\n",
        "# Set up AWS credentials\n",
        "spark.conf.set('spark.hadoop.fs.s3.access.key', 'aws_access_key_id')\n",
        "spark.conf.set('spark.hadoop.fs.s3.secret.key', 'aws_secret_access_key')\n",
        "\n",
        "# Load enrollment data\n",
        "enroll = spark.read.options(header='True').csv(patient_id_month_year)\n",
        "# Fix date formatting\n",
        "enroll = enroll.withColumn(\"enrollment_start_date\", date_format(to_date(col(\"month_year\"), \"M/d/yy\"), \"yyyy-MM-dd\"))\n",
        "enroll = enroll.withColumn(\"enrollment_end_date\", last_day(date_format(to_date(col(\"month_year\"), \"M/d/yy\"), \"yyyy-MM-dd\")))\n",
        "\n",
        "# Load outpatient visits\n",
        "op_visits = spark.read.options(header='True').csv(outpatient_visits_file)\n",
        "# Fix date formatting\n",
        "op_visits = op_visits.withColumn(\"visit_date\", date_format(to_date(col(\"date\"), \"M/d/yy\"), \"yyyy-MM-dd\"))"
      ]
    },
    {
      "cell_type": "markdown",
      "metadata": {
        "application/vnd.databricks.v1+cell": {
          "cellMetadata": {
            "byteLimit": 2048000,
            "rowLimit": 10000
          },
          "inputWidgets": {},
          "nuid": "f00336ab-e2bc-4bdd-8b68-af16afe12041",
          "showTitle": false,
          "title": ""
        },
        "id": "5MMIUGYNxEcd"
      },
      "source": [
        "# Enrollment Span"
      ]
    },
    {
      "cell_type": "code",
      "execution_count": null,
      "metadata": {
        "application/vnd.databricks.v1+cell": {
          "cellMetadata": {
            "byteLimit": 2048000,
            "rowLimit": 10000
          },
          "inputWidgets": {},
          "nuid": "d25c633f-8ecb-4044-abf3-d0e83f269015",
          "showTitle": false,
          "title": ""
        },
        "id": "CBZPYuGhxEcd",
        "outputId": "06547e32-c8d0-4939-c95b-3d01d6446971"
      },
      "outputs": [
        {
          "output_type": "stream",
          "name": "stdout",
          "text": [
            "+----------+----------+----+---------------------+-------------------+\n|patient_id|month_year| _c2|enrollment_start_date|enrollment_end_date|\n+----------+----------+----+---------------------+-------------------+\n|    ID0001|    1/1/23|null|           2023-01-01|         2023-01-31|\n|    ID0001|    2/1/23|null|           2023-02-01|         2023-02-28|\n|    ID0001|    3/1/23|null|           2023-03-01|         2023-03-31|\n|    ID0001|    6/1/23|null|           2023-06-01|         2023-06-30|\n|    ID0001|    8/1/23|null|           2023-08-01|         2023-08-31|\n|    ID0001|   11/1/23|null|           2023-11-01|         2023-11-30|\n|    ID0001|   12/1/23|null|           2023-12-01|         2023-12-31|\n|    ID0002|    2/1/23|null|           2023-02-01|         2023-02-28|\n|    ID0002|    3/1/23|null|           2023-03-01|         2023-03-31|\n|    ID0002|    4/1/23|null|           2023-04-01|         2023-04-30|\n|    ID0002|    7/1/23|null|           2023-07-01|         2023-07-31|\n|    ID0002|    9/1/23|null|           2023-09-01|         2023-09-30|\n|    ID0002|   10/1/23|null|           2023-10-01|         2023-10-31|\n|    ID0002|   11/1/23|null|           2023-11-01|         2023-11-30|\n|    ID0002|   12/1/23|null|           2023-12-01|         2023-12-31|\n|    ID0003|    3/1/23|null|           2023-03-01|         2023-03-31|\n|    ID0003|    4/1/23|null|           2023-04-01|         2023-04-30|\n|    ID0003|    6/1/23|null|           2023-06-01|         2023-06-30|\n|    ID0003|    7/1/23|null|           2023-07-01|         2023-07-31|\n|    ID0003|   11/1/23|null|           2023-11-01|         2023-11-30|\n+----------+----------+----+---------------------+-------------------+\nonly showing top 20 rows\n\n"
          ]
        }
      ],
      "source": [
        "# Viewing data to make sure the date transformations are behaving the way I expect\n",
        "\n",
        "enroll.show()"
      ]
    },
    {
      "cell_type": "markdown",
      "metadata": {
        "application/vnd.databricks.v1+cell": {
          "cellMetadata": {
            "byteLimit": 2048000,
            "rowLimit": 10000
          },
          "inputWidgets": {},
          "nuid": "155e6522-f07b-4a52-a1a8-e747e602cd30",
          "showTitle": false,
          "title": ""
        },
        "id": "QIWiPpzsxEce"
      },
      "source": [
        "### Check for Nulls/Blanks"
      ]
    },
    {
      "cell_type": "markdown",
      "metadata": {
        "application/vnd.databricks.v1+cell": {
          "cellMetadata": {
            "byteLimit": 2048000,
            "rowLimit": 10000
          },
          "inputWidgets": {},
          "nuid": "bed2b757-6a78-49bc-b020-1fe1776de3cc",
          "showTitle": false,
          "title": ""
        },
        "id": "_re23hLixEce"
      },
      "source": [
        "#### Nulls"
      ]
    },
    {
      "cell_type": "code",
      "execution_count": null,
      "metadata": {
        "application/vnd.databricks.v1+cell": {
          "cellMetadata": {
            "byteLimit": 2048000,
            "rowLimit": 10000
          },
          "inputWidgets": {},
          "nuid": "4f596db4-d902-4243-b68d-de24b829166e",
          "showTitle": false,
          "title": ""
        },
        "id": "PLr9nO6FxEce",
        "outputId": "8d7f3a11-8e35-4c6f-9dcc-5e23bd8cd611"
      },
      "outputs": [
        {
          "output_type": "stream",
          "name": "stdout",
          "text": [
            "Out[64]: 1039817"
          ]
        }
      ],
      "source": [
        "from pyspark.sql.functions import col\n",
        "\n",
        "enroll.filter(col(\"patient_id\").isNull()).count()"
      ]
    },
    {
      "cell_type": "code",
      "execution_count": null,
      "metadata": {
        "application/vnd.databricks.v1+cell": {
          "cellMetadata": {
            "byteLimit": 2048000,
            "rowLimit": 10000
          },
          "inputWidgets": {},
          "nuid": "636b3cd4-87da-4d66-b108-23f00854f322",
          "showTitle": false,
          "title": ""
        },
        "id": "E9cmnVsIxEce",
        "outputId": "d4ce4ef0-9034-429f-f34d-76ec08342dfa"
      },
      "outputs": [
        {
          "output_type": "stream",
          "name": "stdout",
          "text": [
            "Out[65]: 1039817"
          ]
        }
      ],
      "source": [
        "from pyspark.sql.functions import col\n",
        "\n",
        "enroll.filter(col(\"month_year\").isNull()).count()"
      ]
    },
    {
      "cell_type": "code",
      "execution_count": null,
      "metadata": {
        "application/vnd.databricks.v1+cell": {
          "cellMetadata": {
            "byteLimit": 2048000,
            "rowLimit": 10000
          },
          "inputWidgets": {},
          "nuid": "94be77b5-6ba9-463b-aca7-3e204e1f1eb0",
          "showTitle": false,
          "title": ""
        },
        "id": "bA0tlgOJxEce",
        "outputId": "be0271d8-2db3-4e6f-ca44-0c040bb0ddb8"
      },
      "outputs": [
        {
          "output_type": "stream",
          "name": "stdout",
          "text": [
            "Out[66]: 1039817"
          ]
        }
      ],
      "source": [
        "from pyspark.sql.functions import col\n",
        "\n",
        "enroll.filter(col(\"enrollment_start_date\").isNull()).count()"
      ]
    },
    {
      "cell_type": "code",
      "execution_count": null,
      "metadata": {
        "application/vnd.databricks.v1+cell": {
          "cellMetadata": {
            "byteLimit": 2048000,
            "rowLimit": 10000
          },
          "inputWidgets": {},
          "nuid": "227e7fd7-638c-41f4-92b3-9e71d7f80432",
          "showTitle": false,
          "title": ""
        },
        "id": "F9p1rj1jxEcf",
        "outputId": "acc41d08-a09f-49ab-9727-62ac0461e535"
      },
      "outputs": [
        {
          "output_type": "stream",
          "name": "stdout",
          "text": [
            "Out[67]: 1039817"
          ]
        }
      ],
      "source": [
        "from pyspark.sql.functions import col\n",
        "\n",
        "enroll.filter(col(\"enrollment_end_date\").isNull()).count()"
      ]
    },
    {
      "cell_type": "markdown",
      "metadata": {
        "application/vnd.databricks.v1+cell": {
          "cellMetadata": {
            "byteLimit": 2048000,
            "rowLimit": 10000
          },
          "inputWidgets": {},
          "nuid": "e67f678f-28bc-45eb-8d5c-1b38913e0d96",
          "showTitle": false,
          "title": ""
        },
        "id": "aKCFfCuExEcf"
      },
      "source": [
        "#### Blanks"
      ]
    },
    {
      "cell_type": "code",
      "execution_count": null,
      "metadata": {
        "application/vnd.databricks.v1+cell": {
          "cellMetadata": {
            "byteLimit": 2048000,
            "rowLimit": 10000
          },
          "inputWidgets": {},
          "nuid": "f2376701-c3f2-4c6f-a1cc-671e33f4d254",
          "showTitle": false,
          "title": ""
        },
        "id": "Jt1wdg0kxEcf",
        "outputId": "9fc4cfc4-7089-4e51-d490-a622d459955b"
      },
      "outputs": [
        {
          "output_type": "stream",
          "name": "stdout",
          "text": [
            "Out[68]: 0"
          ]
        }
      ],
      "source": [
        "from pyspark.sql.functions import col\n",
        "\n",
        "enroll.filter(col(\"patient_id\") == \"\").count()"
      ]
    },
    {
      "cell_type": "code",
      "execution_count": null,
      "metadata": {
        "application/vnd.databricks.v1+cell": {
          "cellMetadata": {
            "byteLimit": 2048000,
            "rowLimit": 10000
          },
          "inputWidgets": {},
          "nuid": "5ffeba60-a7e1-452b-949f-e07b791b6b70",
          "showTitle": false,
          "title": ""
        },
        "id": "Ks88c-mVxEcf",
        "outputId": "6be1a60a-d222-477a-9d5b-59a9f044a902"
      },
      "outputs": [
        {
          "output_type": "stream",
          "name": "stdout",
          "text": [
            "Out[69]: 0"
          ]
        }
      ],
      "source": [
        "from pyspark.sql.functions import col\n",
        "\n",
        "enroll.filter(col(\"month_year\") == \"\").count()"
      ]
    },
    {
      "cell_type": "code",
      "execution_count": null,
      "metadata": {
        "application/vnd.databricks.v1+cell": {
          "cellMetadata": {
            "byteLimit": 2048000,
            "rowLimit": 10000
          },
          "inputWidgets": {},
          "nuid": "d7031060-0320-4af1-ba43-81aeb9377512",
          "showTitle": false,
          "title": ""
        },
        "id": "JzABWVfbxEcg",
        "outputId": "113dccf6-8769-4650-df7c-be924766ed7f"
      },
      "outputs": [
        {
          "output_type": "stream",
          "name": "stdout",
          "text": [
            "Out[70]: 0"
          ]
        }
      ],
      "source": [
        "from pyspark.sql.functions import col\n",
        "\n",
        "enroll.filter(col(\"enrollment_start_date\") == \"\").count()"
      ]
    },
    {
      "cell_type": "code",
      "execution_count": null,
      "metadata": {
        "application/vnd.databricks.v1+cell": {
          "cellMetadata": {
            "byteLimit": 2048000,
            "rowLimit": 10000
          },
          "inputWidgets": {},
          "nuid": "808d04ff-7fd4-4104-9c20-f899549099b4",
          "showTitle": false,
          "title": ""
        },
        "id": "oCObw7DzxEcg",
        "outputId": "c08e337a-9a04-44a8-d4de-b0f777817ad8"
      },
      "outputs": [
        {
          "output_type": "stream",
          "name": "stdout",
          "text": [
            "Out[71]: 0"
          ]
        }
      ],
      "source": [
        "from pyspark.sql.functions import col\n",
        "\n",
        "enroll.filter(col(\"enrollment_end_date\") == \"\").count()"
      ]
    },
    {
      "cell_type": "markdown",
      "metadata": {
        "application/vnd.databricks.v1+cell": {
          "cellMetadata": {
            "byteLimit": 2048000,
            "rowLimit": 10000
          },
          "inputWidgets": {},
          "nuid": "57a742c8-137a-48b5-ba1c-3ff5cfe88eb7",
          "showTitle": false,
          "title": ""
        },
        "id": "-_KRZleWxEcg"
      },
      "source": [
        "### Total Row Count"
      ]
    },
    {
      "cell_type": "code",
      "execution_count": null,
      "metadata": {
        "application/vnd.databricks.v1+cell": {
          "cellMetadata": {
            "byteLimit": 2048000,
            "rowLimit": 10000
          },
          "inputWidgets": {},
          "nuid": "c7e06996-e8b1-4d92-bc4e-d2c96b75d866",
          "showTitle": false,
          "title": ""
        },
        "id": "10ADy84axEcg",
        "outputId": "777d4aef-8ddd-4851-dcff-36b9a6076879"
      },
      "outputs": [
        {
          "output_type": "stream",
          "name": "stdout",
          "text": [
            "Out[72]: 1047126"
          ]
        }
      ],
      "source": [
        "# Total row count\n",
        "\n",
        "enroll.count()"
      ]
    },
    {
      "cell_type": "markdown",
      "metadata": {
        "application/vnd.databricks.v1+cell": {
          "cellMetadata": {
            "byteLimit": 2048000,
            "rowLimit": 10000
          },
          "inputWidgets": {},
          "nuid": "c06ddfdc-9a83-4303-a813-07b38893d738",
          "showTitle": false,
          "title": ""
        },
        "id": "llEfSmvIxEch"
      },
      "source": [
        "### Clean Data\n",
        "\n",
        "- Drop nulls, no longer needed columns, and duplicates"
      ]
    },
    {
      "cell_type": "code",
      "execution_count": null,
      "metadata": {
        "application/vnd.databricks.v1+cell": {
          "cellMetadata": {
            "byteLimit": 2048000,
            "rowLimit": 10000
          },
          "inputWidgets": {},
          "nuid": "7e31e1de-521b-4c3a-8a48-f88ece9cd63a",
          "showTitle": false,
          "title": ""
        },
        "id": "O8WbqwoOxEch"
      },
      "outputs": [],
      "source": [
        "# Drop extra null columns\n",
        "from pyspark.sql.functions import col\n",
        "\n",
        "enroll_upd = enroll.drop('_c2', 'month_year')\n",
        "\n",
        "# Remove duplicates and remove rows where patient ID is null\n",
        "enroll_clean = enroll_upd.dropDuplicates().filter(col(\"patient_id\").isNotNull())"
      ]
    },
    {
      "cell_type": "markdown",
      "metadata": {
        "application/vnd.databricks.v1+cell": {
          "cellMetadata": {
            "byteLimit": 2048000,
            "rowLimit": 10000
          },
          "inputWidgets": {},
          "nuid": "cdea639c-f4b4-4cc3-8791-d5321ec4addc",
          "showTitle": false,
          "title": ""
        },
        "id": "shaoIcYIxEch"
      },
      "source": [
        "#### Double checks after data cleaing\n",
        "\n",
        "- Final schema contains the columns we want and in the right format"
      ]
    },
    {
      "cell_type": "code",
      "execution_count": null,
      "metadata": {
        "application/vnd.databricks.v1+cell": {
          "cellMetadata": {
            "byteLimit": 2048000,
            "rowLimit": 10000
          },
          "inputWidgets": {},
          "nuid": "dfbe4a75-dea1-479b-978e-c9c3a74acd41",
          "showTitle": false,
          "title": ""
        },
        "id": "r-xW6g3JxEch",
        "outputId": "633fb3ed-887c-42fb-ba3e-9976f4b45603"
      },
      "outputs": [
        {
          "output_type": "stream",
          "name": "stdout",
          "text": [
            "Out[74]: 7309"
          ]
        }
      ],
      "source": [
        "enroll_clean.count()"
      ]
    },
    {
      "cell_type": "code",
      "execution_count": null,
      "metadata": {
        "application/vnd.databricks.v1+cell": {
          "cellMetadata": {
            "byteLimit": 2048000,
            "rowLimit": 10000
          },
          "inputWidgets": {},
          "nuid": "4a0213da-2b01-4f1f-be7a-a947634344ab",
          "showTitle": false,
          "title": ""
        },
        "id": "rjiu58QAxEch",
        "outputId": "ca3c864b-ed91-4c9b-be29-6ccfd2edb9ba"
      },
      "outputs": [
        {
          "output_type": "stream",
          "name": "stdout",
          "text": [
            "+----------+---------------------+-------------------+\n|patient_id|enrollment_start_date|enrollment_end_date|\n+----------+---------------------+-------------------+\n|    ID0002|           2023-09-01|         2023-09-30|\n|    ID0002|           2023-03-01|         2023-03-31|\n|    ID0001|           2023-01-01|         2023-01-31|\n|    ID0003|           2023-06-01|         2023-06-30|\n|    ID0003|           2023-04-01|         2023-04-30|\n|    ID0003|           2023-03-01|         2023-03-31|\n|    ID0003|           2023-12-01|         2023-12-31|\n|    ID0001|           2023-02-01|         2023-02-28|\n|    ID0001|           2023-06-01|         2023-06-30|\n|    ID0002|           2023-10-01|         2023-10-31|\n|    ID0002|           2023-02-01|         2023-02-28|\n|    ID0002|           2023-12-01|         2023-12-31|\n|    ID0001|           2023-11-01|         2023-11-30|\n|    ID0003|           2023-07-01|         2023-07-31|\n|    ID0001|           2023-12-01|         2023-12-31|\n|    ID0002|           2023-11-01|         2023-11-30|\n|    ID0003|           2023-11-01|         2023-11-30|\n|    ID0002|           2023-04-01|         2023-04-30|\n|    ID0001|           2023-03-01|         2023-03-31|\n|    ID0002|           2023-07-01|         2023-07-31|\n+----------+---------------------+-------------------+\nonly showing top 20 rows\n\n"
          ]
        }
      ],
      "source": [
        "enroll_clean.show()"
      ]
    },
    {
      "cell_type": "markdown",
      "metadata": {
        "application/vnd.databricks.v1+cell": {
          "cellMetadata": {
            "byteLimit": 2048000,
            "rowLimit": 10000
          },
          "inputWidgets": {},
          "nuid": "acfdf361-b229-4663-86b8-3705b6dc2b84",
          "showTitle": false,
          "title": ""
        },
        "id": "L3NBx7FpxEch"
      },
      "source": [
        "## Write & Read Enrollment Span CSV"
      ]
    },
    {
      "cell_type": "code",
      "execution_count": null,
      "metadata": {
        "application/vnd.databricks.v1+cell": {
          "cellMetadata": {
            "byteLimit": 2048000,
            "rowLimit": 10000
          },
          "inputWidgets": {},
          "nuid": "29e954f7-b63f-4cc4-b248-250ab7eac894",
          "showTitle": false,
          "title": ""
        },
        "id": "NlrLxnm2xEci"
      },
      "outputs": [],
      "source": [
        "# s3_output_path = \"s3://waymark-assignment/enrollment_span.csv\"\n",
        "# enroll_clean.write.option(\"header\", True).mode(\"overwrite\").csv(s3_output_path)\n",
        "\n",
        "local_output_path = \"/Users/saratometich/Downloads/enrollment_span.csv\"\n",
        "enroll_clean.write.option(\"header\", True).mode(\"overwrite\").csv(local_output_path)"
      ]
    },
    {
      "cell_type": "code",
      "execution_count": null,
      "metadata": {
        "application/vnd.databricks.v1+cell": {
          "cellMetadata": {
            "byteLimit": 2048000,
            "rowLimit": 10000
          },
          "inputWidgets": {},
          "nuid": "5286265b-c32f-4c74-9a8d-b8b5d8b5e94c",
          "showTitle": false,
          "title": ""
        },
        "id": "HTpvM_EtxEci"
      },
      "outputs": [],
      "source": [
        "enrollment_span_csv = spark.read.options(header='True').csv(\"/Users/saratometich/Downloads/enrollment_span.csv\")"
      ]
    },
    {
      "cell_type": "markdown",
      "metadata": {
        "application/vnd.databricks.v1+cell": {
          "cellMetadata": {
            "byteLimit": 2048000,
            "rowLimit": 10000
          },
          "inputWidgets": {},
          "nuid": "641424ed-b5ad-43a3-a2b6-301f7c6b64e6",
          "showTitle": false,
          "title": ""
        },
        "id": "Fmo-XBb4xEci"
      },
      "source": [
        "# Answer 1\n",
        "\n",
        "Report the number of rows in patient_enrollment_span.csv\n",
        "\n",
        "ANSWER: 7309"
      ]
    },
    {
      "cell_type": "code",
      "execution_count": null,
      "metadata": {
        "application/vnd.databricks.v1+cell": {
          "cellMetadata": {
            "byteLimit": 2048000,
            "rowLimit": 10000
          },
          "inputWidgets": {},
          "nuid": "195f71b5-6a3d-472f-94b6-ae5243364414",
          "showTitle": false,
          "title": ""
        },
        "id": "z2Wt-5baxEci",
        "outputId": "aa2472b7-2750-4616-fa10-67bd25db104e"
      },
      "outputs": [
        {
          "output_type": "stream",
          "name": "stdout",
          "text": [
            "Out[78]: 7309"
          ]
        }
      ],
      "source": [
        "enrollment_span_csv.count()"
      ]
    },
    {
      "cell_type": "markdown",
      "metadata": {
        "application/vnd.databricks.v1+cell": {
          "cellMetadata": {
            "byteLimit": 2048000,
            "rowLimit": 10000
          },
          "inputWidgets": {},
          "nuid": "692930ea-abd6-44dc-9a24-bffeebee3e58",
          "showTitle": false,
          "title": ""
        },
        "id": "U84yx2F4xEci"
      },
      "source": [
        "# Outpatient Visits"
      ]
    },
    {
      "cell_type": "markdown",
      "metadata": {
        "application/vnd.databricks.v1+cell": {
          "cellMetadata": {
            "byteLimit": 2048000,
            "rowLimit": 10000
          },
          "inputWidgets": {},
          "nuid": "7f41ec86-9203-4be8-9633-dc0077ccf712",
          "showTitle": false,
          "title": ""
        },
        "id": "K71SkR_PxEci"
      },
      "source": []
    },
    {
      "cell_type": "code",
      "execution_count": null,
      "metadata": {
        "application/vnd.databricks.v1+cell": {
          "cellMetadata": {
            "byteLimit": 2048000,
            "rowLimit": 10000
          },
          "inputWidgets": {},
          "nuid": "bf78e4f9-ded0-420f-b3f7-d8d2aeeb484c",
          "showTitle": false,
          "title": ""
        },
        "id": "kCcWGnM_xEci",
        "outputId": "9a273562-b91b-4853-b4f1-ab8eee3c758c"
      },
      "outputs": [
        {
          "output_type": "stream",
          "name": "stdout",
          "text": [
            "+----------+--------+----------------------+----+----+----+----+----+----------+\n|patient_id|    date|outpatient_visit_count| _c3| _c4| _c5| _c6| _c7|visit_date|\n+----------+--------+----------------------+----+----+----+----+----+----------+\n|    ID0001|  1/3/23|                     2|null|null|null|null|null|2023-01-03|\n|    ID0001|  1/8/23|                     2|null|null|null|null|null|2023-01-08|\n|    ID0001|  1/9/23|                     2|null|null|null|null|null|2023-01-09|\n|    ID0001| 1/15/23|                     2|null|null|null|null|null|2023-01-15|\n|    ID0001| 1/21/23|                     4|null|null|null|null|null|2023-01-21|\n|    ID0001| 1/25/23|                     1|null|null|null|null|null|2023-01-25|\n|    ID0001| 3/11/23|                     3|null|null|null|null|null|2023-03-11|\n|    ID0001| 3/22/23|                     1|null|null|null|null|null|2023-03-22|\n|    ID0001|  6/3/23|                     2|null|null|null|null|null|2023-06-03|\n|    ID0001|  6/3/23|                     1|null|null|null|null|null|2023-06-03|\n|    ID0001| 6/14/23|                     3|null|null|null|null|null|2023-06-14|\n|    ID0001| 7/17/23|                     4|null|null|null|null|null|2023-07-17|\n|    ID0001| 8/12/23|                     3|null|null|null|null|null|2023-08-12|\n|    ID0001| 8/31/23|                     3|null|null|null|null|null|2023-08-31|\n|    ID0001|  9/6/23|                     4|null|null|null|null|null|2023-09-06|\n|    ID0001|  9/6/23|                     2|null|null|null|null|null|2023-09-06|\n|    ID0001| 9/17/23|                     1|null|null|null|null|null|2023-09-17|\n|    ID0001|11/13/23|                     2|null|null|null|null|null|2023-11-13|\n|    ID0001|11/30/23|                     1|null|null|null|null|null|2023-11-30|\n|    ID0001|12/15/23|                     2|null|null|null|null|null|2023-12-15|\n+----------+--------+----------------------+----+----+----+----+----+----------+\nonly showing top 20 rows\n\n"
          ]
        }
      ],
      "source": [
        "# Viewing data to make sure the date transformations are behaving the way I expect\n",
        "\n",
        "op_visits.show()"
      ]
    },
    {
      "cell_type": "markdown",
      "metadata": {
        "application/vnd.databricks.v1+cell": {
          "cellMetadata": {
            "byteLimit": 2048000,
            "rowLimit": 10000
          },
          "inputWidgets": {},
          "nuid": "1b6a1300-e49b-4ea3-ac09-c8156511ed3a",
          "showTitle": false,
          "title": ""
        },
        "id": "sRlpxX_mxEci"
      },
      "source": [
        "### Clean Data"
      ]
    },
    {
      "cell_type": "code",
      "execution_count": null,
      "metadata": {
        "application/vnd.databricks.v1+cell": {
          "cellMetadata": {
            "byteLimit": 2048000,
            "rowLimit": 10000
          },
          "inputWidgets": {},
          "nuid": "2187ce41-6ad3-4d3a-9b13-ade43523a478",
          "showTitle": false,
          "title": ""
        },
        "id": "eizW17-ixEcj"
      },
      "outputs": [],
      "source": [
        "# Drop extra null columns\n",
        "from pyspark.sql.functions import col\n",
        "\n",
        "op_visits_upd = op_visits.drop('_c3', '_c4', '_c5', '_c6', '_c7', 'date')\n",
        "\n",
        "# Remove duplicates and remove rows where patient ID is null\n",
        "op_visits_clean = op_visits_upd.dropDuplicates().filter(col(\"patient_id\").isNotNull())"
      ]
    },
    {
      "cell_type": "markdown",
      "metadata": {
        "application/vnd.databricks.v1+cell": {
          "cellMetadata": {
            "byteLimit": 2048000,
            "rowLimit": 10000
          },
          "inputWidgets": {},
          "nuid": "d810dcf6-1542-43e7-8de3-d574cbd9840b",
          "showTitle": false,
          "title": ""
        },
        "id": "IJuITsBaxEcj"
      },
      "source": [
        "#### Double checks after data cleaing\n",
        "\n",
        "- Final schema contains the columns we want and in the right format"
      ]
    },
    {
      "cell_type": "code",
      "execution_count": null,
      "metadata": {
        "application/vnd.databricks.v1+cell": {
          "cellMetadata": {
            "byteLimit": 2048000,
            "rowLimit": 10000
          },
          "inputWidgets": {},
          "nuid": "a489806d-24e4-4c80-a9ee-5b8d8c3171e9",
          "showTitle": false,
          "title": ""
        },
        "id": "79y3wd_2xEcj",
        "outputId": "7c9bbfa0-aad7-4c02-faf9-1b8d5d13384f"
      },
      "outputs": [
        {
          "output_type": "stream",
          "name": "stdout",
          "text": [
            "Out[81]: 1043905"
          ]
        }
      ],
      "source": [
        "op_visits.count()"
      ]
    },
    {
      "cell_type": "code",
      "execution_count": null,
      "metadata": {
        "application/vnd.databricks.v1+cell": {
          "cellMetadata": {
            "byteLimit": 2048000,
            "rowLimit": 10000
          },
          "inputWidgets": {},
          "nuid": "fb7d210a-13cb-422e-843e-13b4c988f265",
          "showTitle": false,
          "title": ""
        },
        "id": "D31ynNCxxEcj",
        "outputId": "a241de69-c611-44fb-bbd6-d23b4a5a496e"
      },
      "outputs": [
        {
          "output_type": "stream",
          "name": "stdout",
          "text": [
            "Out[82]: 15196"
          ]
        }
      ],
      "source": [
        "op_visits_clean.count()"
      ]
    },
    {
      "cell_type": "code",
      "execution_count": null,
      "metadata": {
        "application/vnd.databricks.v1+cell": {
          "cellMetadata": {
            "byteLimit": 2048000,
            "rowLimit": 10000
          },
          "inputWidgets": {},
          "nuid": "90333b30-4084-4ad2-b48e-128a8afcc167",
          "showTitle": false,
          "title": ""
        },
        "id": "gO4M3j0UxEcj",
        "outputId": "ae061dbf-4619-48a1-ac83-705b2b27b8e8"
      },
      "outputs": [
        {
          "output_type": "stream",
          "name": "stdout",
          "text": [
            "+----------+----------------------+----------+\n|patient_id|outpatient_visit_count|visit_date|\n+----------+----------------------+----------+\n|    ID0001|                     1|2023-03-22|\n|    ID0001|                     1|2023-09-17|\n|    ID0001|                     3|2023-06-14|\n|    ID0002|                     1|2023-01-15|\n|    ID0001|                     2|2023-09-06|\n|    ID0001|                     4|2023-07-17|\n|    ID0001|                     2|2023-11-13|\n|    ID0001|                     3|2023-08-31|\n|    ID0001|                     2|2023-12-15|\n|    ID0001|                     4|2023-01-21|\n|    ID0001|                     1|2023-01-25|\n|    ID0001|                     2|2023-06-03|\n|    ID0001|                     2|2023-01-03|\n|    ID0001|                     2|2023-01-15|\n|    ID0001|                     2|2023-01-08|\n|    ID0001|                     2|2023-01-09|\n|    ID0001|                     4|2023-09-06|\n|    ID0001|                     1|2023-06-03|\n|    ID0001|                     3|2023-08-12|\n|    ID0001|                     3|2023-03-11|\n+----------+----------------------+----------+\nonly showing top 20 rows\n\n"
          ]
        }
      ],
      "source": [
        "op_visits_clean.show()"
      ]
    },
    {
      "cell_type": "markdown",
      "metadata": {
        "application/vnd.databricks.v1+cell": {
          "cellMetadata": {
            "byteLimit": 2048000,
            "rowLimit": 10000
          },
          "inputWidgets": {},
          "nuid": "5a3b9ab8-046a-46ce-8920-f058d51ab4ac",
          "showTitle": false,
          "title": ""
        },
        "id": "AzhEvBVOxEcj"
      },
      "source": [
        "## ct_outpatient_visits\n",
        "\n",
        "The number of outpatient visits a patient had within the enrollment period (between enrollment_start_date and enrollment_end_date)"
      ]
    },
    {
      "cell_type": "markdown",
      "metadata": {
        "application/vnd.databricks.v1+cell": {
          "cellMetadata": {
            "byteLimit": 2048000,
            "rowLimit": 10000
          },
          "inputWidgets": {},
          "nuid": "7f7b5d9f-366b-457a-8a66-1db5a93c7418",
          "showTitle": false,
          "title": ""
        },
        "id": "9AZ9aAmnxEck"
      },
      "source": [
        "### Code"
      ]
    },
    {
      "cell_type": "code",
      "execution_count": null,
      "metadata": {
        "application/vnd.databricks.v1+cell": {
          "cellMetadata": {
            "byteLimit": 2048000,
            "rowLimit": 10000
          },
          "inputWidgets": {},
          "nuid": "055e1636-5837-443d-a02b-219adb828445",
          "showTitle": false,
          "title": ""
        },
        "id": "iOLqocpjxEck"
      },
      "outputs": [],
      "source": [
        "from pyspark.sql.functions import col, coalesce, lit, sum as pyspark_sum\n",
        "\n",
        "joined_df = enrollment_span_csv.join(op_visits,\n",
        "                                 (op_visits.patient_id == enrollment_span_csv.patient_id) &\n",
        "                                 (op_visits.visit_date <= enrollment_span_csv.enrollment_end_date) &\n",
        "                                 (op_visits.visit_date >= enrollment_span_csv.enrollment_start_date),\n",
        "                                 \"left\")\n",
        "\n",
        "grouped_df = joined_df.groupBy(\"enrollment_start_date\", \"enrollment_end_date\", enrollment_span_csv[\"patient_id\"].alias(\"patient_id\"))\n",
        "\n",
        "ct_outpatient_visits = grouped_df.agg(coalesce(pyspark_sum(\"outpatient_visit_count\"), lit(0)).alias(\"ct_outpatient_visits\"))"
      ]
    },
    {
      "cell_type": "markdown",
      "metadata": {
        "application/vnd.databricks.v1+cell": {
          "cellMetadata": {
            "byteLimit": 2048000,
            "rowLimit": 10000
          },
          "inputWidgets": {},
          "nuid": "fb438679-6864-4173-97fa-c88684b005c1",
          "showTitle": false,
          "title": ""
        },
        "id": "2a5DK0NpxEck"
      },
      "source": [
        "### Checks"
      ]
    },
    {
      "cell_type": "code",
      "execution_count": null,
      "metadata": {
        "application/vnd.databricks.v1+cell": {
          "cellMetadata": {
            "byteLimit": 2048000,
            "rowLimit": 10000
          },
          "inputWidgets": {},
          "nuid": "edc354e3-377f-4a40-9680-9884f2cfafee",
          "showTitle": false,
          "title": ""
        },
        "id": "Ug5UfPClxEck",
        "outputId": "702e3ca8-f8b5-487f-db48-40a7a8b7d81e"
      },
      "outputs": [
        {
          "output_type": "stream",
          "name": "stdout",
          "text": [
            "Out[85]: 7309"
          ]
        }
      ],
      "source": [
        "# Expect no records lost from enrollment span to this point\n",
        "\n",
        "ct_outpatient_visits.count()"
      ]
    },
    {
      "cell_type": "markdown",
      "metadata": {
        "application/vnd.databricks.v1+cell": {
          "cellMetadata": {
            "byteLimit": 2048000,
            "rowLimit": 10000
          },
          "inputWidgets": {},
          "nuid": "bda29fa8-993e-40f1-afab-a8fd2e9fd696",
          "showTitle": false,
          "title": ""
        },
        "id": "gRPh2XH1xEcl"
      },
      "source": [
        "## ct_days_with_outpatient_visit\n",
        "\n",
        "The number of distinct days within an enrollment period (between enrollment_start_date and enrollment_end_date) when the patient had one or more outpatient visit"
      ]
    },
    {
      "cell_type": "markdown",
      "metadata": {
        "application/vnd.databricks.v1+cell": {
          "cellMetadata": {
            "byteLimit": 2048000,
            "rowLimit": 10000
          },
          "inputWidgets": {},
          "nuid": "34923ee1-c16f-4e06-9e2d-7c6d0fd8e91f",
          "showTitle": false,
          "title": ""
        },
        "id": "90GIxB-IxEcl"
      },
      "source": [
        "### Code"
      ]
    },
    {
      "cell_type": "code",
      "execution_count": null,
      "metadata": {
        "application/vnd.databricks.v1+cell": {
          "cellMetadata": {
            "byteLimit": 2048000,
            "rowLimit": 10000
          },
          "inputWidgets": {},
          "nuid": "06918724-6390-43f9-8b16-80aafcffbb92",
          "showTitle": false,
          "title": ""
        },
        "id": "y57IZGuExEcl"
      },
      "outputs": [],
      "source": [
        "from pyspark.sql.functions import col, countDistinct, sum as pyspark_sum\n",
        "\n",
        "joined_df = enrollment_span_csv.join(op_visits,\n",
        "                                 (op_visits.patient_id == enrollment_span_csv.patient_id) &\n",
        "                                 (op_visits.visit_date <= enrollment_span_csv.enrollment_end_date) &\n",
        "                                 (op_visits.visit_date >= enrollment_span_csv.enrollment_start_date),\n",
        "                                 \"left\")\n",
        "\n",
        "grouped_df = joined_df.groupBy(enrollment_span_csv[\"patient_id\"].alias(\"patient_id\"), \"enrollment_start_date\", \"enrollment_end_date\")\n",
        "\n",
        "result_df = grouped_df.agg(countDistinct(\"visit_date\").alias(\"ct_days_with_outpatient_visit\"),\n",
        "                           pyspark_sum(\"outpatient_visit_count\").alias(\"sum_outpatient_visit_count\"))\n",
        "\n",
        "result_df = result_df.filter(col(\"sum_outpatient_visit_count\") >= 1)\n",
        "\n",
        "ct_days_with_outpatient_visit = result_df.drop(\"sum_outpatient_visit_count\")"
      ]
    },
    {
      "cell_type": "code",
      "execution_count": null,
      "metadata": {
        "application/vnd.databricks.v1+cell": {
          "cellMetadata": {
            "byteLimit": 2048000,
            "rowLimit": 10000
          },
          "inputWidgets": {},
          "nuid": "e743c0a4-e857-47e3-b8ed-b7fe1c1fd234",
          "showTitle": false,
          "title": ""
        },
        "id": "dUmkGZdZxEcl",
        "outputId": "0a92bcd3-f8e7-4b95-a80c-baf19593423a"
      },
      "outputs": [
        {
          "output_type": "stream",
          "name": "stdout",
          "text": [
            "+----------+---------------------+-------------------+-----------------------------+\n|patient_id|enrollment_start_date|enrollment_end_date|ct_days_with_outpatient_visit|\n+----------+---------------------+-------------------+-----------------------------+\n|    ID0852|           2023-10-01|         2023-10-31|                            3|\n|    ID0014|           2023-05-01|         2023-05-31|                            3|\n|    ID0061|           2023-12-01|         2023-12-31|                            3|\n|    ID0889|           2023-05-01|         2023-05-31|                            2|\n|    ID0070|           2023-01-01|         2023-01-31|                            3|\n|    ID0530|           2023-09-01|         2023-09-30|                            1|\n|    ID0512|           2023-04-01|         2023-04-30|                            3|\n|    ID0480|           2023-05-01|         2023-05-31|                            2|\n|    ID0432|           2023-03-01|         2023-03-31|                            3|\n|    ID0628|           2023-11-01|         2023-11-30|                            4|\n|    ID0088|           2023-07-01|         2023-07-31|                            2|\n|    ID0464|           2023-06-01|         2023-06-30|                            3|\n|    ID0838|           2023-12-01|         2023-12-31|                            4|\n|    ID0489|           2023-12-01|         2023-12-31|                            1|\n|    ID0094|           2023-11-01|         2023-11-30|                            1|\n|    ID0497|           2023-10-01|         2023-10-31|                            4|\n|    ID0734|           2023-04-01|         2023-04-30|                            2|\n|    ID0240|           2023-11-01|         2023-11-30|                            2|\n|    ID0437|           2023-07-01|         2023-07-31|                            2|\n|    ID0084|           2023-01-01|         2023-01-31|                            1|\n+----------+---------------------+-------------------+-----------------------------+\nonly showing top 20 rows\n\n"
          ]
        }
      ],
      "source": [
        "ct_days_with_outpatient_visit.show()"
      ]
    },
    {
      "cell_type": "markdown",
      "metadata": {
        "application/vnd.databricks.v1+cell": {
          "cellMetadata": {
            "byteLimit": 2048000,
            "rowLimit": 10000
          },
          "inputWidgets": {},
          "nuid": "8340be46-e3df-4c88-85ce-f86c03447b8d",
          "showTitle": false,
          "title": ""
        },
        "id": "JbTuzPRdxEcl"
      },
      "source": [
        "### Checks"
      ]
    },
    {
      "cell_type": "code",
      "execution_count": null,
      "metadata": {
        "application/vnd.databricks.v1+cell": {
          "cellMetadata": {
            "byteLimit": 2048000,
            "rowLimit": 10000
          },
          "inputWidgets": {},
          "nuid": "5f238636-8a90-409a-a630-c9cefb1bc42d",
          "showTitle": false,
          "title": ""
        },
        "id": "i32qH5N6xEcl",
        "outputId": "ae48a5c1-824c-4952-c758-acb8e2867e96"
      },
      "outputs": [
        {
          "output_type": "stream",
          "name": "stdout",
          "text": [
            "Out[88]: 4532"
          ]
        }
      ],
      "source": [
        "# Expect either no records lost OR some records lost\n",
        "\n",
        "ct_days_with_outpatient_visit.count()"
      ]
    },
    {
      "cell_type": "markdown",
      "metadata": {
        "application/vnd.databricks.v1+cell": {
          "cellMetadata": {
            "byteLimit": 2048000,
            "rowLimit": 10000
          },
          "inputWidgets": {},
          "nuid": "e98d17ed-13a2-4cbc-8d58-901eca8159c5",
          "showTitle": false,
          "title": ""
        },
        "id": "M66zuOXKxEcl"
      },
      "source": [
        "# Results CSV"
      ]
    },
    {
      "cell_type": "code",
      "execution_count": null,
      "metadata": {
        "application/vnd.databricks.v1+cell": {
          "cellMetadata": {
            "byteLimit": 2048000,
            "rowLimit": 10000
          },
          "inputWidgets": {},
          "nuid": "70337b9a-6a67-4a2a-a3ba-4e02347671ca",
          "showTitle": false,
          "title": ""
        },
        "id": "KMK_rhMHxEcm"
      },
      "outputs": [],
      "source": [
        "# Need to join the two outpatient results to get the final schema\n",
        "from pyspark.sql.functions import col\n",
        "\n",
        "joined_df = ct_outpatient_visits.join(ct_days_with_outpatient_visit,\n",
        "                                 (ct_days_with_outpatient_visit.patient_id == ct_outpatient_visits.patient_id) &\n",
        "                                 (ct_days_with_outpatient_visit.enrollment_start_date == ct_outpatient_visits.enrollment_start_date) &\n",
        "                                 (ct_days_with_outpatient_visit.enrollment_end_date == ct_outpatient_visits.enrollment_end_date),\n",
        "                                 \"left\")\n",
        "\n",
        "result_df = joined_df.select(ct_outpatient_visits.patient_id, ct_outpatient_visits.enrollment_start_date, ct_outpatient_visits.enrollment_end_date, \"ct_outpatient_visits\", coalesce(\"ct_days_with_outpatient_visit\", lit(0)).alias(\"ct_days_with_outpatient_visit\")\n",
        ").distinct()"
      ]
    },
    {
      "cell_type": "code",
      "execution_count": null,
      "metadata": {
        "application/vnd.databricks.v1+cell": {
          "cellMetadata": {
            "byteLimit": 2048000,
            "rowLimit": 10000
          },
          "inputWidgets": {},
          "nuid": "f95faed9-5df6-40c7-89d2-3531cdd9c647",
          "showTitle": false,
          "title": ""
        },
        "id": "DNVJyJkMxEcm",
        "outputId": "54551ba5-ab92-4eae-b02b-eb43453fa1ca"
      },
      "outputs": [
        {
          "output_type": "stream",
          "name": "stdout",
          "text": [
            "+----------+---------------------+-------------------+--------------------+-----------------------------+\n|patient_id|enrollment_start_date|enrollment_end_date|ct_outpatient_visits|ct_days_with_outpatient_visit|\n+----------+---------------------+-------------------+--------------------+-----------------------------+\n|    ID0137|           2023-04-01|         2023-04-30|                 1.0|                            1|\n|    ID0471|           2023-02-01|         2023-02-28|                 0.0|                            0|\n|    ID0587|           2023-10-01|         2023-10-31|                 0.0|                            0|\n|    ID0204|           2023-05-01|         2023-05-31|                 6.0|                            2|\n|    ID0516|           2023-10-01|         2023-10-31|                 0.0|                            0|\n|    ID0937|           2023-11-01|         2023-11-30|                 3.0|                            1|\n|    ID0126|           2023-02-01|         2023-02-28|                11.0|                            3|\n|    ID0633|           2023-09-01|         2023-09-30|                 4.0|                            3|\n|    ID0897|           2023-02-01|         2023-02-28|                 3.0|                            1|\n|    ID0664|           2023-08-01|         2023-08-31|                 0.0|                            0|\n|    ID0843|           2023-03-01|         2023-03-31|                 0.0|                            0|\n|    ID0715|           2023-10-01|         2023-10-31|                 0.0|                            0|\n|    ID0953|           2023-09-01|         2023-09-30|                 2.0|                            1|\n|    ID0257|           2023-07-01|         2023-07-31|                 5.0|                            2|\n|    ID0434|           2023-04-01|         2023-04-30|                 5.0|                            1|\n|    ID0823|           2023-02-01|         2023-02-28|                 0.0|                            0|\n|    ID0269|           2023-12-01|         2023-12-31|                 2.0|                            1|\n|    ID0004|           2023-03-01|         2023-03-31|                20.0|                            2|\n|    ID0746|           2023-09-01|         2023-09-30|                 0.0|                            0|\n|    ID0120|           2023-01-01|         2023-01-31|                 8.0|                            3|\n+----------+---------------------+-------------------+--------------------+-----------------------------+\nonly showing top 20 rows\n\n"
          ]
        }
      ],
      "source": [
        "result_df.show()"
      ]
    },
    {
      "cell_type": "code",
      "execution_count": null,
      "metadata": {
        "application/vnd.databricks.v1+cell": {
          "cellMetadata": {
            "byteLimit": 2048000,
            "rowLimit": 10000
          },
          "inputWidgets": {},
          "nuid": "28caa7b7-3f73-46f3-8730-47d9a43a19a9",
          "showTitle": false,
          "title": ""
        },
        "id": "BDYjM3X1xEcm",
        "outputId": "35f0849a-3874-4b00-a0c6-9af8de44a198"
      },
      "outputs": [
        {
          "output_type": "stream",
          "name": "stdout",
          "text": [
            "Out[91]: 7309"
          ]
        }
      ],
      "source": [
        "result_df.count()"
      ]
    },
    {
      "cell_type": "markdown",
      "metadata": {
        "application/vnd.databricks.v1+cell": {
          "cellMetadata": {
            "byteLimit": 2048000,
            "rowLimit": 10000
          },
          "inputWidgets": {},
          "nuid": "6f51be35-dc7e-4c9e-b15b-901ca8571267",
          "showTitle": false,
          "title": ""
        },
        "id": "srkGGLPLxEcm"
      },
      "source": [
        "### Write & Read Result CSV"
      ]
    },
    {
      "cell_type": "code",
      "execution_count": null,
      "metadata": {
        "application/vnd.databricks.v1+cell": {
          "cellMetadata": {
            "byteLimit": 2048000,
            "rowLimit": 10000
          },
          "inputWidgets": {},
          "nuid": "b713c711-d909-45e0-9803-55c9ad4f5857",
          "showTitle": false,
          "title": ""
        },
        "id": "A3JGXx9QxEcm"
      },
      "outputs": [],
      "source": [
        "# s3_output_path = \"s3://waymark-assignment/result.csv\"\n",
        "# result_df.write.option(\"header\", True).mode(\"overwrite\").csv(s3_output_path)\n",
        "\n",
        "local_output_path = \"/Users/saratometich/Downloads/result.csv\"\n",
        "result_df.write.option(\"header\", True).mode(\"overwrite\").csv(local_output_path)"
      ]
    },
    {
      "cell_type": "code",
      "execution_count": null,
      "metadata": {
        "application/vnd.databricks.v1+cell": {
          "cellMetadata": {
            "byteLimit": 2048000,
            "rowLimit": 10000
          },
          "inputWidgets": {},
          "nuid": "5b3fcbe8-454c-4952-8a52-9f340ee00b48",
          "showTitle": false,
          "title": ""
        },
        "id": "32EXAYdFxEcm"
      },
      "outputs": [],
      "source": [
        "result_csv = spark.read.options(header='True').csv(\"/Users/saratometich/Downloads/result.csv\")"
      ]
    },
    {
      "cell_type": "markdown",
      "metadata": {
        "application/vnd.databricks.v1+cell": {
          "cellMetadata": {
            "byteLimit": 2048000,
            "rowLimit": 10000
          },
          "inputWidgets": {},
          "nuid": "74a6bace-4c70-4ca8-82d5-55107f517003",
          "showTitle": false,
          "title": ""
        },
        "id": "y1v7U0sZxEcn"
      },
      "source": [
        "## Checks"
      ]
    },
    {
      "cell_type": "code",
      "execution_count": null,
      "metadata": {
        "application/vnd.databricks.v1+cell": {
          "cellMetadata": {
            "byteLimit": 2048000,
            "rowLimit": 10000
          },
          "inputWidgets": {},
          "nuid": "d9165731-0d27-4aee-859f-6152f5bbfe4a",
          "showTitle": false,
          "title": ""
        },
        "id": "oy4LBsToxEcn",
        "outputId": "a9a2b2c6-193f-4a1f-d992-9421667150a6"
      },
      "outputs": [
        {
          "output_type": "stream",
          "name": "stdout",
          "text": [
            "Out[94]: 7309"
          ]
        }
      ],
      "source": [
        "result_csv.count()"
      ]
    },
    {
      "cell_type": "code",
      "execution_count": null,
      "metadata": {
        "application/vnd.databricks.v1+cell": {
          "cellMetadata": {
            "byteLimit": 2048000,
            "rowLimit": 10000
          },
          "inputWidgets": {},
          "nuid": "ad848546-a0fc-4077-896f-f0c5efd1ff99",
          "showTitle": false,
          "title": ""
        },
        "id": "aLrQUmzqxEcn",
        "outputId": "92f7ed70-be3e-41a6-bb48-c6e9a089775c"
      },
      "outputs": [
        {
          "output_type": "stream",
          "name": "stdout",
          "text": [
            "Out[95]: 4532"
          ]
        }
      ],
      "source": [
        "count_check = result_csv.filter(col(\"ct_days_with_outpatient_visit\") > 0).select(\"patient_id\", \"enrollment_start_date\", \"enrollment_end_date\").distinct()\n",
        "\n",
        "count_check.count()"
      ]
    },
    {
      "cell_type": "code",
      "execution_count": null,
      "metadata": {
        "application/vnd.databricks.v1+cell": {
          "cellMetadata": {
            "byteLimit": 2048000,
            "rowLimit": 10000
          },
          "inputWidgets": {},
          "nuid": "6eca7040-7914-484d-8b00-03959fa617de",
          "showTitle": false,
          "title": ""
        },
        "id": "5vKu0HNuxEcn",
        "outputId": "ae85f9d4-4323-450d-bedc-9a8cdef0ecd9"
      },
      "outputs": [
        {
          "output_type": "stream",
          "name": "stdout",
          "text": [
            "Out[96]: 2777"
          ]
        }
      ],
      "source": [
        "count_check_2 = result_csv.filter(col(\"ct_days_with_outpatient_visit\") == 0).select(\"patient_id\", \"enrollment_start_date\", \"enrollment_end_date\").distinct()\n",
        "\n",
        "count_check_2.count()"
      ]
    },
    {
      "cell_type": "markdown",
      "metadata": {
        "application/vnd.databricks.v1+cell": {
          "cellMetadata": {
            "byteLimit": 2048000,
            "rowLimit": 10000
          },
          "inputWidgets": {},
          "nuid": "52f0ecba-b40b-46ab-8bab-e94c6a7f0146",
          "showTitle": false,
          "title": ""
        },
        "id": "i0iGO1sHxEcn"
      },
      "source": [
        "## Check example patient ID"
      ]
    },
    {
      "cell_type": "code",
      "execution_count": null,
      "metadata": {
        "application/vnd.databricks.v1+cell": {
          "cellMetadata": {
            "byteLimit": 2048000,
            "rowLimit": 10000
          },
          "inputWidgets": {},
          "nuid": "ce203404-8200-48bf-8da7-e889a387d86d",
          "showTitle": false,
          "title": ""
        },
        "id": "VIbpoo9GxEco",
        "outputId": "d4384221-00d0-41a5-c754-a4b231cc6f5b"
      },
      "outputs": [
        {
          "output_type": "stream",
          "name": "stdout",
          "text": [
            "+----------+---------------------+-------------------+--------------------+-----------------------------+\n|patient_id|enrollment_start_date|enrollment_end_date|ct_outpatient_visits|ct_days_with_outpatient_visit|\n+----------+---------------------+-------------------+--------------------+-----------------------------+\n|    ID0073|           2023-02-01|         2023-02-28|                10.0|                            2|\n|    ID0073|           2023-03-01|         2023-03-31|                 5.0|                            2|\n|    ID0073|           2023-04-01|         2023-04-30|                 2.0|                            1|\n|    ID0073|           2023-05-01|         2023-05-31|                 0.0|                            0|\n|    ID0073|           2023-06-01|         2023-06-30|                 3.0|                            1|\n|    ID0073|           2023-08-01|         2023-08-31|                 4.0|                            1|\n|    ID0073|           2023-09-01|         2023-09-30|                 0.0|                            0|\n|    ID0073|           2023-11-01|         2023-11-30|                 0.0|                            0|\n+----------+---------------------+-------------------+--------------------+-----------------------------+\n\n"
          ]
        }
      ],
      "source": [
        "example_check_result = result_csv.filter(col(\"patient_id\") == 'ID0073').select(\"*\").distinct().orderBy(\"enrollment_start_date\")\n",
        "\n",
        "example_check_result.show()"
      ]
    },
    {
      "cell_type": "code",
      "execution_count": null,
      "metadata": {
        "application/vnd.databricks.v1+cell": {
          "cellMetadata": {
            "byteLimit": 2048000,
            "rowLimit": 10000
          },
          "inputWidgets": {},
          "nuid": "2d229f30-6151-4f96-b51f-e5eb05debe06",
          "showTitle": false,
          "title": ""
        },
        "id": "XKeQwSjUxEco",
        "outputId": "ee094b65-e3a1-464d-a54d-135114324a8c"
      },
      "outputs": [
        {
          "output_type": "stream",
          "name": "stdout",
          "text": [
            "+----------+---------------------+-------------------+\n|patient_id|enrollment_start_date|enrollment_end_date|\n+----------+---------------------+-------------------+\n|    ID0073|           2023-02-01|         2023-02-28|\n|    ID0073|           2023-03-01|         2023-03-31|\n|    ID0073|           2023-04-01|         2023-04-30|\n|    ID0073|           2023-05-01|         2023-05-31|\n|    ID0073|           2023-06-01|         2023-06-30|\n|    ID0073|           2023-08-01|         2023-08-31|\n|    ID0073|           2023-09-01|         2023-09-30|\n|    ID0073|           2023-11-01|         2023-11-30|\n+----------+---------------------+-------------------+\n\n"
          ]
        }
      ],
      "source": [
        "example_check_span = enrollment_span_csv.filter(col(\"patient_id\") == 'ID0073').select(\"*\").distinct().orderBy(\"enrollment_start_date\")\n",
        "\n",
        "example_check_span.show()"
      ]
    },
    {
      "cell_type": "markdown",
      "metadata": {
        "application/vnd.databricks.v1+cell": {
          "cellMetadata": {
            "byteLimit": 2048000,
            "rowLimit": 10000
          },
          "inputWidgets": {},
          "nuid": "d7c9d3a0-069e-40fe-8c01-337a822efa5a",
          "showTitle": false,
          "title": ""
        },
        "id": "788LfAvNxEco"
      },
      "source": [
        "\n",
        "# Answer 2\n",
        "\n",
        "Report the number of distinct values of ct_days_with_outpatient_visit in\n",
        "result.csv\n",
        "\n",
        "ANSWER: 9 (including 0 as a distinct value)"
      ]
    },
    {
      "cell_type": "code",
      "execution_count": null,
      "metadata": {
        "application/vnd.databricks.v1+cell": {
          "cellMetadata": {
            "byteLimit": 2048000,
            "rowLimit": 10000
          },
          "inputWidgets": {},
          "nuid": "09556339-9175-48e2-b108-411bc33c47a8",
          "showTitle": false,
          "title": ""
        },
        "id": "gN6SHu5sxEco",
        "outputId": "bfc848bc-71f1-426b-ded0-11a976dd27ff"
      },
      "outputs": [
        {
          "output_type": "stream",
          "name": "stdout",
          "text": [
            "Out[99]: 9"
          ]
        }
      ],
      "source": [
        "distinct_values = result_csv.select(\"ct_days_with_outpatient_visit\").distinct()\n",
        "\n",
        "distinct_values.count() # includes 0/null"
      ]
    },
    {
      "cell_type": "markdown",
      "metadata": {
        "application/vnd.databricks.v1+cell": {
          "cellMetadata": {
            "byteLimit": 2048000,
            "rowLimit": 10000
          },
          "inputWidgets": {},
          "nuid": "56490946-b081-4f7d-83ad-7cb0ebb1231c",
          "showTitle": false,
          "title": ""
        },
        "id": "RuVhh6VZxEco"
      },
      "source": [
        "## Checks"
      ]
    },
    {
      "cell_type": "code",
      "execution_count": null,
      "metadata": {
        "application/vnd.databricks.v1+cell": {
          "cellMetadata": {
            "byteLimit": 2048000,
            "rowLimit": 10000
          },
          "inputWidgets": {},
          "nuid": "24db5a73-ac67-4a9f-8b17-c16c82505f07",
          "showTitle": false,
          "title": ""
        },
        "id": "f8sw_VO0xEcp",
        "outputId": "c7c91cb3-cd3f-4458-8c68-fab4e2c998da"
      },
      "outputs": [
        {
          "output_type": "stream",
          "name": "stdout",
          "text": [
            "+-----------------------------+\n|ct_days_with_outpatient_visit|\n+-----------------------------+\n|                            0|\n|                            1|\n|                            2|\n|                            3|\n|                            4|\n|                            5|\n|                            6|\n|                            7|\n|                            8|\n+-----------------------------+\n\n"
          ]
        }
      ],
      "source": [
        "distinct_values = result_csv.select(\"ct_days_with_outpatient_visit\").distinct().orderBy(\"ct_days_with_outpatient_visit\")\n",
        "\n",
        "distinct_values.show()"
      ]
    },
    {
      "cell_type": "code",
      "execution_count": null,
      "metadata": {
        "application/vnd.databricks.v1+cell": {
          "cellMetadata": {
            "byteLimit": 2048000,
            "rowLimit": 10000
          },
          "inputWidgets": {},
          "nuid": "454e906e-2cb9-41da-9c27-07ade4c825d6",
          "showTitle": false,
          "title": ""
        },
        "id": "XmsIZ3S7xEcp",
        "outputId": "6387e016-84d5-4e4c-efca-e0270da77dbf"
      },
      "outputs": [
        {
          "output_type": "stream",
          "name": "stdout",
          "text": [
            "+-----------------------------+\n|ct_days_with_outpatient_visit|\n+-----------------------------+\n|                            1|\n|                            2|\n|                            3|\n|                            4|\n|                            5|\n|                            6|\n|                            7|\n|                            8|\n+-----------------------------+\n\n"
          ]
        }
      ],
      "source": [
        "distinct_values = ct_days_with_outpatient_visit.select(\"ct_days_with_outpatient_visit\").distinct().orderBy(\"ct_days_with_outpatient_visit\")\n",
        "\n",
        "distinct_values.show()"
      ]
    },
    {
      "cell_type": "markdown",
      "metadata": {
        "application/vnd.databricks.v1+cell": {
          "cellMetadata": {
            "byteLimit": 2048000,
            "rowLimit": 10000
          },
          "inputWidgets": {},
          "nuid": "692eddbd-dd8a-458d-b881-e802e18a1d94",
          "showTitle": false,
          "title": ""
        },
        "id": "Ztht_iF7xEcp"
      },
      "source": [
        "# QA Section\n",
        "\n",
        "I used SQL to check my results"
      ]
    },
    {
      "cell_type": "markdown",
      "metadata": {
        "application/vnd.databricks.v1+cell": {
          "cellMetadata": {
            "byteLimit": 2048000,
            "rowLimit": 10000
          },
          "inputWidgets": {},
          "nuid": "f70f8d47-b7c3-411f-a117-01ba899b5b42",
          "showTitle": false,
          "title": ""
        },
        "id": "2az3Wb9vxEcp"
      },
      "source": [
        "## Enrollment Span Content Checks"
      ]
    },
    {
      "cell_type": "code",
      "execution_count": null,
      "metadata": {
        "application/vnd.databricks.v1+cell": {
          "cellMetadata": {
            "byteLimit": 2048000,
            "rowLimit": 10000
          },
          "inputWidgets": {},
          "nuid": "8121d726-9fdd-44a1-a655-1a8bed45b75d",
          "showTitle": false,
          "title": ""
        },
        "id": "XeuaaJ1-xEcp"
      },
      "outputs": [],
      "source": [
        "enrollment_span_csv.createOrReplaceTempView(\"enrollment_span\")"
      ]
    },
    {
      "cell_type": "markdown",
      "metadata": {
        "application/vnd.databricks.v1+cell": {
          "cellMetadata": {
            "byteLimit": 2048000,
            "rowLimit": 10000
          },
          "inputWidgets": {},
          "nuid": "5e2bc6d0-5528-408b-b938-5e8050f6e015",
          "showTitle": false,
          "title": ""
        },
        "id": "2-T_yynHxEcp"
      },
      "source": [
        "### Enrollment Date Reasonability Checks"
      ]
    },
    {
      "cell_type": "code",
      "execution_count": null,
      "metadata": {
        "application/vnd.databricks.v1+cell": {
          "cellMetadata": {
            "byteLimit": 2048000,
            "rowLimit": 10000
          },
          "inputWidgets": {},
          "nuid": "c86c6668-ced8-443b-a010-91463d7f01d3",
          "showTitle": false,
          "title": ""
        },
        "id": "bm7Tv3lNxEcq",
        "outputId": "5f37dea2-4459-4eb7-e99b-8a62fe23bb7a"
      },
      "outputs": [
        {
          "output_type": "stream",
          "name": "stdout",
          "text": [
            "Out[103]: 7309"
          ]
        }
      ],
      "source": [
        "spark.sql(\"\"\"\n",
        "\n",
        "  select distinct\n",
        "  patient_id\n",
        "  , enrollment_start_date\n",
        "  , enrollment_end_date\n",
        "\n",
        "  from enrollment_span\n",
        "\n",
        "  where enrollment_start_date < enrollment_end_date\n",
        "\n",
        "\"\"\"\n",
        ").count()"
      ]
    },
    {
      "cell_type": "code",
      "execution_count": null,
      "metadata": {
        "application/vnd.databricks.v1+cell": {
          "cellMetadata": {
            "byteLimit": 2048000,
            "rowLimit": 10000
          },
          "inputWidgets": {},
          "nuid": "d0da145d-ae59-44c6-a92e-716560b73c3c",
          "showTitle": false,
          "title": ""
        },
        "id": "6oSaRDLmxEcq",
        "outputId": "a9ef8778-9e5e-4a44-95bd-3d481dfe0c75"
      },
      "outputs": [
        {
          "output_type": "stream",
          "name": "stdout",
          "text": [
            "Out[104]: 0"
          ]
        }
      ],
      "source": [
        "spark.sql(\"\"\"\n",
        "\n",
        "  select distinct\n",
        "  patient_id\n",
        "  , enrollment_start_date\n",
        "  , enrollment_end_date\n",
        "\n",
        "  from enrollment_span\n",
        "\n",
        "  where enrollment_start_date = enrollment_end_date\n",
        "\n",
        "\"\"\"\n",
        ").count()"
      ]
    },
    {
      "cell_type": "code",
      "execution_count": null,
      "metadata": {
        "application/vnd.databricks.v1+cell": {
          "cellMetadata": {
            "byteLimit": 2048000,
            "rowLimit": 10000
          },
          "inputWidgets": {},
          "nuid": "1eec7262-caaf-418f-a6fa-1bb3e25ef4cd",
          "showTitle": false,
          "title": ""
        },
        "id": "mLg-MyxaxEcq",
        "outputId": "84459706-5f01-4b97-bcc4-f0e8c9e0b6f5"
      },
      "outputs": [
        {
          "output_type": "stream",
          "name": "stdout",
          "text": [
            "Out[105]: 0"
          ]
        }
      ],
      "source": [
        "spark.sql(\"\"\"\n",
        "\n",
        "  select distinct\n",
        "  patient_id\n",
        "  , enrollment_start_date\n",
        "  , enrollment_end_date\n",
        "\n",
        "  from enrollment_span\n",
        "\n",
        "  where enrollment_start_date > enrollment_end_date\n",
        "\n",
        "\"\"\"\n",
        ").count()"
      ]
    },
    {
      "cell_type": "markdown",
      "metadata": {
        "application/vnd.databricks.v1+cell": {
          "cellMetadata": {
            "byteLimit": 2048000,
            "rowLimit": 10000
          },
          "inputWidgets": {},
          "nuid": "e80ceca3-b0da-46ee-897a-410cef4dca74",
          "showTitle": false,
          "title": ""
        },
        "id": "sSibtedfxEcq"
      },
      "source": [
        "### Duplicates\n",
        "\n",
        "- Make sure no duplicate rows exist"
      ]
    },
    {
      "cell_type": "code",
      "execution_count": null,
      "metadata": {
        "application/vnd.databricks.v1+cell": {
          "cellMetadata": {
            "byteLimit": 2048000,
            "rowLimit": 10000
          },
          "inputWidgets": {},
          "nuid": "5d336215-9474-42a2-aa79-53121c5c0f92",
          "showTitle": false,
          "title": ""
        },
        "id": "eR4rZuTAxEcq",
        "outputId": "215a4954-2b52-4aa8-aefe-9535c6c5e98c"
      },
      "outputs": [
        {
          "output_type": "stream",
          "name": "stdout",
          "text": [
            "Out[106]: 0"
          ]
        }
      ],
      "source": [
        "spark.sql(\"\"\"\n",
        "\n",
        "  select distinct\n",
        "  patient_id\n",
        "  , enrollment_start_date\n",
        "  , enrollment_end_date\n",
        "\n",
        "  from enrollment_span\n",
        "\n",
        "  group by\n",
        "  patient_id\n",
        "  , enrollment_start_date\n",
        "  , enrollment_end_date\n",
        "\n",
        "  having count(*) > 1\n",
        "\n",
        "\"\"\"\n",
        ").count()"
      ]
    },
    {
      "cell_type": "markdown",
      "metadata": {
        "application/vnd.databricks.v1+cell": {
          "cellMetadata": {
            "byteLimit": 2048000,
            "rowLimit": 10000
          },
          "inputWidgets": {},
          "nuid": "bcc5b405-0aa6-4be3-84b2-0718c854f10b",
          "showTitle": false,
          "title": ""
        },
        "id": "sDPY4FsOxEcr"
      },
      "source": [
        "### Min/Max Enrollment Dates\n",
        "\n",
        "- Check max/min enrollment dates to come up the reasonability checks"
      ]
    },
    {
      "cell_type": "code",
      "execution_count": null,
      "metadata": {
        "application/vnd.databricks.v1+cell": {
          "cellMetadata": {
            "byteLimit": 2048000,
            "rowLimit": 10000
          },
          "inputWidgets": {},
          "nuid": "b03a0cfe-4dff-4b0d-b5fe-f8be89de082b",
          "showTitle": false,
          "title": ""
        },
        "id": "TLtQTY8oxEcr",
        "outputId": "400bade1-c3b8-485a-8072-9505191bdb51"
      },
      "outputs": [
        {
          "output_type": "stream",
          "name": "stdout",
          "text": [
            "+--------------------------+--------------------------+------------------------+------------------------+\n|min(enrollment_start_date)|max(enrollment_start_date)|min(enrollment_end_date)|max(enrollment_end_date)|\n+--------------------------+--------------------------+------------------------+------------------------+\n|                2023-01-01|                2023-12-01|              2023-01-31|              2023-12-31|\n+--------------------------+--------------------------+------------------------+------------------------+\n\n"
          ]
        }
      ],
      "source": [
        "spark.sql(\"\"\"\n",
        "\n",
        "    select distinct\n",
        "    min(enrollment_start_date)\n",
        "    , max(enrollment_start_date)\n",
        "    , min(enrollment_end_date)\n",
        "    , max(enrollment_end_date)\n",
        "\n",
        "    from enrollment_span\n",
        "\n",
        "\"\"\"\n",
        ").show()"
      ]
    },
    {
      "cell_type": "markdown",
      "metadata": {
        "application/vnd.databricks.v1+cell": {
          "cellMetadata": {
            "byteLimit": 2048000,
            "rowLimit": 10000
          },
          "inputWidgets": {},
          "nuid": "18890cae-51fe-42ec-9fa4-f197b3668e43",
          "showTitle": false,
          "title": ""
        },
        "id": "R4GKtberxEcr"
      },
      "source": [
        "### Reasonability Check on Enrollment Record Count\n",
        "\n",
        "- Now that we know min and max, make sure members are not enrolled for more than 12 months"
      ]
    },
    {
      "cell_type": "code",
      "execution_count": null,
      "metadata": {
        "application/vnd.databricks.v1+cell": {
          "cellMetadata": {
            "byteLimit": 2048000,
            "rowLimit": 10000
          },
          "inputWidgets": {},
          "nuid": "1741d85b-a6da-4ae2-9e6d-a2a80a64b111",
          "showTitle": false,
          "title": ""
        },
        "id": "IoEGds84xEcr",
        "outputId": "cf92dad0-834d-4b95-ebd7-5c47fa81e6ef"
      },
      "outputs": [
        {
          "output_type": "stream",
          "name": "stdout",
          "text": [
            "Out[108]: 0"
          ]
        }
      ],
      "source": [
        "spark.sql(\"\"\"\n",
        "\n",
        "    select distinct\n",
        "    patient_id\n",
        "\n",
        "    from enrollment_span\n",
        "\n",
        "    group by\n",
        "    patient_id\n",
        "\n",
        "    having count(distinct enrollment_start_date) > 12\n",
        "\n",
        "\"\"\"\n",
        ").count()"
      ]
    },
    {
      "cell_type": "markdown",
      "metadata": {
        "application/vnd.databricks.v1+cell": {
          "cellMetadata": {
            "byteLimit": 2048000,
            "rowLimit": 10000
          },
          "inputWidgets": {},
          "nuid": "5bb88727-a09e-44cd-8453-c1563fe2311f",
          "showTitle": false,
          "title": ""
        },
        "id": "w1WOPU6wxEcr"
      },
      "source": [
        "### Check for 12-Month Continuous Enrollment\n",
        "\n",
        "- Any patients with continuous enrollment for all 12 months?"
      ]
    },
    {
      "cell_type": "code",
      "execution_count": null,
      "metadata": {
        "application/vnd.databricks.v1+cell": {
          "cellMetadata": {
            "byteLimit": 2048000,
            "rowLimit": 10000
          },
          "inputWidgets": {},
          "nuid": "a3be388d-cba2-4a86-b399-6e5adbdd771c",
          "showTitle": false,
          "title": ""
        },
        "id": "yagjT9ZqxEcs",
        "outputId": "38117ba2-73eb-4494-abfd-072c99f31cf2"
      },
      "outputs": [
        {
          "output_type": "stream",
          "name": "stdout",
          "text": [
            "Out[109]: 33"
          ]
        }
      ],
      "source": [
        "spark.sql(\"\"\"\n",
        "\n",
        "    select distinct\n",
        "    patient_id\n",
        "\n",
        "    from enrollment_span\n",
        "\n",
        "    group by\n",
        "    patient_id\n",
        "\n",
        "    having count(distinct enrollment_start_date) = 12\n",
        "\n",
        "\"\"\"\n",
        ").count()"
      ]
    },
    {
      "cell_type": "markdown",
      "metadata": {
        "application/vnd.databricks.v1+cell": {
          "cellMetadata": {
            "byteLimit": 2048000,
            "rowLimit": 10000
          },
          "inputWidgets": {},
          "nuid": "2e9f823c-cf7d-43e3-8d49-d7efa9c1caac",
          "showTitle": false,
          "title": ""
        },
        "id": "5HBDUFalxEcs"
      },
      "source": [
        "## Outpatient Visits Content Checks"
      ]
    },
    {
      "cell_type": "code",
      "execution_count": null,
      "metadata": {
        "application/vnd.databricks.v1+cell": {
          "cellMetadata": {
            "byteLimit": 2048000,
            "rowLimit": 10000
          },
          "inputWidgets": {},
          "nuid": "52843e30-62a7-4dc9-9801-3247fbe9d433",
          "showTitle": false,
          "title": ""
        },
        "id": "-QbbhBdixEcs"
      },
      "outputs": [],
      "source": [
        "op_visits_clean.createOrReplaceTempView(\"op_visits_csv\")"
      ]
    },
    {
      "cell_type": "code",
      "execution_count": null,
      "metadata": {
        "application/vnd.databricks.v1+cell": {
          "cellMetadata": {
            "byteLimit": 2048000,
            "rowLimit": 10000
          },
          "inputWidgets": {},
          "nuid": "82e5fd8f-0fb6-4540-8ceb-7fdd492b834f",
          "showTitle": false,
          "title": ""
        },
        "id": "OWq8UIfExEcs"
      },
      "outputs": [],
      "source": [
        "ct_outpatient_visits.createOrReplaceTempView(\"outpatient_visits\")"
      ]
    },
    {
      "cell_type": "markdown",
      "metadata": {
        "application/vnd.databricks.v1+cell": {
          "cellMetadata": {
            "byteLimit": 2048000,
            "rowLimit": 10000
          },
          "inputWidgets": {},
          "nuid": "d62ac755-e21f-4948-aa69-d3f49873996e",
          "showTitle": false,
          "title": ""
        },
        "id": "HIIo0CzVxEcs"
      },
      "source": [
        "#### Get an example patient ID"
      ]
    },
    {
      "cell_type": "code",
      "execution_count": null,
      "metadata": {
        "application/vnd.databricks.v1+cell": {
          "cellMetadata": {
            "byteLimit": 2048000,
            "rowLimit": 10000
          },
          "inputWidgets": {},
          "nuid": "2d919050-8712-44c6-95f2-14aebcc810d4",
          "showTitle": false,
          "title": ""
        },
        "id": "OmY2RVH4xEcs",
        "outputId": "81867da3-911f-4530-f699-da35fe2b24d2"
      },
      "outputs": [
        {
          "output_type": "stream",
          "name": "stdout",
          "text": [
            "+----------+---------------------+-------------------+\n|patient_id|enrollment_start_date|enrollment_end_date|\n+----------+---------------------+-------------------+\n|    ID0001|           2023-01-01|         2023-01-31|\n|    ID0001|           2023-02-01|         2023-02-28|\n|    ID0001|           2023-06-01|         2023-06-30|\n|    ID0001|           2023-11-01|         2023-11-30|\n|    ID0001|           2023-12-01|         2023-12-31|\n|    ID0001|           2023-03-01|         2023-03-31|\n|    ID0001|           2023-08-01|         2023-08-31|\n+----------+---------------------+-------------------+\n\n"
          ]
        }
      ],
      "source": [
        "spark.sql(\"\"\"\n",
        "\n",
        "    select *\n",
        "\n",
        "    from enrollment_span\n",
        "\n",
        "    where patient_id = 'ID0001'\n",
        "\n",
        "\"\"\"\n",
        ").show()"
      ]
    },
    {
      "cell_type": "code",
      "execution_count": null,
      "metadata": {
        "application/vnd.databricks.v1+cell": {
          "cellMetadata": {
            "byteLimit": 2048000,
            "implicitDf": true,
            "rowLimit": 10000
          },
          "inputWidgets": {},
          "nuid": "332f8929-ac2d-4017-8067-043577b79377",
          "showTitle": false,
          "title": ""
        },
        "id": "tM24Ku9vxEct",
        "outputId": "11d5db19-b37e-42e8-8805-9776bbbe9c38"
      },
      "outputs": [
        {
          "output_type": "stream",
          "name": "stdout",
          "text": [
            "+----------+----------------------+----------+--------------------+\n|patient_id|outpatient_visit_count|visit_date|ct_outpatient_visits|\n+----------+----------------------+----------+--------------------+\n|    ID0001|                     4|2023-01-21|                13.0|\n|    ID0001|                     1|2023-01-25|                13.0|\n|    ID0001|                     2|2023-01-03|                13.0|\n|    ID0001|                     2|2023-01-15|                13.0|\n|    ID0001|                     2|2023-01-08|                13.0|\n|    ID0001|                     2|2023-01-09|                13.0|\n|    ID0001|                     1|2023-03-22|                 4.0|\n|    ID0001|                     3|2023-03-11|                 4.0|\n|    ID0001|                     3|2023-06-14|                 6.0|\n|    ID0001|                     2|2023-06-03|                 6.0|\n|    ID0001|                     1|2023-06-03|                 6.0|\n|    ID0001|                     4|2023-07-17|                 4.0|\n|    ID0001|                     3|2023-08-31|                 6.0|\n|    ID0001|                     3|2023-08-12|                 6.0|\n|    ID0001|                     1|2023-09-17|                 7.0|\n|    ID0001|                     2|2023-09-06|                 7.0|\n|    ID0001|                     4|2023-09-06|                 7.0|\n|    ID0001|                     2|2023-11-13|                 3.0|\n|    ID0001|                     1|2023-11-30|                 3.0|\n|    ID0001|                     2|2023-12-15|                 2.0|\n+----------+----------------------+----------+--------------------+\n\n"
          ]
        }
      ],
      "source": [
        "spark.sql(\"\"\"\n",
        "\n",
        "    select\n",
        "    *\n",
        "    , sum(outpatient_visit_count) over (partition by patient_id, date_trunc('MONTH', visit_date)) as ct_outpatient_visits\n",
        "\n",
        "    from op_visits_csv\n",
        "\n",
        "    where patient_id = 'ID0001'\n",
        "\n",
        "\"\"\"\n",
        ").show()"
      ]
    },
    {
      "cell_type": "markdown",
      "metadata": {
        "application/vnd.databricks.v1+cell": {
          "cellMetadata": {
            "byteLimit": 2048000,
            "rowLimit": 10000
          },
          "inputWidgets": {},
          "nuid": "0505ad2a-2121-4df2-98d0-9f80d4f54e3d",
          "showTitle": false,
          "title": ""
        },
        "id": "mWJA2VE7xEct"
      },
      "source": [
        "#### Check ct_outpatient_visits\n",
        "\n",
        "- Compare SQL output to python output"
      ]
    },
    {
      "cell_type": "code",
      "execution_count": null,
      "metadata": {
        "application/vnd.databricks.v1+cell": {
          "cellMetadata": {
            "byteLimit": 2048000,
            "implicitDf": true,
            "rowLimit": 10000
          },
          "inputWidgets": {},
          "nuid": "15c0fb9b-db2e-4a79-a616-e63b27c9c014",
          "showTitle": false,
          "title": ""
        },
        "id": "NYqviwhcxEct",
        "outputId": "3246eb66-a3bd-4537-e974-927a2f5e05fd"
      },
      "outputs": [
        {
          "output_type": "stream",
          "name": "stdout",
          "text": [
            "+----------+---------------------+-------------------+--------------------+\n|patient_id|enrollment_start_date|enrollment_end_date|ct_outpatient_visits|\n+----------+---------------------+-------------------+--------------------+\n|    ID0741|           2023-08-01|         2023-08-31|                 4.0|\n|    ID0437|           2023-07-01|         2023-07-31|                 5.0|\n|    ID0734|           2023-04-01|         2023-04-30|                 5.0|\n|    ID0797|           2023-10-01|         2023-10-31|                 2.0|\n|    ID0864|           2023-02-01|         2023-02-28|                 2.0|\n|    ID0088|           2023-07-01|         2023-07-31|                18.0|\n|    ID0852|           2023-10-01|         2023-10-31|                 5.0|\n|    ID0211|           2023-11-01|         2023-11-30|                 0.0|\n|    ID0084|           2023-01-01|         2023-01-31|                 9.0|\n|    ID0530|           2023-09-01|         2023-09-30|                 3.0|\n|    ID0229|           2023-10-01|         2023-10-31|                 4.0|\n|    ID0981|           2023-01-01|         2023-01-31|                 0.0|\n|    ID0629|           2023-04-01|         2023-04-30|                 3.0|\n|    ID0753|           2023-07-01|         2023-07-31|                 4.0|\n|    ID0080|           2023-08-01|         2023-08-31|                 2.0|\n|    ID0889|           2023-05-01|         2023-05-31|                 5.0|\n|    ID0931|           2023-10-01|         2023-10-31|                 0.0|\n|    ID0017|           2023-01-01|         2023-01-31|                 2.0|\n|    ID0928|           2023-04-01|         2023-04-30|                 3.0|\n|    ID0551|           2023-11-01|         2023-11-30|                 0.0|\n+----------+---------------------+-------------------+--------------------+\nonly showing top 20 rows\n\n"
          ]
        }
      ],
      "source": [
        "spark.sql(\"\"\"\n",
        "\n",
        "    select distinct\n",
        "    enr.patient_id\n",
        "    , enrollment_start_date\n",
        "    , enrollment_end_date\n",
        "    , coalesce(sum(outpatient_visit_count), 0) as ct_outpatient_visits\n",
        "\n",
        "    from enrollment_span enr\n",
        "\n",
        "    left join op_visits_csv op\n",
        "        on op.patient_id = enr.patient_id\n",
        "        and op.visit_date <= enr.enrollment_end_date\n",
        "        and op.visit_date >= enr.enrollment_start_date\n",
        "\n",
        "    group by\n",
        "    enr.patient_id\n",
        "    , enrollment_start_date\n",
        "    , enrollment_end_date\n",
        "\n",
        "\"\"\"\n",
        ").show()"
      ]
    },
    {
      "cell_type": "code",
      "execution_count": null,
      "metadata": {
        "application/vnd.databricks.v1+cell": {
          "cellMetadata": {
            "byteLimit": 2048000,
            "rowLimit": 10000
          },
          "inputWidgets": {},
          "nuid": "09f48ee7-956c-433e-a338-5447d76f3aa4",
          "showTitle": false,
          "title": ""
        },
        "id": "9pSrmdA4xEct",
        "outputId": "0a328d9d-93b6-4a55-e8b0-05fc2f692f77"
      },
      "outputs": [
        {
          "output_type": "stream",
          "name": "stdout",
          "text": [
            "+---------------------+-------------------+----------+--------------------+\n|enrollment_start_date|enrollment_end_date|patient_id|ct_outpatient_visits|\n+---------------------+-------------------+----------+--------------------+\n|           2023-08-01|         2023-08-31|    ID0741|                 4.0|\n+---------------------+-------------------+----------+--------------------+\n\n"
          ]
        }
      ],
      "source": [
        "spark.sql(\"\"\"\n",
        "\n",
        "    select *\n",
        "\n",
        "    from outpatient_visits\n",
        "\n",
        "    where patient_id = 'ID0741'\n",
        "    and enrollment_start_date = '2023-08-01'\n",
        "\n",
        "\"\"\"\n",
        ").show()"
      ]
    },
    {
      "cell_type": "markdown",
      "metadata": {
        "application/vnd.databricks.v1+cell": {
          "cellMetadata": {
            "byteLimit": 2048000,
            "rowLimit": 10000
          },
          "inputWidgets": {},
          "nuid": "29924ab5-5db3-4d0b-ba4f-180e90b108b2",
          "showTitle": false,
          "title": ""
        },
        "id": "2apLCtAIxEct"
      },
      "source": [
        "## Days with Outpatient Visits Content Checks"
      ]
    },
    {
      "cell_type": "code",
      "execution_count": null,
      "metadata": {
        "application/vnd.databricks.v1+cell": {
          "cellMetadata": {
            "byteLimit": 2048000,
            "rowLimit": 10000
          },
          "inputWidgets": {},
          "nuid": "f4762f21-59a2-447c-9ee2-d15c1fd2affd",
          "showTitle": false,
          "title": ""
        },
        "id": "v2VGoZ4cxEct"
      },
      "outputs": [],
      "source": [
        "ct_days_with_outpatient_visit.createOrReplaceTempView(\"outpatient_days\")"
      ]
    },
    {
      "cell_type": "markdown",
      "metadata": {
        "application/vnd.databricks.v1+cell": {
          "cellMetadata": {
            "byteLimit": 2048000,
            "rowLimit": 10000
          },
          "inputWidgets": {},
          "nuid": "877dcd09-3974-4018-83e0-cc1cc53c74ee",
          "showTitle": false,
          "title": ""
        },
        "id": "Klg7rQtUxEcu"
      },
      "source": [
        "### Check ct_days_with_outpatient_visit\n",
        "\n",
        "- Check output using SQL"
      ]
    },
    {
      "cell_type": "code",
      "execution_count": null,
      "metadata": {
        "application/vnd.databricks.v1+cell": {
          "cellMetadata": {
            "byteLimit": 2048000,
            "rowLimit": 10000
          },
          "inputWidgets": {},
          "nuid": "366680ed-8151-4fc8-950e-81f3f0370b6f",
          "showTitle": false,
          "title": ""
        },
        "id": "sslCNVKDxEcu",
        "outputId": "a2b28399-1605-4d87-af97-211b5179d74f"
      },
      "outputs": [
        {
          "output_type": "stream",
          "name": "stdout",
          "text": [
            "+----------+---------------------+-------------------+-----------------------------+\n|patient_id|enrollment_start_date|enrollment_end_date|ct_days_with_outpatient_visit|\n+----------+---------------------+-------------------+-----------------------------+\n|    ID0852|           2023-10-01|         2023-10-31|                            3|\n|    ID0014|           2023-05-01|         2023-05-31|                            3|\n|    ID0061|           2023-12-01|         2023-12-31|                            3|\n|    ID0889|           2023-05-01|         2023-05-31|                            2|\n|    ID0070|           2023-01-01|         2023-01-31|                            3|\n|    ID0530|           2023-09-01|         2023-09-30|                            1|\n|    ID0512|           2023-04-01|         2023-04-30|                            3|\n|    ID0480|           2023-05-01|         2023-05-31|                            2|\n|    ID0432|           2023-03-01|         2023-03-31|                            3|\n|    ID0628|           2023-11-01|         2023-11-30|                            4|\n|    ID0088|           2023-07-01|         2023-07-31|                            2|\n|    ID0464|           2023-06-01|         2023-06-30|                            3|\n|    ID0838|           2023-12-01|         2023-12-31|                            4|\n|    ID0489|           2023-12-01|         2023-12-31|                            1|\n|    ID0094|           2023-11-01|         2023-11-30|                            1|\n|    ID0497|           2023-10-01|         2023-10-31|                            4|\n|    ID0734|           2023-04-01|         2023-04-30|                            2|\n|    ID0240|           2023-11-01|         2023-11-30|                            2|\n|    ID0437|           2023-07-01|         2023-07-31|                            2|\n|    ID0084|           2023-01-01|         2023-01-31|                            1|\n+----------+---------------------+-------------------+-----------------------------+\nonly showing top 20 rows\n\n"
          ]
        }
      ],
      "source": [
        "spark.sql(\"\"\"\n",
        "\n",
        "    select distinct\n",
        "    enr.patient_id\n",
        "    , enrollment_start_date\n",
        "    , enrollment_end_date\n",
        "    , count(distinct visit_date) as ct_days_with_outpatient_visit\n",
        "\n",
        "    from enrollment_span enr\n",
        "\n",
        "    left join op_visits_csv op\n",
        "        on op.patient_id = enr.patient_id\n",
        "        and op.visit_date <= enr.enrollment_end_date\n",
        "        and op.visit_date >= enr.enrollment_start_date\n",
        "\n",
        "    group by\n",
        "    enr.patient_id\n",
        "    , enrollment_start_date\n",
        "    , enrollment_end_date\n",
        "\n",
        "    having sum(outpatient_visit_count) >= 1\n",
        "\n",
        "\"\"\"\n",
        ").show()"
      ]
    },
    {
      "cell_type": "code",
      "execution_count": null,
      "metadata": {
        "application/vnd.databricks.v1+cell": {
          "cellMetadata": {
            "byteLimit": 2048000,
            "rowLimit": 10000
          },
          "inputWidgets": {},
          "nuid": "99db01ee-d06a-4aab-a6d6-0365249f1e04",
          "showTitle": false,
          "title": ""
        },
        "id": "C2ID5HcVxEcu",
        "outputId": "26dbee47-45ca-484f-d096-8b461764a902"
      },
      "outputs": [
        {
          "output_type": "stream",
          "name": "stdout",
          "text": [
            "+----------+---------------------+-------------------+-----------------------------+\n|patient_id|enrollment_start_date|enrollment_end_date|ct_days_with_outpatient_visit|\n+----------+---------------------+-------------------+-----------------------------+\n|    ID0852|           2023-10-01|         2023-10-31|                            3|\n+----------+---------------------+-------------------+-----------------------------+\n\n"
          ]
        }
      ],
      "source": [
        "spark.sql(\"\"\"\n",
        "\n",
        "    select *\n",
        "\n",
        "    from outpatient_days\n",
        "\n",
        "    where patient_id = 'ID0852'\n",
        "    and enrollment_start_date = '2023-10-01'\n",
        "\n",
        "\"\"\"\n",
        ").show()"
      ]
    },
    {
      "cell_type": "code",
      "execution_count": null,
      "metadata": {
        "application/vnd.databricks.v1+cell": {
          "cellMetadata": {
            "byteLimit": 2048000,
            "rowLimit": 10000
          },
          "inputWidgets": {},
          "nuid": "229e4ba9-4ed1-43bd-a927-37127990e500",
          "showTitle": false,
          "title": ""
        },
        "id": "tr0zdjklxEcu",
        "outputId": "59b4abbe-9cc3-4530-aaf0-0e180574fed2"
      },
      "outputs": [
        {
          "output_type": "stream",
          "name": "stdout",
          "text": [
            "+----------+----------------------+----------+\n|patient_id|outpatient_visit_count|visit_date|\n+----------+----------------------+----------+\n|    ID0852|                     2|2023-10-15|\n|    ID0852|                     1|2023-10-07|\n|    ID0852|                     2|2023-10-24|\n+----------+----------------------+----------+\n\n"
          ]
        }
      ],
      "source": [
        "spark.sql(\"\"\"\n",
        "\n",
        "    select *\n",
        "\n",
        "    from op_visits_csv\n",
        "\n",
        "    where patient_id = 'ID0852'\n",
        "    and date_trunc('MONTH', visit_date) = '2023-10-01'\n",
        "\n",
        "\"\"\"\n",
        ").show()"
      ]
    },
    {
      "cell_type": "markdown",
      "metadata": {
        "application/vnd.databricks.v1+cell": {
          "cellMetadata": {
            "byteLimit": 2048000,
            "rowLimit": 10000
          },
          "inputWidgets": {},
          "nuid": "ddd09ead-c289-40a3-a618-0f06ba7b2e9e",
          "showTitle": false,
          "title": ""
        },
        "id": "DIpZA5ZCxEcu"
      },
      "source": [
        "### Verify patient IDs that didn't meet the criteria\n",
        "\n",
        "- The number of distinct days within an enrollment period (between enrollment_start_date and enrollment_end_date) when the patient had one or more outpatient visit"
      ]
    },
    {
      "cell_type": "code",
      "execution_count": null,
      "metadata": {
        "application/vnd.databricks.v1+cell": {
          "cellMetadata": {
            "byteLimit": 2048000,
            "implicitDf": true,
            "rowLimit": 10000
          },
          "inputWidgets": {},
          "nuid": "9c08d2a5-6a64-4aba-a59e-7c0e4f93d1aa",
          "showTitle": false,
          "title": ""
        },
        "id": "lFRRwxgjxEcv",
        "outputId": "ea78b93c-bea5-479f-c31d-d2b338291932"
      },
      "outputs": [
        {
          "output_type": "stream",
          "name": "stdout",
          "text": [
            "+----------+\n|patient_id|\n+----------+\n|    ID0639|\n|    ID0795|\n|    ID0981|\n|    ID0627|\n|    ID0207|\n|    ID0815|\n|    ID0783|\n|    ID0507|\n|    ID0971|\n|    ID0963|\n|    ID0107|\n|    ID0079|\n|    ID0427|\n|    ID0979|\n|    ID0911|\n|    ID0691|\n|    ID0879|\n|    ID0607|\n|    ID0759|\n|    ID0203|\n+----------+\nonly showing top 20 rows\n\n"
          ]
        }
      ],
      "source": [
        "spark.sql(\"\"\"\n",
        "\n",
        "select distinct patient_id from outpatient_visits\n",
        "except\n",
        "select distinct patient_id from outpatient_days\n",
        "\n",
        "\"\"\"\n",
        ").show()"
      ]
    },
    {
      "cell_type": "code",
      "execution_count": null,
      "metadata": {
        "application/vnd.databricks.v1+cell": {
          "cellMetadata": {
            "byteLimit": 2048000,
            "implicitDf": true,
            "rowLimit": 10000
          },
          "inputWidgets": {},
          "nuid": "454ee1a1-7a86-4ad0-91f2-a6212a78fdff",
          "showTitle": false,
          "title": ""
        },
        "id": "WTf1SZj1xEcv",
        "outputId": "7db120b0-b8fd-4473-c200-f4d2519666df"
      },
      "outputs": [
        {
          "output_type": "stream",
          "name": "stdout",
          "text": [
            "+-------------------------+\n|sum(ct_outpatient_visits)|\n+-------------------------+\n|                      0.0|\n+-------------------------+\n\n"
          ]
        }
      ],
      "source": [
        "spark.sql(\"\"\"\n",
        "\n",
        "    select sum(ct_outpatient_visits)\n",
        "\n",
        "    from outpatient_visits\n",
        "\n",
        "    where patient_id in (\n",
        "\n",
        "        select distinct patient_id from outpatient_visits\n",
        "        except\n",
        "        select distinct patient_id from outpatient_days\n",
        "\n",
        "    )\n",
        "\n",
        "\"\"\"\n",
        ").show()"
      ]
    },
    {
      "cell_type": "code",
      "execution_count": null,
      "metadata": {
        "application/vnd.databricks.v1+cell": {
          "cellMetadata": {
            "byteLimit": 2048000,
            "implicitDf": true,
            "rowLimit": 10000
          },
          "inputWidgets": {},
          "nuid": "a61ffa2f-232e-4633-8292-2fde6b86c520",
          "showTitle": false,
          "title": ""
        },
        "id": "dXNnLYNwxEcv",
        "outputId": "b2286342-e8dd-4381-db47-4f1c56626eac"
      },
      "outputs": [
        {
          "output_type": "stream",
          "name": "stdout",
          "text": [
            "+----------+----------------------+----------+\n|patient_id|outpatient_visit_count|visit_date|\n+----------+----------------------+----------+\n+----------+----------------------+----------+\n\n"
          ]
        }
      ],
      "source": [
        "spark.sql(\"\"\"\n",
        "\n",
        "    select *\n",
        "\n",
        "    from op_visits_csv\n",
        "\n",
        "    where patient_id in (\n",
        "\n",
        "        select distinct patient_id from outpatient_visits\n",
        "        except\n",
        "        select distinct patient_id from outpatient_days\n",
        "\n",
        "    )\n",
        "\n",
        "\"\"\"\n",
        ").show()"
      ]
    },
    {
      "cell_type": "code",
      "execution_count": null,
      "metadata": {
        "application/vnd.databricks.v1+cell": {
          "cellMetadata": {
            "byteLimit": 2048000,
            "implicitDf": true,
            "rowLimit": 10000
          },
          "inputWidgets": {},
          "nuid": "88ef4dd3-e736-421f-ba19-b0ca7a21328b",
          "showTitle": false,
          "title": ""
        },
        "id": "bVdUnzXmxEcv",
        "outputId": "5c835567-307a-42f4-8fa0-fd0106cb5457"
      },
      "outputs": [
        {
          "output_type": "stream",
          "name": "stdout",
          "text": [
            "+---------------------+-------------------+----------+--------------------+\n|enrollment_start_date|enrollment_end_date|patient_id|ct_outpatient_visits|\n+---------------------+-------------------+----------+--------------------+\n|           2023-06-01|         2023-06-30|    ID0647|                 0.0|\n|           2023-03-01|         2023-03-31|    ID0647|                 0.0|\n|           2023-01-01|         2023-01-31|    ID0647|                 0.0|\n|           2023-02-01|         2023-02-28|    ID0647|                 0.0|\n|           2023-11-01|         2023-11-30|    ID0647|                 0.0|\n|           2023-09-01|         2023-09-30|    ID0647|                 0.0|\n+---------------------+-------------------+----------+--------------------+\n\n"
          ]
        }
      ],
      "source": [
        "spark.sql(\"\"\"\n",
        "\n",
        "    select *\n",
        "\n",
        "    from outpatient_visits\n",
        "\n",
        "    where patient_id = 'ID0647'\n",
        "\n",
        "\"\"\"\n",
        ").show()"
      ]
    },
    {
      "cell_type": "code",
      "execution_count": null,
      "metadata": {
        "application/vnd.databricks.v1+cell": {
          "cellMetadata": {
            "byteLimit": 2048000,
            "implicitDf": true,
            "rowLimit": 10000
          },
          "inputWidgets": {},
          "nuid": "f23c5313-10fe-460a-b737-af7feaa71e1c",
          "showTitle": false,
          "title": ""
        },
        "id": "rijNNpiGxEcw",
        "outputId": "b683482f-ee33-464b-d07e-9e4ef5fb5765"
      },
      "outputs": [
        {
          "output_type": "stream",
          "name": "stdout",
          "text": [
            "+----------+----------------------+----------+\n|patient_id|outpatient_visit_count|visit_date|\n+----------+----------------------+----------+\n+----------+----------------------+----------+\n\n"
          ]
        }
      ],
      "source": [
        "spark.sql(\"\"\"\n",
        "\n",
        "    select *\n",
        "\n",
        "    from op_visits_csv\n",
        "\n",
        "    where patient_id = 'ID0647'\n",
        "\n",
        "\"\"\"\n",
        ").show()"
      ]
    },
    {
      "cell_type": "code",
      "execution_count": null,
      "metadata": {
        "application/vnd.databricks.v1+cell": {
          "cellMetadata": {
            "byteLimit": 2048000,
            "rowLimit": 10000
          },
          "inputWidgets": {},
          "nuid": "618ce9d7-aa0e-4c17-ac16-35106d26ddd2",
          "showTitle": false,
          "title": ""
        },
        "id": "mo-Xzf2uxEcw"
      },
      "outputs": [],
      "source": []
    }
  ],
  "metadata": {
    "application/vnd.databricks.v1+notebook": {
      "dashboards": [],
      "environmentMetadata": null,
      "language": "python",
      "notebookMetadata": {
        "mostRecentlyExecutedCommandWithImplicitDF": {
          "commandId": -1,
          "dataframes": [
            "_sqldf"
          ]
        },
        "pythonIndentUnit": 4
      },
      "notebookName": "Untitled Notebook 2024-06-04 13:53:03",
      "widgets": {}
    },
    "colab": {
      "provenance": [],
      "toc_visible": true,
      "include_colab_link": true
    }
  },
  "nbformat": 4,
  "nbformat_minor": 0
}
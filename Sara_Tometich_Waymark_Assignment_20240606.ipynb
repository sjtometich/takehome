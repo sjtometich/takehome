{
  "cells": [
    {
      "cell_type": "markdown",
      "metadata": {
        "application/vnd.databricks.v1+cell": {
          "cellMetadata": {
            "byteLimit": 2048000,
            "rowLimit": 10000
          },
          "inputWidgets": {},
          "nuid": "471064f5-85b6-48c3-93d1-4ee1f97a2cbe",
          "showTitle": false,
          "title": ""
        },
        "id": "BJC_HVUz-0fy"
      },
      "source": [
        "# Notes\n",
        "\n",
        "- I used databricks to code out the assignment since it has some pre-installed packages for accessing data on s3"
      ]
    },
    {
      "cell_type": "markdown",
      "metadata": {
        "application/vnd.databricks.v1+cell": {
          "cellMetadata": {
            "byteLimit": 2048000,
            "rowLimit": 10000
          },
          "inputWidgets": {},
          "nuid": "f0bed5c3-0f58-47d6-8076-c87f4d9a9a2d",
          "showTitle": false,
          "title": ""
        },
        "id": "VERLc3ZY-0f0"
      },
      "source": [
        "# Get Data"
      ]
    },
    {
      "cell_type": "code",
      "execution_count": null,
      "metadata": {
        "application/vnd.databricks.v1+cell": {
          "cellMetadata": {
            "byteLimit": 2048000,
            "rowLimit": 10000
          },
          "inputWidgets": {},
          "nuid": "ea622b85-bf99-4f46-9dc7-dd1ae131c2b4",
          "showTitle": false,
          "title": ""
        },
        "id": "rPyORrhh-0f0"
      },
      "outputs": [],
      "source": [
        "from pyspark.sql.functions import to_date, date_format, col, last_day\n",
        "\n",
        "s3_bucket_name = 'waymark-assignment'\n",
        "file_name_1 = 'patient_id_month_year.csv'\n",
        "file_name_2 = 'outpatient_visits_file.csv'\n",
        "patient_id_month_year = f's3://{s3_bucket_name}/{file_name_1}'\n",
        "outpatient_visits_file = f's3://{s3_bucket_name}/{file_name_2}'\n",
        "\n",
        "# Set up AWS credentials, removed keys for github upload\n",
        "spark.conf.set('spark.hadoop.fs.s3.access.key', 'aws_access_key_id')\n",
        "spark.conf.set('spark.hadoop.fs.s3.secret.key', 'aws_secret_access_key')\n",
        "\n",
        "# Load enrollment data\n",
        "enroll = spark.read.options(header='True').csv(patient_id_month_year)\n",
        "# Fix date formatting\n",
        "enroll = enroll.withColumn(\"enrollment_start_date\", date_format(to_date(col(\"month_year\"), \"M/d/yy\"), \"yyyy-MM-dd\"))\n",
        "enroll = enroll.withColumn(\"enrollment_end_date\", last_day(date_format(to_date(col(\"month_year\"), \"M/d/yy\"), \"yyyy-MM-dd\")))\n",
        "\n",
        "# Load outpatient visits\n",
        "op_visits = spark.read.options(header='True').csv(outpatient_visits_file)\n",
        "# Fix date formatting\n",
        "op_visits = op_visits.withColumn(\"visit_date\", date_format(to_date(col(\"date\"), \"M/d/yy\"), \"yyyy-MM-dd\"))"
      ]
    },
    {
      "cell_type": "markdown",
      "metadata": {
        "application/vnd.databricks.v1+cell": {
          "cellMetadata": {
            "byteLimit": 2048000,
            "rowLimit": 10000
          },
          "inputWidgets": {},
          "nuid": "f00336ab-e2bc-4bdd-8b68-af16afe12041",
          "showTitle": false,
          "title": ""
        },
        "id": "RDnxMuW4-0f1"
      },
      "source": [
        "# Enrollment Span"
      ]
    },
    {
      "cell_type": "code",
      "execution_count": null,
      "metadata": {
        "application/vnd.databricks.v1+cell": {
          "cellMetadata": {
            "byteLimit": 2048000,
            "rowLimit": 10000
          },
          "inputWidgets": {},
          "nuid": "d25c633f-8ecb-4044-abf3-d0e83f269015",
          "showTitle": false,
          "title": ""
        },
        "id": "bd6RUHK_-0f1",
        "outputId": "e6536684-bb3c-4b03-ef94-14aca6b3321b"
      },
      "outputs": [
        {
          "output_type": "stream",
          "name": "stdout",
          "text": [
            "+----------+----------+----+---------------------+-------------------+\n|patient_id|month_year| _c2|enrollment_start_date|enrollment_end_date|\n+----------+----------+----+---------------------+-------------------+\n|    ID0001|    1/1/23|null|           2023-01-01|         2023-01-31|\n|    ID0001|    2/1/23|null|           2023-02-01|         2023-02-28|\n|    ID0001|    3/1/23|null|           2023-03-01|         2023-03-31|\n|    ID0001|    6/1/23|null|           2023-06-01|         2023-06-30|\n|    ID0001|    8/1/23|null|           2023-08-01|         2023-08-31|\n|    ID0001|   11/1/23|null|           2023-11-01|         2023-11-30|\n|    ID0001|   12/1/23|null|           2023-12-01|         2023-12-31|\n|    ID0002|    2/1/23|null|           2023-02-01|         2023-02-28|\n|    ID0002|    3/1/23|null|           2023-03-01|         2023-03-31|\n|    ID0002|    4/1/23|null|           2023-04-01|         2023-04-30|\n|    ID0002|    7/1/23|null|           2023-07-01|         2023-07-31|\n|    ID0002|    9/1/23|null|           2023-09-01|         2023-09-30|\n|    ID0002|   10/1/23|null|           2023-10-01|         2023-10-31|\n|    ID0002|   11/1/23|null|           2023-11-01|         2023-11-30|\n|    ID0002|   12/1/23|null|           2023-12-01|         2023-12-31|\n|    ID0003|    3/1/23|null|           2023-03-01|         2023-03-31|\n|    ID0003|    4/1/23|null|           2023-04-01|         2023-04-30|\n|    ID0003|    6/1/23|null|           2023-06-01|         2023-06-30|\n|    ID0003|    7/1/23|null|           2023-07-01|         2023-07-31|\n|    ID0003|   11/1/23|null|           2023-11-01|         2023-11-30|\n+----------+----------+----+---------------------+-------------------+\nonly showing top 20 rows\n\n"
          ]
        }
      ],
      "source": [
        "# Viewing data to make sure the date transformations are behaving the way I expect\n",
        "\n",
        "enroll.show()"
      ]
    },
    {
      "cell_type": "markdown",
      "metadata": {
        "application/vnd.databricks.v1+cell": {
          "cellMetadata": {
            "byteLimit": 2048000,
            "rowLimit": 10000
          },
          "inputWidgets": {},
          "nuid": "155e6522-f07b-4a52-a1a8-e747e602cd30",
          "showTitle": false,
          "title": ""
        },
        "id": "x9XitpZh-0f2"
      },
      "source": [
        "### Check for Nulls/Blanks"
      ]
    },
    {
      "cell_type": "markdown",
      "metadata": {
        "application/vnd.databricks.v1+cell": {
          "cellMetadata": {
            "byteLimit": 2048000,
            "rowLimit": 10000
          },
          "inputWidgets": {},
          "nuid": "bed2b757-6a78-49bc-b020-1fe1776de3cc",
          "showTitle": false,
          "title": ""
        },
        "id": "2rPglSAz-0f3"
      },
      "source": [
        "#### Nulls"
      ]
    },
    {
      "cell_type": "code",
      "execution_count": null,
      "metadata": {
        "application/vnd.databricks.v1+cell": {
          "cellMetadata": {
            "byteLimit": 2048000,
            "rowLimit": 10000
          },
          "inputWidgets": {},
          "nuid": "4f596db4-d902-4243-b68d-de24b829166e",
          "showTitle": false,
          "title": ""
        },
        "id": "cVMihff0-0f3",
        "outputId": "10210b1d-5534-47aa-f38a-4432aab8a5c2"
      },
      "outputs": [
        {
          "output_type": "stream",
          "name": "stdout",
          "text": [
            "Out[232]: 1039817"
          ]
        }
      ],
      "source": [
        "from pyspark.sql.functions import col\n",
        "\n",
        "enroll.filter(col(\"patient_id\").isNull()).count()"
      ]
    },
    {
      "cell_type": "code",
      "execution_count": null,
      "metadata": {
        "application/vnd.databricks.v1+cell": {
          "cellMetadata": {
            "byteLimit": 2048000,
            "rowLimit": 10000
          },
          "inputWidgets": {},
          "nuid": "636b3cd4-87da-4d66-b108-23f00854f322",
          "showTitle": false,
          "title": ""
        },
        "id": "-5RZsl3l-0f3",
        "outputId": "4704dd32-af74-4a82-ce45-c7c40db89900"
      },
      "outputs": [
        {
          "output_type": "stream",
          "name": "stdout",
          "text": [
            "Out[233]: 1039817"
          ]
        }
      ],
      "source": [
        "from pyspark.sql.functions import col\n",
        "\n",
        "enroll.filter(col(\"month_year\").isNull()).count()"
      ]
    },
    {
      "cell_type": "code",
      "execution_count": null,
      "metadata": {
        "application/vnd.databricks.v1+cell": {
          "cellMetadata": {
            "byteLimit": 2048000,
            "rowLimit": 10000
          },
          "inputWidgets": {},
          "nuid": "94be77b5-6ba9-463b-aca7-3e204e1f1eb0",
          "showTitle": false,
          "title": ""
        },
        "id": "SAkpCjV9-0f4",
        "outputId": "122a740a-6f8e-4e66-eba9-e16eaf9b413d"
      },
      "outputs": [
        {
          "output_type": "stream",
          "name": "stdout",
          "text": [
            "Out[234]: 1039817"
          ]
        }
      ],
      "source": [
        "from pyspark.sql.functions import col\n",
        "\n",
        "enroll.filter(col(\"enrollment_start_date\").isNull()).count()"
      ]
    },
    {
      "cell_type": "code",
      "execution_count": null,
      "metadata": {
        "application/vnd.databricks.v1+cell": {
          "cellMetadata": {
            "byteLimit": 2048000,
            "rowLimit": 10000
          },
          "inputWidgets": {},
          "nuid": "227e7fd7-638c-41f4-92b3-9e71d7f80432",
          "showTitle": false,
          "title": ""
        },
        "id": "aDFVx1NS-0f4",
        "outputId": "c187541a-1305-48cc-d840-eebd8128d8df"
      },
      "outputs": [
        {
          "output_type": "stream",
          "name": "stdout",
          "text": [
            "Out[235]: 1039817"
          ]
        }
      ],
      "source": [
        "from pyspark.sql.functions import col\n",
        "\n",
        "enroll.filter(col(\"enrollment_end_date\").isNull()).count()"
      ]
    },
    {
      "cell_type": "markdown",
      "metadata": {
        "application/vnd.databricks.v1+cell": {
          "cellMetadata": {
            "byteLimit": 2048000,
            "rowLimit": 10000
          },
          "inputWidgets": {},
          "nuid": "e67f678f-28bc-45eb-8d5c-1b38913e0d96",
          "showTitle": false,
          "title": ""
        },
        "id": "jQwtsXzQ-0f4"
      },
      "source": [
        "#### Blanks"
      ]
    },
    {
      "cell_type": "code",
      "execution_count": null,
      "metadata": {
        "application/vnd.databricks.v1+cell": {
          "cellMetadata": {
            "byteLimit": 2048000,
            "rowLimit": 10000
          },
          "inputWidgets": {},
          "nuid": "f2376701-c3f2-4c6f-a1cc-671e33f4d254",
          "showTitle": false,
          "title": ""
        },
        "id": "uJixItDi-0f5",
        "outputId": "160bac99-3aaf-41c1-d685-cc7ae7a7a14d"
      },
      "outputs": [
        {
          "output_type": "stream",
          "name": "stdout",
          "text": [
            "Out[236]: 0"
          ]
        }
      ],
      "source": [
        "from pyspark.sql.functions import col\n",
        "\n",
        "enroll.filter(col(\"patient_id\") == \"\").count()"
      ]
    },
    {
      "cell_type": "code",
      "execution_count": null,
      "metadata": {
        "application/vnd.databricks.v1+cell": {
          "cellMetadata": {
            "byteLimit": 2048000,
            "rowLimit": 10000
          },
          "inputWidgets": {},
          "nuid": "5ffeba60-a7e1-452b-949f-e07b791b6b70",
          "showTitle": false,
          "title": ""
        },
        "id": "lOkAkaP1-0f5",
        "outputId": "76e0a6ff-2c3d-4b88-9597-4fec3b21a5af"
      },
      "outputs": [
        {
          "output_type": "stream",
          "name": "stdout",
          "text": [
            "Out[237]: 0"
          ]
        }
      ],
      "source": [
        "from pyspark.sql.functions import col\n",
        "\n",
        "enroll.filter(col(\"month_year\") == \"\").count()"
      ]
    },
    {
      "cell_type": "code",
      "execution_count": null,
      "metadata": {
        "application/vnd.databricks.v1+cell": {
          "cellMetadata": {
            "byteLimit": 2048000,
            "rowLimit": 10000
          },
          "inputWidgets": {},
          "nuid": "d7031060-0320-4af1-ba43-81aeb9377512",
          "showTitle": false,
          "title": ""
        },
        "id": "vFRCzpEF-0f5",
        "outputId": "790bb5fb-1605-4923-e63d-9b1d310a8361"
      },
      "outputs": [
        {
          "output_type": "stream",
          "name": "stdout",
          "text": [
            "Out[238]: 0"
          ]
        }
      ],
      "source": [
        "from pyspark.sql.functions import col\n",
        "\n",
        "enroll.filter(col(\"enrollment_start_date\") == \"\").count()"
      ]
    },
    {
      "cell_type": "code",
      "execution_count": null,
      "metadata": {
        "application/vnd.databricks.v1+cell": {
          "cellMetadata": {
            "byteLimit": 2048000,
            "rowLimit": 10000
          },
          "inputWidgets": {},
          "nuid": "808d04ff-7fd4-4104-9c20-f899549099b4",
          "showTitle": false,
          "title": ""
        },
        "id": "qD-WSrOz-0f5",
        "outputId": "29c7380e-c86d-40eb-caff-86f83da3091a"
      },
      "outputs": [
        {
          "output_type": "stream",
          "name": "stdout",
          "text": [
            "Out[239]: 0"
          ]
        }
      ],
      "source": [
        "from pyspark.sql.functions import col\n",
        "\n",
        "enroll.filter(col(\"enrollment_end_date\") == \"\").count()"
      ]
    },
    {
      "cell_type": "markdown",
      "metadata": {
        "application/vnd.databricks.v1+cell": {
          "cellMetadata": {
            "byteLimit": 2048000,
            "rowLimit": 10000
          },
          "inputWidgets": {},
          "nuid": "57a742c8-137a-48b5-ba1c-3ff5cfe88eb7",
          "showTitle": false,
          "title": ""
        },
        "id": "7AvjDs8e-0f6"
      },
      "source": [
        "### Total Row Count"
      ]
    },
    {
      "cell_type": "code",
      "execution_count": null,
      "metadata": {
        "application/vnd.databricks.v1+cell": {
          "cellMetadata": {
            "byteLimit": 2048000,
            "rowLimit": 10000
          },
          "inputWidgets": {},
          "nuid": "c7e06996-e8b1-4d92-bc4e-d2c96b75d866",
          "showTitle": false,
          "title": ""
        },
        "id": "r7LU9av4-0f6",
        "outputId": "f8096326-7412-418a-ee82-32cb68e485bb"
      },
      "outputs": [
        {
          "output_type": "stream",
          "name": "stdout",
          "text": [
            "Out[240]: 1047126"
          ]
        }
      ],
      "source": [
        "# Total row count\n",
        "\n",
        "enroll.count()"
      ]
    },
    {
      "cell_type": "markdown",
      "metadata": {
        "application/vnd.databricks.v1+cell": {
          "cellMetadata": {
            "byteLimit": 2048000,
            "rowLimit": 10000
          },
          "inputWidgets": {},
          "nuid": "c06ddfdc-9a83-4303-a813-07b38893d738",
          "showTitle": false,
          "title": ""
        },
        "id": "bCMkJZ0Q-0f6"
      },
      "source": [
        "### Clean Data\n",
        "\n",
        "- Drop nulls, no longer needed columns, and duplicates"
      ]
    },
    {
      "cell_type": "code",
      "execution_count": null,
      "metadata": {
        "application/vnd.databricks.v1+cell": {
          "cellMetadata": {
            "byteLimit": 2048000,
            "rowLimit": 10000
          },
          "inputWidgets": {},
          "nuid": "7e31e1de-521b-4c3a-8a48-f88ece9cd63a",
          "showTitle": false,
          "title": ""
        },
        "id": "y7J2jYeu-0f6"
      },
      "outputs": [],
      "source": [
        "# Drop extra null columns\n",
        "from pyspark.sql.functions import col\n",
        "\n",
        "enroll_upd = enroll.drop('_c2', 'month_year')\n",
        "\n",
        "# Remove duplicates and remove rows where patient ID is null\n",
        "enroll_clean = enroll_upd.dropDuplicates().filter(col(\"patient_id\").isNotNull())"
      ]
    },
    {
      "cell_type": "markdown",
      "metadata": {
        "application/vnd.databricks.v1+cell": {
          "cellMetadata": {
            "byteLimit": 2048000,
            "rowLimit": 10000
          },
          "inputWidgets": {},
          "nuid": "cdea639c-f4b4-4cc3-8791-d5321ec4addc",
          "showTitle": false,
          "title": ""
        },
        "id": "SGFsCKQm-0f6"
      },
      "source": [
        "#### Double checks after data cleaing\n",
        "\n",
        "- Final schema contains the columns we want and in the right format"
      ]
    },
    {
      "cell_type": "code",
      "execution_count": null,
      "metadata": {
        "application/vnd.databricks.v1+cell": {
          "cellMetadata": {
            "byteLimit": 2048000,
            "rowLimit": 10000
          },
          "inputWidgets": {},
          "nuid": "dfbe4a75-dea1-479b-978e-c9c3a74acd41",
          "showTitle": false,
          "title": ""
        },
        "id": "MdXd7Ulj-0f6",
        "outputId": "a35342a6-a1b4-41ca-88d4-1d30806ad31e"
      },
      "outputs": [
        {
          "output_type": "stream",
          "name": "stdout",
          "text": [
            "Out[242]: 7309"
          ]
        }
      ],
      "source": [
        "enroll_clean.count()"
      ]
    },
    {
      "cell_type": "code",
      "execution_count": null,
      "metadata": {
        "application/vnd.databricks.v1+cell": {
          "cellMetadata": {
            "byteLimit": 2048000,
            "rowLimit": 10000
          },
          "inputWidgets": {},
          "nuid": "4a0213da-2b01-4f1f-be7a-a947634344ab",
          "showTitle": false,
          "title": ""
        },
        "id": "uv9-hQdB-0f7",
        "outputId": "7e2bfbfd-c674-4d6e-94f9-5b5cec9993cd"
      },
      "outputs": [
        {
          "output_type": "stream",
          "name": "stdout",
          "text": [
            "+----------+---------------------+-------------------+\n|patient_id|enrollment_start_date|enrollment_end_date|\n+----------+---------------------+-------------------+\n|    ID0002|           2023-09-01|         2023-09-30|\n|    ID0002|           2023-03-01|         2023-03-31|\n|    ID0001|           2023-01-01|         2023-01-31|\n|    ID0003|           2023-06-01|         2023-06-30|\n|    ID0003|           2023-04-01|         2023-04-30|\n|    ID0003|           2023-03-01|         2023-03-31|\n|    ID0003|           2023-12-01|         2023-12-31|\n|    ID0001|           2023-02-01|         2023-02-28|\n|    ID0001|           2023-06-01|         2023-06-30|\n|    ID0002|           2023-10-01|         2023-10-31|\n|    ID0002|           2023-02-01|         2023-02-28|\n|    ID0002|           2023-12-01|         2023-12-31|\n|    ID0001|           2023-11-01|         2023-11-30|\n|    ID0003|           2023-07-01|         2023-07-31|\n|    ID0001|           2023-12-01|         2023-12-31|\n|    ID0002|           2023-11-01|         2023-11-30|\n|    ID0003|           2023-11-01|         2023-11-30|\n|    ID0002|           2023-04-01|         2023-04-30|\n|    ID0001|           2023-03-01|         2023-03-31|\n|    ID0002|           2023-07-01|         2023-07-31|\n+----------+---------------------+-------------------+\nonly showing top 20 rows\n\n"
          ]
        }
      ],
      "source": [
        "enroll_clean.show()"
      ]
    },
    {
      "cell_type": "markdown",
      "metadata": {
        "application/vnd.databricks.v1+cell": {
          "cellMetadata": {
            "byteLimit": 2048000,
            "rowLimit": 10000
          },
          "inputWidgets": {},
          "nuid": "a021e4d7-4fec-4f9b-a652-40e44b86eb6f",
          "showTitle": false,
          "title": ""
        },
        "id": "6xULsuC4-0f7"
      },
      "source": [
        "## Create Table"
      ]
    },
    {
      "cell_type": "code",
      "execution_count": null,
      "metadata": {
        "application/vnd.databricks.v1+cell": {
          "cellMetadata": {
            "byteLimit": 2048000,
            "rowLimit": 10000
          },
          "inputWidgets": {},
          "nuid": "ce8310d7-1776-468f-8a2c-36528c101c9d",
          "showTitle": false,
          "title": ""
        },
        "id": "vEmBezM0-0f7"
      },
      "outputs": [],
      "source": [
        "from pyspark.sql import functions as F\n",
        "from pyspark.sql.window import Window\n",
        "\n",
        "# Use lead and lag to prep for comparison\n",
        "df = enroll_clean.withColumn(\"next_start_date\", F.lead(\"enrollment_start_date\", 1).over(Window.partitionBy(\"patient_id\").orderBy(\"enrollment_start_date\")))\n",
        "\n",
        "df = df.withColumn(\"prev_end_date\", F.lag(\"enrollment_end_date\").over(Window.partitionBy(\"patient_id\").orderBy(\"enrollment_start_date\")))\n",
        "\n",
        "# df.select(\"*\").filter(col(\"patient_id\") == \"ID0001\").show()\n",
        "\n",
        "df = df.withColumn(\"shift\", F.when(F.col(\"enrollment_start_date\") > F.date_add(\"prev_end_date\", 1), 1).otherwise(0))\n",
        "\n",
        "# df.select(\"*\").filter(col(\"patient_id\") == \"ID0001\").show()\n",
        "\n",
        "df = df.withColumn(\"group_by\", F.sum(\"shift\").over(Window.partitionBy(\"patient_id\").orderBy(\"enrollment_start_date\").rowsBetween(Window.unboundedPreceding, Window.currentRow)))\n",
        "\n",
        "# df.select(\"*\").filter(col(\"patient_id\") == \"ID0001\").show()\n",
        "\n",
        "enrollment_span_prep = df.groupBy(\"patient_id\", \"group_by\").agg(F.min(\"enrollment_start_date\").alias(\"enrollment_start_date\"), F.max(\"enrollment_end_date\").alias(\"enrollment_end_date\"))\n",
        "\n",
        "# enrollment_span_prep.select(\"*\").filter(col(\"patient_id\") == \"ID0001\").show()\n",
        "\n",
        "patient_enrollment_span = enrollment_span_prep.drop('group_by')\n",
        "\n",
        "# patient_enrollment_span.select(\"*\").filter(col(\"patient_id\") == \"ID0001\").show()"
      ]
    },
    {
      "cell_type": "markdown",
      "metadata": {
        "application/vnd.databricks.v1+cell": {
          "cellMetadata": {
            "byteLimit": 2048000,
            "rowLimit": 10000
          },
          "inputWidgets": {},
          "nuid": "acfdf361-b229-4663-86b8-3705b6dc2b84",
          "showTitle": false,
          "title": ""
        },
        "id": "8Tu9zxbF-0f7"
      },
      "source": [
        "## Write & Read Enrollment Span CSV"
      ]
    },
    {
      "cell_type": "code",
      "execution_count": null,
      "metadata": {
        "application/vnd.databricks.v1+cell": {
          "cellMetadata": {
            "byteLimit": 2048000,
            "rowLimit": 10000
          },
          "inputWidgets": {},
          "nuid": "29e954f7-b63f-4cc4-b248-250ab7eac894",
          "showTitle": false,
          "title": ""
        },
        "id": "zm-gQrtt-0f7"
      },
      "outputs": [],
      "source": [
        "# s3_output_path = \"s3://waymark-assignment/enrollment_span.csv\"\n",
        "# enroll_clean.write.option(\"header\", True).mode(\"overwrite\").csv(s3_output_path)\n",
        "\n",
        "local_output_path = \"/Users/saratometich/Downloads/patient_enrollment_span.csv\"\n",
        "patient_enrollment_span.write.option(\"header\", True).mode(\"overwrite\").csv(local_output_path)"
      ]
    },
    {
      "cell_type": "code",
      "execution_count": null,
      "metadata": {
        "application/vnd.databricks.v1+cell": {
          "cellMetadata": {
            "byteLimit": 2048000,
            "rowLimit": 10000
          },
          "inputWidgets": {},
          "nuid": "5286265b-c32f-4c74-9a8d-b8b5d8b5e94c",
          "showTitle": false,
          "title": ""
        },
        "id": "TK5TN0yW-0f8"
      },
      "outputs": [],
      "source": [
        "enrollment_span_csv = spark.read.options(header='True').csv(\"/Users/saratometich/Downloads/patient_enrollment_span.csv\")"
      ]
    },
    {
      "cell_type": "markdown",
      "metadata": {
        "application/vnd.databricks.v1+cell": {
          "cellMetadata": {
            "byteLimit": 2048000,
            "rowLimit": 10000
          },
          "inputWidgets": {},
          "nuid": "641424ed-b5ad-43a3-a2b6-301f7c6b64e6",
          "showTitle": false,
          "title": ""
        },
        "id": "J1244Qdb-0f8"
      },
      "source": [
        "# Answer 1\n",
        "\n",
        "Report the number of rows in patient_enrollment_span.csv\n",
        "\n",
        "ANSWER: 3105"
      ]
    },
    {
      "cell_type": "code",
      "execution_count": null,
      "metadata": {
        "application/vnd.databricks.v1+cell": {
          "cellMetadata": {
            "byteLimit": 2048000,
            "rowLimit": 10000
          },
          "inputWidgets": {},
          "nuid": "195f71b5-6a3d-472f-94b6-ae5243364414",
          "showTitle": false,
          "title": ""
        },
        "id": "gF2UQQEY-0f8",
        "outputId": "a0e24832-85f2-438c-805d-0d2f557454b1"
      },
      "outputs": [
        {
          "output_type": "stream",
          "name": "stdout",
          "text": [
            "Out[247]: 3105"
          ]
        }
      ],
      "source": [
        "enrollment_span_csv.count()"
      ]
    },
    {
      "cell_type": "markdown",
      "metadata": {
        "application/vnd.databricks.v1+cell": {
          "cellMetadata": {
            "byteLimit": 2048000,
            "rowLimit": 10000
          },
          "inputWidgets": {},
          "nuid": "692930ea-abd6-44dc-9a24-bffeebee3e58",
          "showTitle": false,
          "title": ""
        },
        "id": "40t7pE8X-0f8"
      },
      "source": [
        "# Outpatient Visits"
      ]
    },
    {
      "cell_type": "markdown",
      "metadata": {
        "application/vnd.databricks.v1+cell": {
          "cellMetadata": {
            "byteLimit": 2048000,
            "rowLimit": 10000
          },
          "inputWidgets": {},
          "nuid": "7f41ec86-9203-4be8-9633-dc0077ccf712",
          "showTitle": false,
          "title": ""
        },
        "id": "gkqiiDRv-0f8"
      },
      "source": []
    },
    {
      "cell_type": "code",
      "execution_count": null,
      "metadata": {
        "application/vnd.databricks.v1+cell": {
          "cellMetadata": {
            "byteLimit": 2048000,
            "rowLimit": 10000
          },
          "inputWidgets": {},
          "nuid": "bf78e4f9-ded0-420f-b3f7-d8d2aeeb484c",
          "showTitle": false,
          "title": ""
        },
        "id": "XKdW1EuQ-0f8",
        "outputId": "82399393-c6ac-4635-c623-f9eb128fd638"
      },
      "outputs": [
        {
          "output_type": "stream",
          "name": "stdout",
          "text": [
            "+----------+--------+----------------------+----+----+----+----+----+----------+\n|patient_id|    date|outpatient_visit_count| _c3| _c4| _c5| _c6| _c7|visit_date|\n+----------+--------+----------------------+----+----+----+----+----+----------+\n|    ID0001|  1/3/23|                     2|null|null|null|null|null|2023-01-03|\n|    ID0001|  1/8/23|                     2|null|null|null|null|null|2023-01-08|\n|    ID0001|  1/9/23|                     2|null|null|null|null|null|2023-01-09|\n|    ID0001| 1/15/23|                     2|null|null|null|null|null|2023-01-15|\n|    ID0001| 1/21/23|                     4|null|null|null|null|null|2023-01-21|\n|    ID0001| 1/25/23|                     1|null|null|null|null|null|2023-01-25|\n|    ID0001| 3/11/23|                     3|null|null|null|null|null|2023-03-11|\n|    ID0001| 3/22/23|                     1|null|null|null|null|null|2023-03-22|\n|    ID0001|  6/3/23|                     2|null|null|null|null|null|2023-06-03|\n|    ID0001|  6/3/23|                     1|null|null|null|null|null|2023-06-03|\n|    ID0001| 6/14/23|                     3|null|null|null|null|null|2023-06-14|\n|    ID0001| 7/17/23|                     4|null|null|null|null|null|2023-07-17|\n|    ID0001| 8/12/23|                     3|null|null|null|null|null|2023-08-12|\n|    ID0001| 8/31/23|                     3|null|null|null|null|null|2023-08-31|\n|    ID0001|  9/6/23|                     4|null|null|null|null|null|2023-09-06|\n|    ID0001|  9/6/23|                     2|null|null|null|null|null|2023-09-06|\n|    ID0001| 9/17/23|                     1|null|null|null|null|null|2023-09-17|\n|    ID0001|11/13/23|                     2|null|null|null|null|null|2023-11-13|\n|    ID0001|11/30/23|                     1|null|null|null|null|null|2023-11-30|\n|    ID0001|12/15/23|                     2|null|null|null|null|null|2023-12-15|\n+----------+--------+----------------------+----+----+----+----+----+----------+\nonly showing top 20 rows\n\n"
          ]
        }
      ],
      "source": [
        "# Viewing data to make sure the date transformations are behaving the way I expect\n",
        "\n",
        "op_visits.show()"
      ]
    },
    {
      "cell_type": "markdown",
      "metadata": {
        "application/vnd.databricks.v1+cell": {
          "cellMetadata": {
            "byteLimit": 2048000,
            "rowLimit": 10000
          },
          "inputWidgets": {},
          "nuid": "1b6a1300-e49b-4ea3-ac09-c8156511ed3a",
          "showTitle": false,
          "title": ""
        },
        "id": "e2vuZJyu-0f9"
      },
      "source": [
        "### Clean Data"
      ]
    },
    {
      "cell_type": "code",
      "execution_count": null,
      "metadata": {
        "application/vnd.databricks.v1+cell": {
          "cellMetadata": {
            "byteLimit": 2048000,
            "rowLimit": 10000
          },
          "inputWidgets": {},
          "nuid": "2187ce41-6ad3-4d3a-9b13-ade43523a478",
          "showTitle": false,
          "title": ""
        },
        "id": "6WwpNUD0-0f9"
      },
      "outputs": [],
      "source": [
        "# Drop extra null columns\n",
        "from pyspark.sql.functions import col\n",
        "\n",
        "op_visits_upd = op_visits.drop('_c3', '_c4', '_c5', '_c6', '_c7', 'date')\n",
        "\n",
        "# Remove duplicates and remove rows where patient ID is null\n",
        "op_visits_clean = op_visits_upd.dropDuplicates().filter(col(\"patient_id\").isNotNull())"
      ]
    },
    {
      "cell_type": "markdown",
      "metadata": {
        "application/vnd.databricks.v1+cell": {
          "cellMetadata": {
            "byteLimit": 2048000,
            "rowLimit": 10000
          },
          "inputWidgets": {},
          "nuid": "d810dcf6-1542-43e7-8de3-d574cbd9840b",
          "showTitle": false,
          "title": ""
        },
        "id": "0E8h-OJc-0f9"
      },
      "source": [
        "#### Double checks after data cleaing\n",
        "\n",
        "- Final schema contains the columns we want and in the right format"
      ]
    },
    {
      "cell_type": "code",
      "execution_count": null,
      "metadata": {
        "application/vnd.databricks.v1+cell": {
          "cellMetadata": {
            "byteLimit": 2048000,
            "rowLimit": 10000
          },
          "inputWidgets": {},
          "nuid": "a489806d-24e4-4c80-a9ee-5b8d8c3171e9",
          "showTitle": false,
          "title": ""
        },
        "id": "M0RBZdOL-0f9",
        "outputId": "e9299df2-6f87-471a-f3e2-e325f967e69f"
      },
      "outputs": [
        {
          "output_type": "stream",
          "name": "stdout",
          "text": [
            "Out[250]: 1043905"
          ]
        }
      ],
      "source": [
        "op_visits.count()"
      ]
    },
    {
      "cell_type": "code",
      "execution_count": null,
      "metadata": {
        "application/vnd.databricks.v1+cell": {
          "cellMetadata": {
            "byteLimit": 2048000,
            "rowLimit": 10000
          },
          "inputWidgets": {},
          "nuid": "fb7d210a-13cb-422e-843e-13b4c988f265",
          "showTitle": false,
          "title": ""
        },
        "id": "lh7yjXLa-0f9",
        "outputId": "db28f97c-2e53-46e7-f173-1eff63220ff2"
      },
      "outputs": [
        {
          "output_type": "stream",
          "name": "stdout",
          "text": [
            "Out[251]: 15196"
          ]
        }
      ],
      "source": [
        "op_visits_clean.count()"
      ]
    },
    {
      "cell_type": "code",
      "execution_count": null,
      "metadata": {
        "application/vnd.databricks.v1+cell": {
          "cellMetadata": {
            "byteLimit": 2048000,
            "rowLimit": 10000
          },
          "inputWidgets": {},
          "nuid": "90333b30-4084-4ad2-b48e-128a8afcc167",
          "showTitle": false,
          "title": ""
        },
        "id": "taKZQu-J-0f-",
        "outputId": "3b124299-b040-4624-cf7b-92c412300c14"
      },
      "outputs": [
        {
          "output_type": "stream",
          "name": "stdout",
          "text": [
            "+----------+----------------------+----------+\n|patient_id|outpatient_visit_count|visit_date|\n+----------+----------------------+----------+\n|    ID0001|                     1|2023-03-22|\n|    ID0001|                     1|2023-09-17|\n|    ID0001|                     3|2023-06-14|\n|    ID0002|                     1|2023-01-15|\n|    ID0001|                     2|2023-09-06|\n|    ID0001|                     4|2023-07-17|\n|    ID0001|                     2|2023-11-13|\n|    ID0001|                     3|2023-08-31|\n|    ID0001|                     2|2023-12-15|\n|    ID0001|                     4|2023-01-21|\n|    ID0001|                     1|2023-01-25|\n|    ID0001|                     2|2023-06-03|\n|    ID0001|                     2|2023-01-03|\n|    ID0001|                     2|2023-01-15|\n|    ID0001|                     2|2023-01-08|\n|    ID0001|                     2|2023-01-09|\n|    ID0001|                     4|2023-09-06|\n|    ID0001|                     1|2023-06-03|\n|    ID0001|                     3|2023-08-12|\n|    ID0001|                     3|2023-03-11|\n+----------+----------------------+----------+\nonly showing top 20 rows\n\n"
          ]
        }
      ],
      "source": [
        "op_visits_clean.show()"
      ]
    },
    {
      "cell_type": "markdown",
      "metadata": {
        "application/vnd.databricks.v1+cell": {
          "cellMetadata": {
            "byteLimit": 2048000,
            "rowLimit": 10000
          },
          "inputWidgets": {},
          "nuid": "5a3b9ab8-046a-46ce-8920-f058d51ab4ac",
          "showTitle": false,
          "title": ""
        },
        "id": "03ucCV0U-0gC"
      },
      "source": [
        "## ct_outpatient_visits\n",
        "\n",
        "The number of outpatient visits a patient had within the enrollment period (between enrollment_start_date and enrollment_end_date)"
      ]
    },
    {
      "cell_type": "markdown",
      "metadata": {
        "application/vnd.databricks.v1+cell": {
          "cellMetadata": {
            "byteLimit": 2048000,
            "rowLimit": 10000
          },
          "inputWidgets": {},
          "nuid": "7f7b5d9f-366b-457a-8a66-1db5a93c7418",
          "showTitle": false,
          "title": ""
        },
        "id": "ual8b-YM-0gC"
      },
      "source": [
        "### Code"
      ]
    },
    {
      "cell_type": "code",
      "execution_count": null,
      "metadata": {
        "application/vnd.databricks.v1+cell": {
          "cellMetadata": {
            "byteLimit": 2048000,
            "rowLimit": 10000
          },
          "inputWidgets": {},
          "nuid": "055e1636-5837-443d-a02b-219adb828445",
          "showTitle": false,
          "title": ""
        },
        "id": "F8epUeKX-0gD"
      },
      "outputs": [],
      "source": [
        "from pyspark.sql.functions import col, coalesce, lit, sum as pyspark_sum\n",
        "\n",
        "joined_df = enrollment_span_csv.join(op_visits,\n",
        "                                 (op_visits.patient_id == enrollment_span_csv.patient_id) &\n",
        "                                 (op_visits.visit_date <= enrollment_span_csv.enrollment_end_date) &\n",
        "                                 (op_visits.visit_date >= enrollment_span_csv.enrollment_start_date),\n",
        "                                 \"left\")\n",
        "\n",
        "grouped_df = joined_df.groupBy(\"enrollment_start_date\", \"enrollment_end_date\", enrollment_span_csv[\"patient_id\"].alias(\"patient_id\"))\n",
        "\n",
        "ct_outpatient_visits = grouped_df.agg(coalesce(pyspark_sum(\"outpatient_visit_count\"), lit(0)).alias(\"ct_outpatient_visits\"))"
      ]
    },
    {
      "cell_type": "markdown",
      "metadata": {
        "application/vnd.databricks.v1+cell": {
          "cellMetadata": {
            "byteLimit": 2048000,
            "rowLimit": 10000
          },
          "inputWidgets": {},
          "nuid": "fb438679-6864-4173-97fa-c88684b005c1",
          "showTitle": false,
          "title": ""
        },
        "id": "_ZTfBdZT-0gD"
      },
      "source": [
        "### Checks"
      ]
    },
    {
      "cell_type": "code",
      "execution_count": null,
      "metadata": {
        "application/vnd.databricks.v1+cell": {
          "cellMetadata": {
            "byteLimit": 2048000,
            "rowLimit": 10000
          },
          "inputWidgets": {},
          "nuid": "edc354e3-377f-4a40-9680-9884f2cfafee",
          "showTitle": false,
          "title": ""
        },
        "id": "YnaOdkuL-0gD",
        "outputId": "ba4ce0ab-9159-4dbb-99ce-4b2bc5d3ec21"
      },
      "outputs": [
        {
          "output_type": "stream",
          "name": "stdout",
          "text": [
            "Out[254]: 3105"
          ]
        }
      ],
      "source": [
        "# Expect no records lost from enrollment span to this point\n",
        "\n",
        "ct_outpatient_visits.count()"
      ]
    },
    {
      "cell_type": "markdown",
      "metadata": {
        "application/vnd.databricks.v1+cell": {
          "cellMetadata": {
            "byteLimit": 2048000,
            "rowLimit": 10000
          },
          "inputWidgets": {},
          "nuid": "bda29fa8-993e-40f1-afab-a8fd2e9fd696",
          "showTitle": false,
          "title": ""
        },
        "id": "u9bJky2H-0gD"
      },
      "source": [
        "## ct_days_with_outpatient_visit\n",
        "\n",
        "The number of distinct days within an enrollment period (between enrollment_start_date and enrollment_end_date) when the patient had one or more outpatient visit"
      ]
    },
    {
      "cell_type": "markdown",
      "metadata": {
        "application/vnd.databricks.v1+cell": {
          "cellMetadata": {
            "byteLimit": 2048000,
            "rowLimit": 10000
          },
          "inputWidgets": {},
          "nuid": "34923ee1-c16f-4e06-9e2d-7c6d0fd8e91f",
          "showTitle": false,
          "title": ""
        },
        "id": "fkf2hRlL-0gD"
      },
      "source": [
        "### Code"
      ]
    },
    {
      "cell_type": "code",
      "execution_count": null,
      "metadata": {
        "application/vnd.databricks.v1+cell": {
          "cellMetadata": {
            "byteLimit": 2048000,
            "rowLimit": 10000
          },
          "inputWidgets": {},
          "nuid": "06918724-6390-43f9-8b16-80aafcffbb92",
          "showTitle": false,
          "title": ""
        },
        "id": "g4snjuqf-0gD"
      },
      "outputs": [],
      "source": [
        "from pyspark.sql.functions import col, countDistinct, sum as pyspark_sum\n",
        "\n",
        "joined_df = enrollment_span_csv.join(op_visits,\n",
        "                                 (op_visits.patient_id == enrollment_span_csv.patient_id) &\n",
        "                                 (op_visits.visit_date <= enrollment_span_csv.enrollment_end_date) &\n",
        "                                 (op_visits.visit_date >= enrollment_span_csv.enrollment_start_date),\n",
        "                                 \"left\")\n",
        "\n",
        "grouped_df = joined_df.groupBy(enrollment_span_csv[\"patient_id\"].alias(\"patient_id\"), \"enrollment_start_date\", \"enrollment_end_date\")\n",
        "\n",
        "result_df = grouped_df.agg(countDistinct(\"visit_date\").alias(\"ct_days_with_outpatient_visit\"),\n",
        "                           pyspark_sum(\"outpatient_visit_count\").alias(\"sum_outpatient_visit_count\"))\n",
        "\n",
        "result_df = result_df.filter(col(\"sum_outpatient_visit_count\") >= 1)\n",
        "\n",
        "ct_days_with_outpatient_visit = result_df.drop(\"sum_outpatient_visit_count\")"
      ]
    },
    {
      "cell_type": "code",
      "execution_count": null,
      "metadata": {
        "application/vnd.databricks.v1+cell": {
          "cellMetadata": {
            "byteLimit": 2048000,
            "rowLimit": 10000
          },
          "inputWidgets": {},
          "nuid": "e743c0a4-e857-47e3-b8ed-b7fe1c1fd234",
          "showTitle": false,
          "title": ""
        },
        "id": "aVgshJvP-0gE",
        "outputId": "012abe74-88a5-4b8e-bac0-e0d1656ab760"
      },
      "outputs": [
        {
          "output_type": "stream",
          "name": "stdout",
          "text": [
            "+----------+---------------------+-------------------+-----------------------------+\n|patient_id|enrollment_start_date|enrollment_end_date|ct_days_with_outpatient_visit|\n+----------+---------------------+-------------------+-----------------------------+\n|    ID0786|           2023-09-01|         2023-10-31|                            4|\n|    ID0138|           2023-01-01|         2023-11-30|                           30|\n|    ID0928|           2023-04-01|         2023-05-31|                            3|\n|    ID0070|           2023-01-01|         2023-01-31|                            3|\n|    ID0714|           2023-09-01|         2023-10-31|                            3|\n|    ID0276|           2023-05-01|         2023-06-30|                            2|\n|    ID0118|           2023-10-01|         2023-12-31|                            4|\n|    ID0489|           2023-12-01|         2023-12-31|                            1|\n|    ID0456|           2023-02-01|         2023-04-30|                            4|\n|    ID0514|           2023-05-01|         2023-06-30|                            3|\n|    ID0222|           2023-08-01|         2023-12-31|                            5|\n|    ID0437|           2023-07-01|         2023-07-31|                            2|\n|    ID0477|           2023-03-01|         2023-04-30|                            4|\n|    ID0753|           2023-07-01|         2023-07-31|                            2|\n|    ID0828|           2023-01-01|         2023-02-28|                            3|\n|    ID0784|           2023-05-01|         2023-12-31|                           20|\n|    ID0297|           2023-12-01|         2023-12-31|                            3|\n|    ID0645|           2023-03-01|         2023-04-30|                            4|\n|    ID0529|           2023-03-01|         2023-03-31|                            3|\n|    ID0200|           2023-10-01|         2023-11-30|                            3|\n+----------+---------------------+-------------------+-----------------------------+\nonly showing top 20 rows\n\n"
          ]
        }
      ],
      "source": [
        "ct_days_with_outpatient_visit.show()"
      ]
    },
    {
      "cell_type": "markdown",
      "metadata": {
        "application/vnd.databricks.v1+cell": {
          "cellMetadata": {
            "byteLimit": 2048000,
            "rowLimit": 10000
          },
          "inputWidgets": {},
          "nuid": "8340be46-e3df-4c88-85ce-f86c03447b8d",
          "showTitle": false,
          "title": ""
        },
        "id": "pxkcX25U-0gE"
      },
      "source": [
        "### Checks"
      ]
    },
    {
      "cell_type": "code",
      "execution_count": null,
      "metadata": {
        "application/vnd.databricks.v1+cell": {
          "cellMetadata": {
            "byteLimit": 2048000,
            "rowLimit": 10000
          },
          "inputWidgets": {},
          "nuid": "5f238636-8a90-409a-a630-c9cefb1bc42d",
          "showTitle": false,
          "title": ""
        },
        "id": "NJ5UkIpx-0gE",
        "outputId": "ace9b735-e5e3-4fc3-dd97-59aeb160e6ae"
      },
      "outputs": [
        {
          "output_type": "stream",
          "name": "stdout",
          "text": [
            "Out[257]: 2030"
          ]
        }
      ],
      "source": [
        "# Expect either no records lost OR some records lost\n",
        "\n",
        "ct_days_with_outpatient_visit.count()"
      ]
    },
    {
      "cell_type": "markdown",
      "metadata": {
        "application/vnd.databricks.v1+cell": {
          "cellMetadata": {
            "byteLimit": 2048000,
            "rowLimit": 10000
          },
          "inputWidgets": {},
          "nuid": "e98d17ed-13a2-4cbc-8d58-901eca8159c5",
          "showTitle": false,
          "title": ""
        },
        "id": "FM8W2Iei-0gE"
      },
      "source": [
        "# Results CSV"
      ]
    },
    {
      "cell_type": "code",
      "execution_count": null,
      "metadata": {
        "application/vnd.databricks.v1+cell": {
          "cellMetadata": {
            "byteLimit": 2048000,
            "rowLimit": 10000
          },
          "inputWidgets": {},
          "nuid": "70337b9a-6a67-4a2a-a3ba-4e02347671ca",
          "showTitle": false,
          "title": ""
        },
        "id": "_5T3PBQp-0gE"
      },
      "outputs": [],
      "source": [
        "# Need to join the two outpatient results to get the final schema\n",
        "from pyspark.sql.functions import col\n",
        "\n",
        "joined_df = ct_outpatient_visits.join(ct_days_with_outpatient_visit,\n",
        "                                 (ct_days_with_outpatient_visit.patient_id == ct_outpatient_visits.patient_id) &\n",
        "                                 (ct_days_with_outpatient_visit.enrollment_start_date == ct_outpatient_visits.enrollment_start_date) &\n",
        "                                 (ct_days_with_outpatient_visit.enrollment_end_date == ct_outpatient_visits.enrollment_end_date),\n",
        "                                 \"left\")\n",
        "\n",
        "result_df = joined_df.select(ct_outpatient_visits.patient_id, ct_outpatient_visits.enrollment_start_date, ct_outpatient_visits.enrollment_end_date, \"ct_outpatient_visits\", coalesce(\"ct_days_with_outpatient_visit\", lit(0)).alias(\"ct_days_with_outpatient_visit\")\n",
        ").distinct()"
      ]
    },
    {
      "cell_type": "code",
      "execution_count": null,
      "metadata": {
        "application/vnd.databricks.v1+cell": {
          "cellMetadata": {
            "byteLimit": 2048000,
            "rowLimit": 10000
          },
          "inputWidgets": {},
          "nuid": "f95faed9-5df6-40c7-89d2-3531cdd9c647",
          "showTitle": false,
          "title": ""
        },
        "id": "zEyXOLPN-0gE",
        "outputId": "7fc3e0f2-a8a0-423e-efb0-8cd03fccca8c"
      },
      "outputs": [
        {
          "output_type": "stream",
          "name": "stdout",
          "text": [
            "+----------+---------------------+-------------------+--------------------+-----------------------------+\n|patient_id|enrollment_start_date|enrollment_end_date|ct_outpatient_visits|ct_days_with_outpatient_visit|\n+----------+---------------------+-------------------+--------------------+-----------------------------+\n|    ID0104|           2023-02-01|         2023-06-30|                81.0|                            8|\n|    ID0120|           2023-01-01|         2023-01-31|                 8.0|                            3|\n|    ID0207|           2023-01-01|         2023-01-31|                 0.0|                            0|\n|    ID0255|           2023-06-01|         2023-08-31|                 0.0|                            0|\n|    ID0302|           2023-06-01|         2023-07-31|                11.0|                            4|\n|    ID0391|           2023-07-01|         2023-10-31|                 0.0|                            0|\n|    ID0511|           2023-02-01|         2023-03-31|                 0.0|                            0|\n|    ID0513|           2023-05-01|         2023-06-30|                 9.0|                            4|\n|    ID0536|           2023-06-01|         2023-06-30|                 9.0|                            4|\n|    ID0587|           2023-10-01|         2023-10-31|                 0.0|                            0|\n|    ID0706|           2023-03-01|         2023-04-30|                 7.0|                            2|\n|    ID0709|           2023-02-01|         2023-04-30|                21.0|                            8|\n|    ID0748|           2023-04-01|         2023-05-31|                15.0|                            5|\n|    ID0829|           2023-08-01|         2023-09-30|                 3.0|                            1|\n|    ID0961|           2023-06-01|         2023-12-31|                59.0|                           20|\n|    ID0982|           2023-08-01|         2023-08-31|                 0.0|                            0|\n|    ID0163|           2023-06-01|         2023-08-31|                 0.0|                            0|\n|    ID0181|           2023-10-01|         2023-12-31|                19.0|                            7|\n|    ID0329|           2023-11-01|         2023-11-30|                 6.0|                            3|\n|    ID0351|           2023-12-01|         2023-12-31|                 0.0|                            0|\n+----------+---------------------+-------------------+--------------------+-----------------------------+\nonly showing top 20 rows\n\n"
          ]
        }
      ],
      "source": [
        "result_df.show()"
      ]
    },
    {
      "cell_type": "code",
      "execution_count": null,
      "metadata": {
        "application/vnd.databricks.v1+cell": {
          "cellMetadata": {
            "byteLimit": 2048000,
            "rowLimit": 10000
          },
          "inputWidgets": {},
          "nuid": "28caa7b7-3f73-46f3-8730-47d9a43a19a9",
          "showTitle": false,
          "title": ""
        },
        "id": "PHgwlox0-0gF",
        "outputId": "e92d0369-7575-4d23-a76f-02c3ef299080"
      },
      "outputs": [
        {
          "output_type": "stream",
          "name": "stdout",
          "text": [
            "Out[260]: 3105"
          ]
        }
      ],
      "source": [
        "result_df.count()"
      ]
    },
    {
      "cell_type": "markdown",
      "metadata": {
        "application/vnd.databricks.v1+cell": {
          "cellMetadata": {
            "byteLimit": 2048000,
            "rowLimit": 10000
          },
          "inputWidgets": {},
          "nuid": "6f51be35-dc7e-4c9e-b15b-901ca8571267",
          "showTitle": false,
          "title": ""
        },
        "id": "08JXS73B-0gF"
      },
      "source": [
        "### Write & Read Result CSV"
      ]
    },
    {
      "cell_type": "code",
      "execution_count": null,
      "metadata": {
        "application/vnd.databricks.v1+cell": {
          "cellMetadata": {
            "byteLimit": 2048000,
            "rowLimit": 10000
          },
          "inputWidgets": {},
          "nuid": "b713c711-d909-45e0-9803-55c9ad4f5857",
          "showTitle": false,
          "title": ""
        },
        "id": "xtBlEtEd-0gF"
      },
      "outputs": [],
      "source": [
        "# s3_output_path = \"s3://waymark-assignment/result.csv\"\n",
        "# result_df.write.option(\"header\", True).mode(\"overwrite\").csv(s3_output_path)\n",
        "\n",
        "local_output_path = \"/Users/saratometich/Downloads/result.csv\"\n",
        "result_df.write.option(\"header\", True).mode(\"overwrite\").csv(local_output_path)"
      ]
    },
    {
      "cell_type": "code",
      "execution_count": null,
      "metadata": {
        "application/vnd.databricks.v1+cell": {
          "cellMetadata": {
            "byteLimit": 2048000,
            "rowLimit": 10000
          },
          "inputWidgets": {},
          "nuid": "5b3fcbe8-454c-4952-8a52-9f340ee00b48",
          "showTitle": false,
          "title": ""
        },
        "id": "ecybN0nE-0gF"
      },
      "outputs": [],
      "source": [
        "result_csv = spark.read.options(header='True').csv(\"/Users/saratometich/Downloads/result.csv\")"
      ]
    },
    {
      "cell_type": "markdown",
      "metadata": {
        "application/vnd.databricks.v1+cell": {
          "cellMetadata": {
            "byteLimit": 2048000,
            "rowLimit": 10000
          },
          "inputWidgets": {},
          "nuid": "74a6bace-4c70-4ca8-82d5-55107f517003",
          "showTitle": false,
          "title": ""
        },
        "id": "mTwW7ZGF-0gF"
      },
      "source": [
        "## Checks"
      ]
    },
    {
      "cell_type": "code",
      "execution_count": null,
      "metadata": {
        "application/vnd.databricks.v1+cell": {
          "cellMetadata": {
            "byteLimit": 2048000,
            "rowLimit": 10000
          },
          "inputWidgets": {},
          "nuid": "d9165731-0d27-4aee-859f-6152f5bbfe4a",
          "showTitle": false,
          "title": ""
        },
        "id": "_3PVIksd-0gG",
        "outputId": "829b1a7b-41a6-4f7d-db2c-c4404ae09b1a"
      },
      "outputs": [
        {
          "output_type": "stream",
          "name": "stdout",
          "text": [
            "Out[263]: 3105"
          ]
        }
      ],
      "source": [
        "result_csv.count()"
      ]
    },
    {
      "cell_type": "code",
      "execution_count": null,
      "metadata": {
        "application/vnd.databricks.v1+cell": {
          "cellMetadata": {
            "byteLimit": 2048000,
            "rowLimit": 10000
          },
          "inputWidgets": {},
          "nuid": "ad848546-a0fc-4077-896f-f0c5efd1ff99",
          "showTitle": false,
          "title": ""
        },
        "id": "mLYrEKpg-0gG",
        "outputId": "01da7bf3-3f6a-4d26-88eb-85eb5b3f6d27"
      },
      "outputs": [
        {
          "output_type": "stream",
          "name": "stdout",
          "text": [
            "Out[264]: 2030"
          ]
        }
      ],
      "source": [
        "count_check = result_csv.filter(col(\"ct_days_with_outpatient_visit\") > 0).select(\"patient_id\", \"enrollment_start_date\", \"enrollment_end_date\").distinct()\n",
        "\n",
        "count_check.count()"
      ]
    },
    {
      "cell_type": "code",
      "execution_count": null,
      "metadata": {
        "application/vnd.databricks.v1+cell": {
          "cellMetadata": {
            "byteLimit": 2048000,
            "rowLimit": 10000
          },
          "inputWidgets": {},
          "nuid": "6eca7040-7914-484d-8b00-03959fa617de",
          "showTitle": false,
          "title": ""
        },
        "id": "iK0dImFg-0gG",
        "outputId": "88b9818c-7482-487c-9c04-11b608639fec"
      },
      "outputs": [
        {
          "output_type": "stream",
          "name": "stdout",
          "text": [
            "Out[265]: 1075"
          ]
        }
      ],
      "source": [
        "count_check_2 = result_csv.filter(col(\"ct_days_with_outpatient_visit\") == 0).select(\"patient_id\", \"enrollment_start_date\", \"enrollment_end_date\").distinct()\n",
        "\n",
        "count_check_2.count()"
      ]
    },
    {
      "cell_type": "markdown",
      "metadata": {
        "application/vnd.databricks.v1+cell": {
          "cellMetadata": {
            "byteLimit": 2048000,
            "rowLimit": 10000
          },
          "inputWidgets": {},
          "nuid": "52f0ecba-b40b-46ab-8bab-e94c6a7f0146",
          "showTitle": false,
          "title": ""
        },
        "id": "0cLoicgF-0gG"
      },
      "source": [
        "## Check example patient ID"
      ]
    },
    {
      "cell_type": "code",
      "execution_count": null,
      "metadata": {
        "application/vnd.databricks.v1+cell": {
          "cellMetadata": {
            "byteLimit": 2048000,
            "rowLimit": 10000
          },
          "inputWidgets": {},
          "nuid": "ce203404-8200-48bf-8da7-e889a387d86d",
          "showTitle": false,
          "title": ""
        },
        "id": "E0Frvkkn-0gG",
        "outputId": "14e79bde-e0d4-4626-a3d2-60288b5b378a"
      },
      "outputs": [
        {
          "output_type": "stream",
          "name": "stdout",
          "text": [
            "+----------+---------------------+-------------------+--------------------+-----------------------------+\n|patient_id|enrollment_start_date|enrollment_end_date|ct_outpatient_visits|ct_days_with_outpatient_visit|\n+----------+---------------------+-------------------+--------------------+-----------------------------+\n|    ID0001|           2023-01-01|         2023-03-31|                17.0|                            8|\n|    ID0001|           2023-06-01|         2023-06-30|                 6.0|                            2|\n|    ID0001|           2023-08-01|         2023-08-31|                 6.0|                            2|\n|    ID0001|           2023-11-01|         2023-12-31|                 5.0|                            3|\n+----------+---------------------+-------------------+--------------------+-----------------------------+\n\n"
          ]
        }
      ],
      "source": [
        "example_check_result = result_csv.filter(col(\"patient_id\") == 'ID0001').select(\"*\").distinct().orderBy(\"enrollment_start_date\")\n",
        "\n",
        "example_check_result.show()"
      ]
    },
    {
      "cell_type": "code",
      "execution_count": null,
      "metadata": {
        "application/vnd.databricks.v1+cell": {
          "cellMetadata": {
            "byteLimit": 2048000,
            "rowLimit": 10000
          },
          "inputWidgets": {},
          "nuid": "2d229f30-6151-4f96-b51f-e5eb05debe06",
          "showTitle": false,
          "title": ""
        },
        "id": "0LCb1R6h-0gG",
        "outputId": "ea4c7a5b-e354-4b51-c754-d73990490a79"
      },
      "outputs": [
        {
          "output_type": "stream",
          "name": "stdout",
          "text": [
            "+----------+---------------------+-------------------+\n|patient_id|enrollment_start_date|enrollment_end_date|\n+----------+---------------------+-------------------+\n|    ID0001|           2023-01-01|         2023-03-31|\n|    ID0001|           2023-06-01|         2023-06-30|\n|    ID0001|           2023-08-01|         2023-08-31|\n|    ID0001|           2023-11-01|         2023-12-31|\n+----------+---------------------+-------------------+\n\n"
          ]
        }
      ],
      "source": [
        "example_check_span = enrollment_span_csv.filter(col(\"patient_id\") == 'ID0001').select(\"*\").distinct().orderBy(\"enrollment_start_date\")\n",
        "\n",
        "example_check_span.show()"
      ]
    },
    {
      "cell_type": "markdown",
      "metadata": {
        "application/vnd.databricks.v1+cell": {
          "cellMetadata": {
            "byteLimit": 2048000,
            "rowLimit": 10000
          },
          "inputWidgets": {},
          "nuid": "d7c9d3a0-069e-40fe-8c01-337a822efa5a",
          "showTitle": false,
          "title": ""
        },
        "id": "RWVnQxOk-0gH"
      },
      "source": [
        "\n",
        "# Answer 2\n",
        "\n",
        "Report the number of distinct values of ct_days_with_outpatient_visit in\n",
        "result.csv\n",
        "\n",
        "ANSWER: 33 (including 0 as a distinct value)"
      ]
    },
    {
      "cell_type": "code",
      "execution_count": null,
      "metadata": {
        "application/vnd.databricks.v1+cell": {
          "cellMetadata": {
            "byteLimit": 2048000,
            "rowLimit": 10000
          },
          "inputWidgets": {},
          "nuid": "09556339-9175-48e2-b108-411bc33c47a8",
          "showTitle": false,
          "title": ""
        },
        "id": "wvBHDTcV-0gH",
        "outputId": "c3006e54-7751-47ef-f2dc-c96001a52cb6"
      },
      "outputs": [
        {
          "output_type": "stream",
          "name": "stdout",
          "text": [
            "Out[268]: 33"
          ]
        }
      ],
      "source": [
        "distinct_values = result_csv.select(\"ct_days_with_outpatient_visit\").distinct()\n",
        "\n",
        "distinct_values.count() # includes 0"
      ]
    },
    {
      "cell_type": "markdown",
      "metadata": {
        "application/vnd.databricks.v1+cell": {
          "cellMetadata": {
            "byteLimit": 2048000,
            "rowLimit": 10000
          },
          "inputWidgets": {},
          "nuid": "56490946-b081-4f7d-83ad-7cb0ebb1231c",
          "showTitle": false,
          "title": ""
        },
        "id": "UZ_hQqKf-0gH"
      },
      "source": [
        "## Checks"
      ]
    },
    {
      "cell_type": "code",
      "execution_count": null,
      "metadata": {
        "application/vnd.databricks.v1+cell": {
          "cellMetadata": {
            "byteLimit": 2048000,
            "rowLimit": 10000
          },
          "inputWidgets": {},
          "nuid": "24db5a73-ac67-4a9f-8b17-c16c82505f07",
          "showTitle": false,
          "title": ""
        },
        "id": "NNbu65oI-0gH",
        "outputId": "20d3d1dc-102e-465d-b645-c1ac76c91f7b"
      },
      "outputs": [
        {
          "output_type": "stream",
          "name": "stdout",
          "text": [
            "+-----------------------------+\n|ct_days_with_outpatient_visit|\n+-----------------------------+\n|                            0|\n|                            1|\n|                           10|\n|                           11|\n|                           12|\n|                           13|\n|                           14|\n|                           15|\n|                           16|\n|                           17|\n|                           18|\n|                           19|\n|                            2|\n|                           20|\n|                           21|\n|                           22|\n|                           23|\n|                           24|\n|                           25|\n|                           26|\n|                           27|\n|                           28|\n|                            3|\n|                           30|\n|                           31|\n|                           32|\n|                           33|\n|                            4|\n|                            5|\n|                            6|\n|                            7|\n|                            8|\n|                            9|\n+-----------------------------+\n\n"
          ]
        }
      ],
      "source": [
        "distinct_values = result_csv.select(\"ct_days_with_outpatient_visit\").distinct().orderBy(\"ct_days_with_outpatient_visit\")\n",
        "\n",
        "distinct_values.show(50)"
      ]
    },
    {
      "cell_type": "markdown",
      "metadata": {
        "application/vnd.databricks.v1+cell": {
          "cellMetadata": {
            "byteLimit": 2048000,
            "rowLimit": 10000
          },
          "inputWidgets": {},
          "nuid": "692eddbd-dd8a-458d-b881-e802e18a1d94",
          "showTitle": false,
          "title": ""
        },
        "id": "2fNFjvFj-0gH"
      },
      "source": [
        "# QA Section\n",
        "\n",
        "I used SQL to check my results"
      ]
    },
    {
      "cell_type": "markdown",
      "metadata": {
        "application/vnd.databricks.v1+cell": {
          "cellMetadata": {
            "byteLimit": 2048000,
            "rowLimit": 10000
          },
          "inputWidgets": {},
          "nuid": "f70f8d47-b7c3-411f-a117-01ba899b5b42",
          "showTitle": false,
          "title": ""
        },
        "id": "jCx85w76-0gH"
      },
      "source": [
        "## Enrollment Span Content Checks"
      ]
    },
    {
      "cell_type": "code",
      "execution_count": null,
      "metadata": {
        "application/vnd.databricks.v1+cell": {
          "cellMetadata": {
            "byteLimit": 2048000,
            "rowLimit": 10000
          },
          "inputWidgets": {},
          "nuid": "8121d726-9fdd-44a1-a655-1a8bed45b75d",
          "showTitle": false,
          "title": ""
        },
        "id": "_cj-URfm-0gI"
      },
      "outputs": [],
      "source": [
        "enroll_clean.createOrReplaceTempView(\"enrollment_span_prep\")"
      ]
    },
    {
      "cell_type": "code",
      "execution_count": null,
      "metadata": {
        "application/vnd.databricks.v1+cell": {
          "cellMetadata": {
            "byteLimit": 2048000,
            "rowLimit": 10000
          },
          "inputWidgets": {},
          "nuid": "75fcdbd4-3d2f-4306-bae1-215b6bdf6a1a",
          "showTitle": false,
          "title": ""
        },
        "id": "YFUTfFED-0gI"
      },
      "outputs": [],
      "source": [
        "enrollment_span_csv.createOrReplaceTempView(\"enrollment_span_csv\")"
      ]
    },
    {
      "cell_type": "markdown",
      "metadata": {
        "application/vnd.databricks.v1+cell": {
          "cellMetadata": {
            "byteLimit": 2048000,
            "rowLimit": 10000
          },
          "inputWidgets": {},
          "nuid": "955da681-f250-466c-8396-08f76e903610",
          "showTitle": false,
          "title": ""
        },
        "id": "NLkknaPO-0gI"
      },
      "source": [
        "### Code Check using SQL"
      ]
    },
    {
      "cell_type": "code",
      "execution_count": null,
      "metadata": {
        "application/vnd.databricks.v1+cell": {
          "cellMetadata": {
            "byteLimit": 2048000,
            "rowLimit": 10000
          },
          "inputWidgets": {},
          "nuid": "0ecb7b44-8f97-473f-8393-6b2db07058fc",
          "showTitle": false,
          "title": ""
        },
        "id": "46Syb8La-0gI",
        "outputId": "928316e4-43e5-4b44-c44d-b1781e7e98b1"
      },
      "outputs": [
        {
          "output_type": "stream",
          "name": "stdout",
          "text": [
            "+----------+---------------------+-------------------+---------------+-----------------+\n|patient_id|enrollment_start_date|enrollment_end_date|next_start_date|previous_end_date|\n+----------+---------------------+-------------------+---------------+-----------------+\n|    ID0001|           2023-01-01|         2023-01-31|     2023-02-01|             null|\n|    ID0001|           2023-02-01|         2023-02-28|     2023-03-01|       2023-01-31|\n|    ID0001|           2023-03-01|         2023-03-31|     2023-06-01|       2023-02-28|\n|    ID0001|           2023-06-01|         2023-06-30|     2023-08-01|       2023-03-31|\n|    ID0001|           2023-08-01|         2023-08-31|     2023-11-01|       2023-06-30|\n|    ID0001|           2023-11-01|         2023-11-30|     2023-12-01|       2023-08-31|\n|    ID0001|           2023-12-01|         2023-12-31|           null|       2023-11-30|\n+----------+---------------------+-------------------+---------------+-----------------+\n\n"
          ]
        }
      ],
      "source": [
        "spark.sql(\"\"\"\n",
        "\n",
        "select\n",
        "patient_id\n",
        ", enrollment_start_date\n",
        ", enrollment_end_date\n",
        ", lead(enrollment_start_date, 1) over (partition by patient_id order by enrollment_start_date asc) as next_start_date\n",
        ", lag(enrollment_end_date) over (partition by patient_id order by enrollment_start_date asc) as previous_end_date\n",
        "\n",
        "from enrollment_span_prep\n",
        "\n",
        "where patient_id = 'ID0001'\n",
        "\n",
        "\"\"\"\n",
        ").show()"
      ]
    },
    {
      "cell_type": "code",
      "execution_count": null,
      "metadata": {
        "application/vnd.databricks.v1+cell": {
          "cellMetadata": {
            "byteLimit": 2048000,
            "rowLimit": 10000
          },
          "inputWidgets": {},
          "nuid": "f006fad6-7688-471c-add5-875e76d50028",
          "showTitle": false,
          "title": ""
        },
        "id": "iogOLIoE-0gI",
        "outputId": "adc8db75-b2f9-4cb0-dc94-c4a23ede6f9e"
      },
      "outputs": [
        {
          "output_type": "stream",
          "name": "stdout",
          "text": [
            "+----------+---------------------+-------------------+---------------+-----------------+----------+\n|patient_id|enrollment_start_date|enrollment_end_date|next_start_date|previous_end_date|      test|\n+----------+---------------------+-------------------+---------------+-----------------+----------+\n|    ID0001|           2023-01-01|         2023-01-31|     2023-02-01|             null|      null|\n|    ID0001|           2023-02-01|         2023-02-28|     2023-03-01|       2023-01-31|2023-02-01|\n|    ID0001|           2023-03-01|         2023-03-31|     2023-06-01|       2023-02-28|2023-03-01|\n|    ID0001|           2023-06-01|         2023-06-30|     2023-08-01|       2023-03-31|2023-04-01|\n|    ID0001|           2023-08-01|         2023-08-31|     2023-11-01|       2023-06-30|2023-07-01|\n|    ID0001|           2023-11-01|         2023-11-30|     2023-12-01|       2023-08-31|2023-09-01|\n|    ID0001|           2023-12-01|         2023-12-31|           null|       2023-11-30|2023-12-01|\n+----------+---------------------+-------------------+---------------+-----------------+----------+\n\n"
          ]
        }
      ],
      "source": [
        "spark.sql(\"\"\"\n",
        "\n",
        "with cte1 as (\n",
        "\n",
        "    select\n",
        "    patient_id\n",
        "    , enrollment_start_date\n",
        "    , enrollment_end_date\n",
        "    , lead(enrollment_start_date, 1) over (partition by patient_id order by enrollment_start_date asc) as next_start_date\n",
        "    , lag(enrollment_end_date) over (partition by patient_id order by enrollment_start_date asc) as previous_end_date\n",
        "\n",
        "    from enrollment_span_prep\n",
        "\n",
        "),\n",
        "\n",
        "cte2 as (\n",
        "    select\n",
        "    patient_id\n",
        "    , enrollment_start_date\n",
        "    , enrollment_end_date\n",
        "    , next_start_date\n",
        "    , previous_end_date\n",
        "    , date_add(previous_end_date, 1) as test\n",
        "\n",
        "    from cte1\n",
        "\n",
        ")\n",
        "\n",
        "select * from cte2 where patient_id = 'ID0001'\n",
        "\n",
        "\"\"\"\n",
        ").show()"
      ]
    },
    {
      "cell_type": "code",
      "execution_count": null,
      "metadata": {
        "application/vnd.databricks.v1+cell": {
          "cellMetadata": {
            "byteLimit": 2048000,
            "rowLimit": 10000
          },
          "inputWidgets": {},
          "nuid": "76fc69a1-d45d-44dd-bd15-ce5c14d0fae4",
          "showTitle": false,
          "title": ""
        },
        "id": "93wZf2Ve-0gJ",
        "outputId": "d89ffabf-fe35-4c2f-d647-7beb00141ea0"
      },
      "outputs": [
        {
          "output_type": "stream",
          "name": "stdout",
          "text": [
            "+----------+---------------------+-------------------+---------------+-----------------+--------+\n|patient_id|enrollment_start_date|enrollment_end_date|next_start_date|previous_end_date|group_by|\n+----------+---------------------+-------------------+---------------+-----------------+--------+\n|    ID0001|           2023-01-01|         2023-01-31|     2023-02-01|             null|       0|\n|    ID0001|           2023-02-01|         2023-02-28|     2023-03-01|       2023-01-31|       0|\n|    ID0001|           2023-03-01|         2023-03-31|     2023-06-01|       2023-02-28|       0|\n|    ID0001|           2023-06-01|         2023-06-30|     2023-08-01|       2023-03-31|       1|\n|    ID0001|           2023-08-01|         2023-08-31|     2023-11-01|       2023-06-30|       2|\n|    ID0001|           2023-11-01|         2023-11-30|     2023-12-01|       2023-08-31|       3|\n|    ID0001|           2023-12-01|         2023-12-31|           null|       2023-11-30|       3|\n+----------+---------------------+-------------------+---------------+-----------------+--------+\n\n"
          ]
        }
      ],
      "source": [
        "spark.sql(\"\"\"\n",
        "\n",
        "with cte1 as (\n",
        "    select\n",
        "    patient_id\n",
        "    , enrollment_start_date\n",
        "    , enrollment_end_date\n",
        "    , lead(enrollment_start_date, 1) over (partition by patient_id order by enrollment_start_date asc) as next_start_date\n",
        "    , lag(enrollment_end_date, 1) over (partition by patient_id order by enrollment_start_date asc) as previous_end_date\n",
        "\n",
        "    from enrollment_span_prep\n",
        "\n",
        "    where patient_id = 'ID0001'\n",
        "\n",
        "),\n",
        "\n",
        "cte2 as (\n",
        "\n",
        "    select\n",
        "    patient_id\n",
        "    , enrollment_start_date\n",
        "    , enrollment_end_date\n",
        "    , next_start_date\n",
        "    , previous_end_date\n",
        "    , case when enrollment_start_date > date_add(previous_end_date, 1) then 1 else 0 end as shift\n",
        "\n",
        "    from cte1\n",
        "\n",
        ")\n",
        "\n",
        "\n",
        "select\n",
        "patient_id\n",
        ", enrollment_start_date\n",
        ", enrollment_end_date\n",
        ", next_start_date\n",
        ", previous_end_date\n",
        ", sum(shift) over (partition by patient_id rows unbounded preceding) as group_by\n",
        "\n",
        "from cte2\n",
        "\n",
        "\"\"\"\n",
        ").show()"
      ]
    },
    {
      "cell_type": "code",
      "execution_count": null,
      "metadata": {
        "application/vnd.databricks.v1+cell": {
          "cellMetadata": {
            "byteLimit": 2048000,
            "rowLimit": 10000
          },
          "inputWidgets": {},
          "nuid": "5816687b-226d-4f45-a7d0-b5e63c318340",
          "showTitle": false,
          "title": ""
        },
        "id": "EnogKeX--0gJ",
        "outputId": "327d1ad8-94bc-4e40-f55a-74d11aab1b31"
      },
      "outputs": [
        {
          "output_type": "stream",
          "name": "stdout",
          "text": [
            "+----------+---------------------+-------------------+\n|patient_id|enrollment_start_date|enrollment_end_date|\n+----------+---------------------+-------------------+\n|    ID0001|           2023-01-01|         2023-03-31|\n|    ID0001|           2023-06-01|         2023-06-30|\n|    ID0001|           2023-08-01|         2023-08-31|\n|    ID0001|           2023-11-01|         2023-12-31|\n+----------+---------------------+-------------------+\n\n"
          ]
        }
      ],
      "source": [
        "spark.sql(\"\"\"\n",
        "\n",
        "with cte1 as (\n",
        "\n",
        "    select\n",
        "    patient_id\n",
        "    , enrollment_start_date\n",
        "    , enrollment_end_date\n",
        "    , lead(enrollment_start_date, 1) over (partition by patient_id order by enrollment_start_date asc) as next_start_date\n",
        "    , lag(enrollment_end_date) over (partition by patient_id order by enrollment_start_date asc) as previous_end_date\n",
        "\n",
        "    from enrollment_span_prep\n",
        "\n",
        "),\n",
        "\n",
        "cte2 as (\n",
        "\n",
        "    select\n",
        "    patient_id\n",
        "    , enrollment_start_date\n",
        "    , enrollment_end_date\n",
        "    , next_start_date\n",
        "    , previous_end_date\n",
        "    , case when enrollment_start_date > date_add(previous_end_date, 1) then 1 else 0 end as shift\n",
        "\n",
        "    from cte1\n",
        "),\n",
        "\n",
        "cte3 as (\n",
        "\n",
        "    select\n",
        "    patient_id\n",
        "    , enrollment_start_date\n",
        "    , enrollment_end_date\n",
        "    , sum(shift) over (partition by patient_id order by enrollment_start_date rows unbounded preceding) as group_by\n",
        "\n",
        "    from cte2\n",
        "\n",
        ")\n",
        "\n",
        "select\n",
        "patient_id,\n",
        "min(enrollment_start_date) as enrollment_start_date,\n",
        "max(enrollment_end_date) as enrollment_end_date\n",
        "\n",
        "from cte3\n",
        "\n",
        "where patient_id = 'ID0001'\n",
        "\n",
        "group by\n",
        "patient_id\n",
        ", group_by\n",
        "\n",
        "order by\n",
        "patient_id\n",
        ", group_by\n",
        "\n",
        "\"\"\"\n",
        ").show()"
      ]
    },
    {
      "cell_type": "markdown",
      "metadata": {
        "application/vnd.databricks.v1+cell": {
          "cellMetadata": {
            "byteLimit": 2048000,
            "rowLimit": 10000
          },
          "inputWidgets": {},
          "nuid": "5e2bc6d0-5528-408b-b938-5e8050f6e015",
          "showTitle": false,
          "title": ""
        },
        "id": "N9lDnky4-0gJ"
      },
      "source": [
        "### Enrollment Date Reasonability Checks"
      ]
    },
    {
      "cell_type": "code",
      "execution_count": null,
      "metadata": {
        "application/vnd.databricks.v1+cell": {
          "cellMetadata": {
            "byteLimit": 2048000,
            "rowLimit": 10000
          },
          "inputWidgets": {},
          "nuid": "648d3213-8021-4b69-9b56-88bf92096003",
          "showTitle": false,
          "title": ""
        },
        "id": "NG6FYwnL-0gJ",
        "outputId": "d8448918-11f5-4a9b-fdea-86a7041d8d26"
      },
      "outputs": [
        {
          "output_type": "stream",
          "name": "stdout",
          "text": [
            "Out[276]: 3105"
          ]
        }
      ],
      "source": [
        "spark.sql(\"\"\"\n",
        "\n",
        "    select distinct\n",
        "    patient_id\n",
        "    , enrollment_start_date\n",
        "    , enrollment_end_date\n",
        "\n",
        "    from enrollment_span_csv\n",
        "\n",
        "    where enrollment_start_date < enrollment_end_date\n",
        "\n",
        "\"\"\"\n",
        ").count()"
      ]
    },
    {
      "cell_type": "code",
      "execution_count": null,
      "metadata": {
        "application/vnd.databricks.v1+cell": {
          "cellMetadata": {
            "byteLimit": 2048000,
            "rowLimit": 10000
          },
          "inputWidgets": {},
          "nuid": "1ade29c8-f040-435c-b741-9c4b596b1001",
          "showTitle": false,
          "title": ""
        },
        "id": "MmQh9m_7-0gK",
        "outputId": "7c957f9a-61a1-4dc9-8a76-059f4e92b5fe"
      },
      "outputs": [
        {
          "output_type": "stream",
          "name": "stdout",
          "text": [
            "Out[277]: 0"
          ]
        }
      ],
      "source": [
        "spark.sql(\"\"\"\n",
        "\n",
        "    select distinct\n",
        "    patient_id\n",
        "    , enrollment_start_date\n",
        "    , enrollment_end_date\n",
        "\n",
        "    from enrollment_span_csv\n",
        "\n",
        "    where enrollment_start_date = enrollment_end_date\n",
        "\n",
        "\"\"\"\n",
        ").count()"
      ]
    },
    {
      "cell_type": "code",
      "execution_count": null,
      "metadata": {
        "application/vnd.databricks.v1+cell": {
          "cellMetadata": {
            "byteLimit": 2048000,
            "rowLimit": 10000
          },
          "inputWidgets": {},
          "nuid": "1eec7262-caaf-418f-a6fa-1bb3e25ef4cd",
          "showTitle": false,
          "title": ""
        },
        "id": "mpw6gdCU-0gK",
        "outputId": "719a661a-3166-48cc-c129-564af2a437e1"
      },
      "outputs": [
        {
          "output_type": "stream",
          "name": "stdout",
          "text": [
            "Out[278]: 0"
          ]
        }
      ],
      "source": [
        "spark.sql(\"\"\"\n",
        "\n",
        "    select distinct\n",
        "    patient_id\n",
        "    , enrollment_start_date\n",
        "    , enrollment_end_date\n",
        "\n",
        "    from enrollment_span_csv\n",
        "\n",
        "    where enrollment_start_date > enrollment_end_date\n",
        "\n",
        "\"\"\"\n",
        ").count()"
      ]
    },
    {
      "cell_type": "markdown",
      "metadata": {
        "application/vnd.databricks.v1+cell": {
          "cellMetadata": {
            "byteLimit": 2048000,
            "rowLimit": 10000
          },
          "inputWidgets": {},
          "nuid": "e80ceca3-b0da-46ee-897a-410cef4dca74",
          "showTitle": false,
          "title": ""
        },
        "id": "pdm-9p7W-0gK"
      },
      "source": [
        "### Duplicates\n",
        "\n",
        "- Make sure no duplicate rows exist"
      ]
    },
    {
      "cell_type": "code",
      "execution_count": null,
      "metadata": {
        "application/vnd.databricks.v1+cell": {
          "cellMetadata": {
            "byteLimit": 2048000,
            "rowLimit": 10000
          },
          "inputWidgets": {},
          "nuid": "df51e18d-cda2-4dd1-8fee-89028a2fec9a",
          "showTitle": false,
          "title": ""
        },
        "id": "cL3KW_if-0gK",
        "outputId": "c6c37cce-ee2f-48e0-e8a3-ea22be372595"
      },
      "outputs": [
        {
          "output_type": "stream",
          "name": "stdout",
          "text": [
            "Out[279]: 0"
          ]
        }
      ],
      "source": [
        "spark.sql(\"\"\"\n",
        "\n",
        "    select distinct\n",
        "    patient_id\n",
        "    , enrollment_start_date\n",
        "    , enrollment_end_date\n",
        "\n",
        "    from enrollment_span_csv\n",
        "\n",
        "    group by\n",
        "    patient_id\n",
        "    , enrollment_start_date\n",
        "    , enrollment_end_date\n",
        "\n",
        "    having count(*) > 1\n",
        "\n",
        "\"\"\"\n",
        ").count()"
      ]
    },
    {
      "cell_type": "markdown",
      "metadata": {
        "application/vnd.databricks.v1+cell": {
          "cellMetadata": {
            "byteLimit": 2048000,
            "rowLimit": 10000
          },
          "inputWidgets": {},
          "nuid": "bcc5b405-0aa6-4be3-84b2-0718c854f10b",
          "showTitle": false,
          "title": ""
        },
        "id": "9En2V8ql-0gL"
      },
      "source": [
        "### Min/Max Enrollment Dates\n",
        "\n",
        "- Check max/min enrollment dates"
      ]
    },
    {
      "cell_type": "code",
      "execution_count": null,
      "metadata": {
        "application/vnd.databricks.v1+cell": {
          "cellMetadata": {
            "byteLimit": 2048000,
            "rowLimit": 10000
          },
          "inputWidgets": {},
          "nuid": "b03a0cfe-4dff-4b0d-b5fe-f8be89de082b",
          "showTitle": false,
          "title": ""
        },
        "id": "GnRu2QXh-0gL",
        "outputId": "9ace9f9d-1434-4c09-ab44-27bf6dbc6e83"
      },
      "outputs": [
        {
          "output_type": "stream",
          "name": "stdout",
          "text": [
            "+--------------------------+--------------------------+------------------------+------------------------+\n|min(enrollment_start_date)|max(enrollment_start_date)|min(enrollment_end_date)|max(enrollment_end_date)|\n+--------------------------+--------------------------+------------------------+------------------------+\n|                2023-01-01|                2023-12-01|              2023-01-31|              2023-12-31|\n+--------------------------+--------------------------+------------------------+------------------------+\n\n"
          ]
        }
      ],
      "source": [
        "spark.sql(\"\"\"\n",
        "\n",
        "    select distinct\n",
        "    min(enrollment_start_date)\n",
        "    , max(enrollment_start_date)\n",
        "    , min(enrollment_end_date)\n",
        "    , max(enrollment_end_date)\n",
        "\n",
        "    from enrollment_span_csv\n",
        "\n",
        "\"\"\"\n",
        ").show()"
      ]
    },
    {
      "cell_type": "markdown",
      "metadata": {
        "application/vnd.databricks.v1+cell": {
          "cellMetadata": {
            "byteLimit": 2048000,
            "rowLimit": 10000
          },
          "inputWidgets": {},
          "nuid": "2e9f823c-cf7d-43e3-8d49-d7efa9c1caac",
          "showTitle": false,
          "title": ""
        },
        "id": "hGeNSFAm-0gL"
      },
      "source": [
        "## Outpatient Visits Content Checks"
      ]
    },
    {
      "cell_type": "code",
      "execution_count": null,
      "metadata": {
        "application/vnd.databricks.v1+cell": {
          "cellMetadata": {
            "byteLimit": 2048000,
            "rowLimit": 10000
          },
          "inputWidgets": {},
          "nuid": "52843e30-62a7-4dc9-9801-3247fbe9d433",
          "showTitle": false,
          "title": ""
        },
        "id": "vttM53af-0gL"
      },
      "outputs": [],
      "source": [
        "op_visits_clean.createOrReplaceTempView(\"op_visits_csv\")"
      ]
    },
    {
      "cell_type": "code",
      "execution_count": null,
      "metadata": {
        "application/vnd.databricks.v1+cell": {
          "cellMetadata": {
            "byteLimit": 2048000,
            "rowLimit": 10000
          },
          "inputWidgets": {},
          "nuid": "82e5fd8f-0fb6-4540-8ceb-7fdd492b834f",
          "showTitle": false,
          "title": ""
        },
        "id": "nWmagXUk-0gL"
      },
      "outputs": [],
      "source": [
        "ct_outpatient_visits.createOrReplaceTempView(\"outpatient_visits\")"
      ]
    },
    {
      "cell_type": "markdown",
      "metadata": {
        "application/vnd.databricks.v1+cell": {
          "cellMetadata": {
            "byteLimit": 2048000,
            "rowLimit": 10000
          },
          "inputWidgets": {},
          "nuid": "d62ac755-e21f-4948-aa69-d3f49873996e",
          "showTitle": false,
          "title": ""
        },
        "id": "19JcG07s-0gL"
      },
      "source": [
        "#### Get an example patient ID"
      ]
    },
    {
      "cell_type": "code",
      "execution_count": null,
      "metadata": {
        "application/vnd.databricks.v1+cell": {
          "cellMetadata": {
            "byteLimit": 2048000,
            "rowLimit": 10000
          },
          "inputWidgets": {},
          "nuid": "2d919050-8712-44c6-95f2-14aebcc810d4",
          "showTitle": false,
          "title": ""
        },
        "id": "DuQSj1uB-0gM",
        "outputId": "1ddf215f-3d7c-47c6-cde1-f3072df030ed"
      },
      "outputs": [
        {
          "output_type": "stream",
          "name": "stdout",
          "text": [
            "+----------+---------------------+-------------------+\n|patient_id|enrollment_start_date|enrollment_end_date|\n+----------+---------------------+-------------------+\n|    ID0001|           2023-01-01|         2023-03-31|\n|    ID0001|           2023-06-01|         2023-06-30|\n|    ID0001|           2023-08-01|         2023-08-31|\n|    ID0001|           2023-11-01|         2023-12-31|\n+----------+---------------------+-------------------+\n\n"
          ]
        }
      ],
      "source": [
        "spark.sql(\"\"\"\n",
        "\n",
        "    select *\n",
        "\n",
        "    from enrollment_span_csv\n",
        "\n",
        "    where patient_id = 'ID0001'\n",
        "\n",
        "\"\"\"\n",
        ").show()"
      ]
    },
    {
      "cell_type": "code",
      "execution_count": null,
      "metadata": {
        "application/vnd.databricks.v1+cell": {
          "cellMetadata": {
            "byteLimit": 2048000,
            "implicitDf": true,
            "rowLimit": 10000
          },
          "inputWidgets": {},
          "nuid": "332f8929-ac2d-4017-8067-043577b79377",
          "showTitle": false,
          "title": ""
        },
        "id": "KTWHaesT-0gM",
        "outputId": "530f8def-9826-4d47-eee3-98c9f82ba4e4"
      },
      "outputs": [
        {
          "output_type": "stream",
          "name": "stdout",
          "text": [
            "+----------+----------------------+----------+--------------------+\n|patient_id|outpatient_visit_count|visit_date|ct_outpatient_visits|\n+----------+----------------------+----------+--------------------+\n|    ID0001|                     4|2023-01-21|                13.0|\n|    ID0001|                     1|2023-01-25|                13.0|\n|    ID0001|                     2|2023-01-03|                13.0|\n|    ID0001|                     2|2023-01-15|                13.0|\n|    ID0001|                     2|2023-01-08|                13.0|\n|    ID0001|                     2|2023-01-09|                13.0|\n|    ID0001|                     1|2023-03-22|                 4.0|\n|    ID0001|                     3|2023-03-11|                 4.0|\n|    ID0001|                     3|2023-06-14|                 6.0|\n|    ID0001|                     2|2023-06-03|                 6.0|\n|    ID0001|                     1|2023-06-03|                 6.0|\n|    ID0001|                     4|2023-07-17|                 4.0|\n|    ID0001|                     3|2023-08-31|                 6.0|\n|    ID0001|                     3|2023-08-12|                 6.0|\n|    ID0001|                     1|2023-09-17|                 7.0|\n|    ID0001|                     2|2023-09-06|                 7.0|\n|    ID0001|                     4|2023-09-06|                 7.0|\n|    ID0001|                     2|2023-11-13|                 3.0|\n|    ID0001|                     1|2023-11-30|                 3.0|\n|    ID0001|                     2|2023-12-15|                 2.0|\n+----------+----------------------+----------+--------------------+\n\n"
          ]
        }
      ],
      "source": [
        "spark.sql(\"\"\"\n",
        "\n",
        "    select\n",
        "    *\n",
        "    , sum(outpatient_visit_count) over (partition by patient_id, date_trunc('MONTH', visit_date)) as ct_outpatient_visits\n",
        "\n",
        "    from op_visits_csv\n",
        "\n",
        "    where patient_id = 'ID0001'\n",
        "\n",
        "\"\"\"\n",
        ").show()"
      ]
    },
    {
      "cell_type": "markdown",
      "metadata": {
        "application/vnd.databricks.v1+cell": {
          "cellMetadata": {
            "byteLimit": 2048000,
            "rowLimit": 10000
          },
          "inputWidgets": {},
          "nuid": "0505ad2a-2121-4df2-98d0-9f80d4f54e3d",
          "showTitle": false,
          "title": ""
        },
        "id": "sDECPYdD-0gM"
      },
      "source": [
        "#### Check ct_outpatient_visits\n",
        "\n",
        "- Compare SQL output to python output"
      ]
    },
    {
      "cell_type": "code",
      "execution_count": null,
      "metadata": {
        "application/vnd.databricks.v1+cell": {
          "cellMetadata": {
            "byteLimit": 2048000,
            "implicitDf": true,
            "rowLimit": 10000
          },
          "inputWidgets": {},
          "nuid": "15c0fb9b-db2e-4a79-a616-e63b27c9c014",
          "showTitle": false,
          "title": ""
        },
        "id": "1sNFV28F-0gM",
        "outputId": "51932eda-16c7-490f-97b5-40a72b638f7a"
      },
      "outputs": [
        {
          "output_type": "stream",
          "name": "stdout",
          "text": [
            "+----------+---------------------+-------------------+--------------------+\n|patient_id|enrollment_start_date|enrollment_end_date|ct_outpatient_visits|\n+----------+---------------------+-------------------+--------------------+\n|    ID0015|           2023-02-01|         2023-02-28|                 0.0|\n|    ID0070|           2023-01-01|         2023-01-31|                 6.0|\n|    ID0118|           2023-10-01|         2023-12-31|                26.0|\n|    ID0138|           2023-01-01|         2023-11-30|               282.0|\n|    ID0222|           2023-08-01|         2023-12-31|                92.0|\n|    ID0276|           2023-05-01|         2023-06-30|                 6.0|\n|    ID0411|           2023-02-01|         2023-07-31|                 0.0|\n|    ID0419|           2023-09-01|         2023-12-31|                 0.0|\n|    ID0437|           2023-07-01|         2023-07-31|                 5.0|\n|    ID0456|           2023-02-01|         2023-04-30|                10.0|\n|    ID0477|           2023-03-01|         2023-04-30|                15.0|\n|    ID0489|           2023-12-01|         2023-12-31|                 3.0|\n|    ID0514|           2023-05-01|         2023-06-30|                 8.0|\n|    ID0623|           2023-05-01|         2023-07-31|                 0.0|\n|    ID0643|           2023-01-01|         2023-06-30|                 0.0|\n|    ID0714|           2023-09-01|         2023-10-31|                 7.0|\n|    ID0753|           2023-07-01|         2023-07-31|                 4.0|\n|    ID0786|           2023-09-01|         2023-10-31|                 7.0|\n|    ID0928|           2023-04-01|         2023-05-31|                 5.0|\n|    ID0981|           2023-01-01|         2023-01-31|                 0.0|\n+----------+---------------------+-------------------+--------------------+\nonly showing top 20 rows\n\n"
          ]
        }
      ],
      "source": [
        "spark.sql(\"\"\"\n",
        "\n",
        "    select distinct\n",
        "    enr.patient_id\n",
        "    , enrollment_start_date\n",
        "    , enrollment_end_date\n",
        "    , coalesce(sum(outpatient_visit_count), 0) as ct_outpatient_visits\n",
        "\n",
        "    from enrollment_span_csv enr\n",
        "\n",
        "    left join op_visits_csv op\n",
        "        on op.patient_id = enr.patient_id\n",
        "        and op.visit_date <= enr.enrollment_end_date\n",
        "        and op.visit_date >= enr.enrollment_start_date\n",
        "\n",
        "    group by\n",
        "    enr.patient_id\n",
        "    , enrollment_start_date\n",
        "    , enrollment_end_date\n",
        "\n",
        "\"\"\"\n",
        ").show()"
      ]
    },
    {
      "cell_type": "code",
      "execution_count": null,
      "metadata": {
        "application/vnd.databricks.v1+cell": {
          "cellMetadata": {
            "byteLimit": 2048000,
            "rowLimit": 10000
          },
          "inputWidgets": {},
          "nuid": "9125bab2-03c7-4ad1-8400-1056ee63c514",
          "showTitle": false,
          "title": ""
        },
        "id": "JmISLx16-0gM",
        "outputId": "1773f73c-6a60-4a46-a12a-cb9bc079ad8b"
      },
      "outputs": [
        {
          "output_type": "stream",
          "name": "stdout",
          "text": [
            "+---------------------+-------------------+----------+--------------------+\n|enrollment_start_date|enrollment_end_date|patient_id|ct_outpatient_visits|\n+---------------------+-------------------+----------+--------------------+\n|           2023-09-01|         2023-10-31|    ID0015|                 0.0|\n|           2023-06-01|         2023-06-30|    ID0015|                 0.0|\n|           2023-02-01|         2023-02-28|    ID0015|                 0.0|\n|           2023-04-01|         2023-04-30|    ID0015|                 0.0|\n+---------------------+-------------------+----------+--------------------+\n\n"
          ]
        }
      ],
      "source": [
        "spark.sql(\"\"\"\n",
        "\n",
        "    select *\n",
        "\n",
        "    from outpatient_visits\n",
        "\n",
        "    where patient_id = 'ID0015'\n",
        "\n",
        "\"\"\"\n",
        ").show()"
      ]
    },
    {
      "cell_type": "code",
      "execution_count": null,
      "metadata": {
        "application/vnd.databricks.v1+cell": {
          "cellMetadata": {
            "byteLimit": 2048000,
            "rowLimit": 10000
          },
          "inputWidgets": {},
          "nuid": "e85c0ad0-3c25-42c7-97c9-95836330c576",
          "showTitle": false,
          "title": ""
        },
        "id": "UnPDbGnq-0gN",
        "outputId": "4b5061f1-95c8-43cf-84cc-76b57d1e0cbf"
      },
      "outputs": [
        {
          "output_type": "stream",
          "name": "stdout",
          "text": [
            "+----------+----------------------+----------+\n|patient_id|outpatient_visit_count|visit_date|\n+----------+----------------------+----------+\n+----------+----------------------+----------+\n\n"
          ]
        }
      ],
      "source": [
        "spark.sql(\"\"\"\n",
        "\n",
        "    select *\n",
        "\n",
        "    from op_visits_csv\n",
        "\n",
        "    where patient_id = 'ID0015'\n",
        "\n",
        "\"\"\"\n",
        ").show()"
      ]
    },
    {
      "cell_type": "markdown",
      "metadata": {
        "application/vnd.databricks.v1+cell": {
          "cellMetadata": {
            "byteLimit": 2048000,
            "rowLimit": 10000
          },
          "inputWidgets": {},
          "nuid": "29924ab5-5db3-4d0b-ba4f-180e90b108b2",
          "showTitle": false,
          "title": ""
        },
        "id": "mD4C7K_R-0gN"
      },
      "source": [
        "## Days with Outpatient Visits Content Checks"
      ]
    },
    {
      "cell_type": "code",
      "execution_count": null,
      "metadata": {
        "application/vnd.databricks.v1+cell": {
          "cellMetadata": {
            "byteLimit": 2048000,
            "rowLimit": 10000
          },
          "inputWidgets": {},
          "nuid": "f4762f21-59a2-447c-9ee2-d15c1fd2affd",
          "showTitle": false,
          "title": ""
        },
        "id": "cIq7q8K8-0gN"
      },
      "outputs": [],
      "source": [
        "ct_days_with_outpatient_visit.createOrReplaceTempView(\"outpatient_days\")"
      ]
    },
    {
      "cell_type": "markdown",
      "metadata": {
        "application/vnd.databricks.v1+cell": {
          "cellMetadata": {
            "byteLimit": 2048000,
            "rowLimit": 10000
          },
          "inputWidgets": {},
          "nuid": "877dcd09-3974-4018-83e0-cc1cc53c74ee",
          "showTitle": false,
          "title": ""
        },
        "id": "omyuU_bN-0gN"
      },
      "source": [
        "### Check ct_days_with_outpatient_visit\n",
        "\n",
        "- Check output using SQL"
      ]
    },
    {
      "cell_type": "code",
      "execution_count": null,
      "metadata": {
        "application/vnd.databricks.v1+cell": {
          "cellMetadata": {
            "byteLimit": 2048000,
            "rowLimit": 10000
          },
          "inputWidgets": {},
          "nuid": "366680ed-8151-4fc8-950e-81f3f0370b6f",
          "showTitle": false,
          "title": ""
        },
        "id": "4NIm0s3E-0gN",
        "outputId": "d1530f3b-9892-45a5-b9e8-a415c3ae592e"
      },
      "outputs": [
        {
          "output_type": "stream",
          "name": "stdout",
          "text": [
            "+----------+---------------------+-------------------+-----------------------------+\n|patient_id|enrollment_start_date|enrollment_end_date|ct_days_with_outpatient_visit|\n+----------+---------------------+-------------------+-----------------------------+\n|    ID0786|           2023-09-01|         2023-10-31|                            4|\n|    ID0138|           2023-01-01|         2023-11-30|                           30|\n|    ID0928|           2023-04-01|         2023-05-31|                            3|\n|    ID0070|           2023-01-01|         2023-01-31|                            3|\n|    ID0714|           2023-09-01|         2023-10-31|                            3|\n|    ID0276|           2023-05-01|         2023-06-30|                            2|\n|    ID0118|           2023-10-01|         2023-12-31|                            4|\n|    ID0489|           2023-12-01|         2023-12-31|                            1|\n|    ID0456|           2023-02-01|         2023-04-30|                            4|\n|    ID0514|           2023-05-01|         2023-06-30|                            3|\n|    ID0222|           2023-08-01|         2023-12-31|                            5|\n|    ID0437|           2023-07-01|         2023-07-31|                            2|\n|    ID0477|           2023-03-01|         2023-04-30|                            4|\n|    ID0753|           2023-07-01|         2023-07-31|                            2|\n|    ID0828|           2023-01-01|         2023-02-28|                            3|\n|    ID0784|           2023-05-01|         2023-12-31|                           20|\n|    ID0297|           2023-12-01|         2023-12-31|                            3|\n|    ID0645|           2023-03-01|         2023-04-30|                            4|\n|    ID0529|           2023-03-01|         2023-03-31|                            3|\n|    ID0200|           2023-10-01|         2023-11-30|                            3|\n+----------+---------------------+-------------------+-----------------------------+\nonly showing top 20 rows\n\n"
          ]
        }
      ],
      "source": [
        "spark.sql(\"\"\"\n",
        "\n",
        "    select distinct\n",
        "    enr.patient_id\n",
        "    , enrollment_start_date\n",
        "    , enrollment_end_date\n",
        "    , count(distinct visit_date) as ct_days_with_outpatient_visit\n",
        "\n",
        "    from enrollment_span_csv enr\n",
        "\n",
        "    left join op_visits_csv op\n",
        "        on op.patient_id = enr.patient_id\n",
        "        and op.visit_date <= enr.enrollment_end_date\n",
        "        and op.visit_date >= enr.enrollment_start_date\n",
        "\n",
        "    group by\n",
        "    enr.patient_id\n",
        "    , enrollment_start_date\n",
        "    , enrollment_end_date\n",
        "\n",
        "    having sum(outpatient_visit_count) >= 1\n",
        "\n",
        "\"\"\"\n",
        ").show()"
      ]
    },
    {
      "cell_type": "code",
      "execution_count": null,
      "metadata": {
        "application/vnd.databricks.v1+cell": {
          "cellMetadata": {
            "byteLimit": 2048000,
            "rowLimit": 10000
          },
          "inputWidgets": {},
          "nuid": "99db01ee-d06a-4aab-a6d6-0365249f1e04",
          "showTitle": false,
          "title": ""
        },
        "id": "-2yWNOsW-0gN",
        "outputId": "524cd003-6f6a-4510-bf3e-71161d0fe26d"
      },
      "outputs": [
        {
          "output_type": "stream",
          "name": "stdout",
          "text": [
            "+----------+---------------------+-------------------+-----------------------------+\n|patient_id|enrollment_start_date|enrollment_end_date|ct_days_with_outpatient_visit|\n+----------+---------------------+-------------------+-----------------------------+\n|    ID0852|           2023-07-01|         2023-12-31|                           10|\n|    ID0852|           2023-02-01|         2023-03-31|                            3|\n+----------+---------------------+-------------------+-----------------------------+\n\n"
          ]
        }
      ],
      "source": [
        "spark.sql(\"\"\"\n",
        "\n",
        "    select *\n",
        "\n",
        "    from outpatient_days\n",
        "\n",
        "    where patient_id = 'ID0852'\n",
        "\n",
        "\"\"\"\n",
        ").show()"
      ]
    },
    {
      "cell_type": "code",
      "execution_count": null,
      "metadata": {
        "application/vnd.databricks.v1+cell": {
          "cellMetadata": {
            "byteLimit": 2048000,
            "rowLimit": 10000
          },
          "inputWidgets": {},
          "nuid": "229e4ba9-4ed1-43bd-a927-37127990e500",
          "showTitle": false,
          "title": ""
        },
        "id": "Y0KJc16W-0gO",
        "outputId": "ce9f4d15-4503-4a43-8361-972850c28809"
      },
      "outputs": [
        {
          "output_type": "stream",
          "name": "stdout",
          "text": [
            "+--------+\n|count(1)|\n+--------+\n|      10|\n+--------+\n\n"
          ]
        }
      ],
      "source": [
        "spark.sql(\"\"\"\n",
        "\n",
        "    select count(*)\n",
        "\n",
        "    from op_visits_csv\n",
        "\n",
        "    where patient_id = 'ID0852'\n",
        "    and date_trunc('MONTH', visit_date) >= '2023-07-01'\n",
        "    and date_trunc('MONTH', visit_date) <= '2023-12-31'\n",
        "\n",
        "\"\"\"\n",
        ").show()"
      ]
    },
    {
      "cell_type": "markdown",
      "metadata": {
        "application/vnd.databricks.v1+cell": {
          "cellMetadata": {
            "byteLimit": 2048000,
            "rowLimit": 10000
          },
          "inputWidgets": {},
          "nuid": "ddd09ead-c289-40a3-a618-0f06ba7b2e9e",
          "showTitle": false,
          "title": ""
        },
        "id": "ccewm6OT-0gO"
      },
      "source": [
        "### Verify patient IDs that didn't meet the criteria\n",
        "\n",
        "- The number of distinct days within an enrollment period (between enrollment_start_date and enrollment_end_date) when the patient had one or more outpatient visit"
      ]
    },
    {
      "cell_type": "code",
      "execution_count": null,
      "metadata": {
        "application/vnd.databricks.v1+cell": {
          "cellMetadata": {
            "byteLimit": 2048000,
            "implicitDf": true,
            "rowLimit": 10000
          },
          "inputWidgets": {},
          "nuid": "9c08d2a5-6a64-4aba-a59e-7c0e4f93d1aa",
          "showTitle": false,
          "title": ""
        },
        "id": "yoJQN1If-0gO",
        "outputId": "37644c64-69b9-4f8c-8971-d19522a0d738"
      },
      "outputs": [
        {
          "output_type": "stream",
          "name": "stdout",
          "text": [
            "+----------+\n|patient_id|\n+----------+\n|    ID0639|\n|    ID0795|\n|    ID0981|\n|    ID0207|\n|    ID0627|\n|    ID0815|\n|    ID0783|\n|    ID0507|\n|    ID0963|\n|    ID0107|\n|    ID0375|\n|    ID0079|\n|    ID0427|\n|    ID0979|\n|    ID0911|\n|    ID0691|\n|    ID0879|\n|    ID0607|\n|    ID0759|\n|    ID0203|\n+----------+\nonly showing top 20 rows\n\n"
          ]
        }
      ],
      "source": [
        "spark.sql(\"\"\"\n",
        "\n",
        "select distinct patient_id from outpatient_visits\n",
        "except\n",
        "select distinct patient_id from outpatient_days\n",
        "\n",
        "\"\"\"\n",
        ").show()"
      ]
    },
    {
      "cell_type": "code",
      "execution_count": null,
      "metadata": {
        "application/vnd.databricks.v1+cell": {
          "cellMetadata": {
            "byteLimit": 2048000,
            "implicitDf": true,
            "rowLimit": 10000
          },
          "inputWidgets": {},
          "nuid": "454ee1a1-7a86-4ad0-91f2-a6212a78fdff",
          "showTitle": false,
          "title": ""
        },
        "id": "KU6kSmnS-0gO",
        "outputId": "f027fb9e-ae79-42dc-9a0e-bcb739449c2d"
      },
      "outputs": [
        {
          "output_type": "stream",
          "name": "stdout",
          "text": [
            "+-------------------------+\n|sum(ct_outpatient_visits)|\n+-------------------------+\n|                      0.0|\n+-------------------------+\n\n"
          ]
        }
      ],
      "source": [
        "spark.sql(\"\"\"\n",
        "\n",
        "    select sum(ct_outpatient_visits)\n",
        "\n",
        "    from outpatient_visits\n",
        "\n",
        "    where patient_id in (\n",
        "\n",
        "        select distinct patient_id from outpatient_visits\n",
        "        except\n",
        "        select distinct patient_id from outpatient_days\n",
        "\n",
        "    )\n",
        "\n",
        "\"\"\"\n",
        ").show()"
      ]
    },
    {
      "cell_type": "code",
      "execution_count": null,
      "metadata": {
        "application/vnd.databricks.v1+cell": {
          "cellMetadata": {
            "byteLimit": 2048000,
            "implicitDf": true,
            "rowLimit": 10000
          },
          "inputWidgets": {},
          "nuid": "a61ffa2f-232e-4633-8292-2fde6b86c520",
          "showTitle": false,
          "title": ""
        },
        "id": "O4LQUjY9-0gP",
        "outputId": "95c88162-a8a8-4f2a-ee7e-e4407f4d5ef0"
      },
      "outputs": [
        {
          "output_type": "stream",
          "name": "stdout",
          "text": [
            "+----------+----------------------+----------+\n|patient_id|outpatient_visit_count|visit_date|\n+----------+----------------------+----------+\n+----------+----------------------+----------+\n\n"
          ]
        }
      ],
      "source": [
        "spark.sql(\"\"\"\n",
        "\n",
        "    select *\n",
        "\n",
        "    from op_visits_csv\n",
        "\n",
        "    where patient_id in (\n",
        "\n",
        "        select distinct patient_id from outpatient_visits\n",
        "        except\n",
        "        select distinct patient_id from outpatient_days\n",
        "\n",
        "    )\n",
        "\n",
        "\"\"\"\n",
        ").show()"
      ]
    },
    {
      "cell_type": "code",
      "execution_count": null,
      "metadata": {
        "application/vnd.databricks.v1+cell": {
          "cellMetadata": {
            "byteLimit": 2048000,
            "implicitDf": true,
            "rowLimit": 10000
          },
          "inputWidgets": {},
          "nuid": "88ef4dd3-e736-421f-ba19-b0ca7a21328b",
          "showTitle": false,
          "title": ""
        },
        "id": "UjjqZlHc-0gP",
        "outputId": "69146826-c67c-40a2-89c6-ab908dab92f6"
      },
      "outputs": [
        {
          "output_type": "stream",
          "name": "stdout",
          "text": [
            "+---------------------+-------------------+----------+--------------------+\n|enrollment_start_date|enrollment_end_date|patient_id|ct_outpatient_visits|\n+---------------------+-------------------+----------+--------------------+\n|           2023-06-01|         2023-06-30|    ID0647|                 0.0|\n|           2023-01-01|         2023-03-31|    ID0647|                 0.0|\n|           2023-11-01|         2023-11-30|    ID0647|                 0.0|\n|           2023-09-01|         2023-09-30|    ID0647|                 0.0|\n+---------------------+-------------------+----------+--------------------+\n\n"
          ]
        }
      ],
      "source": [
        "spark.sql(\"\"\"\n",
        "\n",
        "    select *\n",
        "\n",
        "    from outpatient_visits\n",
        "\n",
        "    where patient_id = 'ID0647'\n",
        "\n",
        "\"\"\"\n",
        ").show()"
      ]
    },
    {
      "cell_type": "code",
      "execution_count": null,
      "metadata": {
        "application/vnd.databricks.v1+cell": {
          "cellMetadata": {
            "byteLimit": 2048000,
            "implicitDf": true,
            "rowLimit": 10000
          },
          "inputWidgets": {},
          "nuid": "f23c5313-10fe-460a-b737-af7feaa71e1c",
          "showTitle": false,
          "title": ""
        },
        "id": "SUK_zJEk-0gP",
        "outputId": "7ae82cbb-723b-4dd3-9de4-16ef6d014ec1"
      },
      "outputs": [
        {
          "output_type": "stream",
          "name": "stdout",
          "text": [
            "+----------+----------------------+----------+\n|patient_id|outpatient_visit_count|visit_date|\n+----------+----------------------+----------+\n+----------+----------------------+----------+\n\n"
          ]
        }
      ],
      "source": [
        "spark.sql(\"\"\"\n",
        "\n",
        "    select *\n",
        "\n",
        "    from op_visits_csv\n",
        "\n",
        "    where patient_id = 'ID0647'\n",
        "\n",
        "\"\"\"\n",
        ").show()"
      ]
    },
    {
      "cell_type": "code",
      "execution_count": null,
      "metadata": {
        "application/vnd.databricks.v1+cell": {
          "cellMetadata": {
            "byteLimit": 2048000,
            "rowLimit": 10000
          },
          "inputWidgets": {},
          "nuid": "618ce9d7-aa0e-4c17-ac16-35106d26ddd2",
          "showTitle": false,
          "title": ""
        },
        "id": "Nz_-YJQo-0gP"
      },
      "outputs": [],
      "source": []
    }
  ],
  "metadata": {
    "application/vnd.databricks.v1+notebook": {
      "dashboards": [],
      "environmentMetadata": null,
      "language": "python",
      "notebookMetadata": {
        "mostRecentlyExecutedCommandWithImplicitDF": {
          "commandId": 2980598138653646,
          "dataframes": [
            "_sqldf"
          ]
        },
        "pythonIndentUnit": 4
      },
      "notebookName": "Untitled Notebook 2024-06-06",
      "widgets": {}
    },
    "colab": {
      "provenance": [],
      "toc_visible": true
    }
  },
  "nbformat": 4,
  "nbformat_minor": 0
}